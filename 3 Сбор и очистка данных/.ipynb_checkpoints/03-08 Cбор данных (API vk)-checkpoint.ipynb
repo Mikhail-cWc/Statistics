{
 "cells": [
  {
   "cell_type": "markdown",
   "id": "03a93bd9",
   "metadata": {},
   "source": [
    "# Сбор данных, API"
   ]
  },
  {
   "cell_type": "markdown",
   "id": "4e7525c9",
   "metadata": {},
   "source": [
    "## 1. Доступ к API vk"
   ]
  },
  {
   "cell_type": "markdown",
   "id": "3874379f",
   "metadata": {},
   "source": [
    "51568202 - id приложения в Вк"
   ]
  },
  {
   "cell_type": "code",
   "execution_count": 1,
   "id": "25f8f386",
   "metadata": {},
   "outputs": [],
   "source": [
    "# Версия ипользуемого API\n",
    "version = '5.131'\n",
    "\n",
    "# Подгружаем токен из файлика на пк\n",
    "with open('token.txt') as f:\n",
    "    token = f.read()"
   ]
  },
  {
   "cell_type": "code",
   "execution_count": 35,
   "id": "3e73b45f",
   "metadata": {},
   "outputs": [],
   "source": [
    "import requests\n",
    "from tqdm import tqdm_notebook\n",
    "import time"
   ]
  },
  {
   "cell_type": "code",
   "execution_count": 15,
   "id": "0c2609d8",
   "metadata": {},
   "outputs": [],
   "source": [
    "method = 'users.get'\n",
    "parameters = 'user_ids=187181904'\n",
    "url = 'https://api.vk.com/method/' + method + \\\n",
    "'?' + parameters + '&v=' + version + '&access_token=' + token"
   ]
  },
  {
   "cell_type": "code",
   "execution_count": 16,
   "id": "ebe42b29",
   "metadata": {},
   "outputs": [],
   "source": [
    "response = requests.get(url)"
   ]
  },
  {
   "cell_type": "code",
   "execution_count": 22,
   "id": "8eb59c76",
   "metadata": {},
   "outputs": [
    {
     "data": {
      "text/plain": [
       "dict"
      ]
     },
     "execution_count": 22,
     "metadata": {},
     "output_type": "execute_result"
    }
   ],
   "source": [
    "type(response.json())"
   ]
  },
  {
   "cell_type": "code",
   "execution_count": 20,
   "id": "c1eb0234",
   "metadata": {},
   "outputs": [
    {
     "data": {
      "text/plain": [
       "'Михаил'"
      ]
     },
     "execution_count": 20,
     "metadata": {},
     "output_type": "execute_result"
    }
   ],
   "source": [
    "response.json()['response'][0]['first_name']"
   ]
  },
  {
   "cell_type": "code",
   "execution_count": 23,
   "id": "db459a4b",
   "metadata": {},
   "outputs": [],
   "source": [
    "from typing import Dict\n",
    "\n",
    "def vk_download(method: str, parameters: str) -> Dict[any, any]:\n",
    "    url = 'https://api.vk.com/method/' + method + \\\n",
    "    '?' + parameters + '&v=' + version + '&access_token=' + token\n",
    "    response = requests.get(url)\n",
    "    return response.json()"
   ]
  },
  {
   "cell_type": "code",
   "execution_count": 27,
   "id": "75b390da",
   "metadata": {},
   "outputs": [
    {
     "data": {
      "text/plain": [
       "{'response': [{'id': 187181904,\n",
       "   'bdate': '21.6.2003',\n",
       "   'city': {'id': 1, 'title': 'Москва'},\n",
       "   'first_name': 'Михаил',\n",
       "   'last_name': 'Копылов',\n",
       "   'can_access_closed': True,\n",
       "   'is_closed': False}]}"
      ]
     },
     "execution_count": 27,
     "metadata": {},
     "output_type": "execute_result"
    }
   ],
   "source": [
    "vk_download('users.get','user_ids=187181904&fields=bdate,city')"
   ]
  },
  {
   "cell_type": "markdown",
   "id": "d2555f49",
   "metadata": {},
   "source": [
    " ## 2. Хмм"
   ]
  },
  {
   "cell_type": "markdown",
   "id": "251392f3",
   "metadata": {},
   "source": [
    "id_group = \"ooioioioioioo\"\n",
    "\n",
    "https://vk.com/ooioioioioioo"
   ]
  },
  {
   "cell_type": "markdown",
   "id": "0cfdc2d4",
   "metadata": {},
   "source": [
    "Гипотеза в том, что людям нравятся цитаты с местоимениями и их часто лайкают и репостят. Обезличенные цитаты меньше любят"
   ]
  },
  {
   "cell_type": "code",
   "execution_count": 71,
   "id": "beb9ec2a",
   "metadata": {},
   "outputs": [
    {
     "data": {
      "text/plain": [
       "100"
      ]
     },
     "execution_count": 71,
     "metadata": {},
     "output_type": "execute_result"
    }
   ],
   "source": [
    "group_id = '-26610299'\n",
    "wall = vk_download('wall.get', 'owner_id='+group_id+'&count=100')['response']\n",
    "len(wall['items'])"
   ]
  },
  {
   "cell_type": "code",
   "execution_count": 47,
   "id": "66999577",
   "metadata": {},
   "outputs": [
    {
     "data": {
      "text/plain": [
       "11202"
      ]
     },
     "execution_count": 47,
     "metadata": {},
     "output_type": "execute_result"
    }
   ],
   "source": [
    "wall['count']"
   ]
  },
  {
   "cell_type": "code",
   "execution_count": 48,
   "id": "58275af6",
   "metadata": {},
   "outputs": [
    {
     "data": {
      "text/plain": [
       "20"
      ]
     },
     "execution_count": 48,
     "metadata": {},
     "output_type": "execute_result"
    }
   ],
   "source": [
    "len(wall['items'])"
   ]
  },
  {
   "cell_type": "markdown",
   "id": "0e11c320",
   "metadata": {},
   "source": [
    "Максимум за 1 запрос можно подгрузить 100 постов, поэтому можно использовать цикл со смещением (`offset`).\n",
    "Заметка: ВК разрешает делать 3 запроса в секунду, если сделаем больше, то нас забанит, поэтому `time.sleep(1)` наш выход"
   ]
  },
  {
   "cell_type": "code",
   "execution_count": 49,
   "id": "018439a8",
   "metadata": {},
   "outputs": [
    {
     "data": {
      "text/plain": [
       "112"
      ]
     },
     "execution_count": 49,
     "metadata": {},
     "output_type": "execute_result"
    }
   ],
   "source": [
    "n = wall['count']\n",
    "n//100 # Кол-во запросов"
   ]
  },
  {
   "cell_type": "code",
   "execution_count": 72,
   "id": "26c4fe09",
   "metadata": {},
   "outputs": [
    {
     "name": "stderr",
     "output_type": "stream",
     "text": [
      "C:\\Users\\misha\\AppData\\Local\\Temp/ipykernel_21632/505291332.py:7: TqdmDeprecationWarning: This function will be removed in tqdm==5.0.0\n",
      "Please use `tqdm.notebook.tqdm` instead of `tqdm.tqdm_notebook`\n",
      "  for i in tqdm_notebook(range(0, 1000, 100)):\n"
     ]
    },
    {
     "data": {
      "application/vnd.jupyter.widget-view+json": {
       "model_id": "10443113920b4c6696addfbe4f6b30c1",
       "version_major": 2,
       "version_minor": 0
      },
      "text/plain": [
       "  0%|          | 0/10 [00:00<?, ?it/s]"
      ]
     },
     "metadata": {},
     "output_type": "display_data"
    }
   ],
   "source": [
    "infa = {\n",
    "    'id':[],\n",
    "    'text':[],\n",
    "    'likes':[]\n",
    "}\n",
    "\n",
    "for i in tqdm_notebook(range(0, 1000, 100)):\n",
    "    time.sleep(0.4)\n",
    "    wall = vk_download('wall.get', 'owner_id='+group_id+'&count=100&offset='+str(i))['response']['items']\n",
    "    infa['id'].extend([item['id'] for item in wall])\n",
    "    infa['likes'].extend([item['likes']['count'] for item in wall])\n",
    "    infa['text'].extend([item['text'] for item in wall])"
   ]
  },
  {
   "cell_type": "code",
   "execution_count": 73,
   "id": "90048e09",
   "metadata": {},
   "outputs": [
    {
     "data": {
      "text/plain": [
       "1000"
      ]
     },
     "execution_count": 73,
     "metadata": {},
     "output_type": "execute_result"
    }
   ],
   "source": [
    "len(infa['id'])"
   ]
  },
  {
   "cell_type": "code",
   "execution_count": 74,
   "id": "673b8bd9",
   "metadata": {},
   "outputs": [],
   "source": [
    "import pandas as pd\n",
    "\n",
    "df=pd.DataFrame(infa)"
   ]
  },
  {
   "cell_type": "code",
   "execution_count": 75,
   "id": "0781b7be",
   "metadata": {},
   "outputs": [
    {
     "data": {
      "text/html": [
       "<div>\n",
       "<style scoped>\n",
       "    .dataframe tbody tr th:only-of-type {\n",
       "        vertical-align: middle;\n",
       "    }\n",
       "\n",
       "    .dataframe tbody tr th {\n",
       "        vertical-align: top;\n",
       "    }\n",
       "\n",
       "    .dataframe thead th {\n",
       "        text-align: right;\n",
       "    }\n",
       "</style>\n",
       "<table border=\"1\" class=\"dataframe\">\n",
       "  <thead>\n",
       "    <tr style=\"text-align: right;\">\n",
       "      <th></th>\n",
       "      <th>id</th>\n",
       "      <th>text</th>\n",
       "      <th>likes</th>\n",
       "    </tr>\n",
       "  </thead>\n",
       "  <tbody>\n",
       "    <tr>\n",
       "      <th>0</th>\n",
       "      <td>55022</td>\n",
       "      <td>Так, друзья! Я решила присоединиться к платфор...</td>\n",
       "      <td>27</td>\n",
       "    </tr>\n",
       "    <tr>\n",
       "      <th>1</th>\n",
       "      <td>55229</td>\n",
       "      <td>…если запрещается откровенно высказывать свое ...</td>\n",
       "      <td>168</td>\n",
       "    </tr>\n",
       "    <tr>\n",
       "      <th>2</th>\n",
       "      <td>55228</td>\n",
       "      <td>Меня больше ничего так не бесит, когда я вижу ...</td>\n",
       "      <td>118</td>\n",
       "    </tr>\n",
       "    <tr>\n",
       "      <th>3</th>\n",
       "      <td>55227</td>\n",
       "      <td>Пока вы не научитесь управлять веслами, беспол...</td>\n",
       "      <td>247</td>\n",
       "    </tr>\n",
       "    <tr>\n",
       "      <th>4</th>\n",
       "      <td>55224</td>\n",
       "      <td>Завтра будет лучше, чем вчера. \\n\\nНаша кредит...</td>\n",
       "      <td>6</td>\n",
       "    </tr>\n",
       "  </tbody>\n",
       "</table>\n",
       "</div>"
      ],
      "text/plain": [
       "      id                                               text  likes\n",
       "0  55022  Так, друзья! Я решила присоединиться к платфор...     27\n",
       "1  55229  …если запрещается откровенно высказывать свое ...    168\n",
       "2  55228  Меня больше ничего так не бесит, когда я вижу ...    118\n",
       "3  55227  Пока вы не научитесь управлять веслами, беспол...    247\n",
       "4  55224  Завтра будет лучше, чем вчера. \\n\\nНаша кредит...      6"
      ]
     },
     "execution_count": 75,
     "metadata": {},
     "output_type": "execute_result"
    }
   ],
   "source": [
    "df.head()"
   ]
  },
  {
   "cell_type": "code",
   "execution_count": 76,
   "id": "6c0af366",
   "metadata": {},
   "outputs": [
    {
     "data": {
      "text/plain": [
       "<AxesSubplot:>"
      ]
     },
     "execution_count": 76,
     "metadata": {},
     "output_type": "execute_result"
    },
    {
     "data": {
      "image/png": "[encoded data removed]",
      "text/plain": [
       "<Figure size 432x288 with 1 Axes>"
      ]
     },
     "metadata": {
      "needs_background": "light"
     },
     "output_type": "display_data"
    }
   ],
   "source": [
    "df.likes.hist(bins=25)"
   ]
  },
  {
   "cell_type": "code",
   "execution_count": 77,
   "id": "ac1f0113",
   "metadata": {},
   "outputs": [],
   "source": [
    "df.to_csv('wise.tsv', sep='\\t', index=None)"
   ]
  },
  {
   "cell_type": "markdown",
   "id": "47e8cfd9",
   "metadata": {},
   "source": [
    "#### По аналогии можно скачать интересующие нам данные"
   ]
  },
  {
   "cell_type": "code",
   "execution_count": null,
   "id": "288ba2d0",
   "metadata": {},
   "outputs": [],
   "source": []
  }
 ],
 "metadata": {
  "kernelspec": {
   "display_name": "Python 3 (ipykernel)",
   "language": "python",
   "name": "python3"
  },
  "language_info": {
   "codemirror_mode": {
    "name": "ipython",
    "version": 3
   },
   "file_extension": ".py",
   "mimetype": "text/x-python",
   "name": "python",
   "nbconvert_exporter": "python",
   "pygments_lexer": "ipython3",
   "version": "3.9.7"
  }
 },
 "nbformat": 4,
 "nbformat_minor": 5
}
