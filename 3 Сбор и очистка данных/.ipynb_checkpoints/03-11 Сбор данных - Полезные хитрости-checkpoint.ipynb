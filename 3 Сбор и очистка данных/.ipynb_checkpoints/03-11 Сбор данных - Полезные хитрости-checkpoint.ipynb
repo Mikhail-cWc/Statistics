{
 "cells": [
  {
   "cell_type": "markdown",
   "id": "a787ab1c",
   "metadata": {},
   "source": [
    "# Сбор данных: полезности"
   ]
  },
  {
   "cell_type": "markdown",
   "id": "9b42e8ab",
   "metadata": {},
   "source": [
    "### 1. НЕ СТЕСНЯЙСЯ ПОЛЬЗОВАТЬСЯ `try - except`"
   ]
  },
  {
   "cell_type": "code",
   "execution_count": 1,
   "id": "b1a07283",
   "metadata": {},
   "outputs": [
    {
     "name": "stdout",
     "output_type": "stream",
     "text": [
      "0.0\n",
      "0.6931471805599453\n"
     ]
    },
    {
     "ename": "ValueError",
     "evalue": "math domain error",
     "output_type": "error",
     "traceback": [
      "\u001b[1;31m---------------------------------------------------------------------------\u001b[0m",
      "\u001b[1;31mValueError\u001b[0m                                Traceback (most recent call last)",
      "\u001b[1;32m~\\AppData\\Local\\Temp/ipykernel_22692/2723321281.py\u001b[0m in \u001b[0;36m<module>\u001b[1;34m\u001b[0m\n\u001b[0;32m      3\u001b[0m \u001b[0ma\u001b[0m \u001b[1;33m=\u001b[0m \u001b[1;33m[\u001b[0m\u001b[1;36m1\u001b[0m\u001b[1;33m,\u001b[0m \u001b[1;36m2\u001b[0m\u001b[1;33m,\u001b[0m \u001b[1;33m-\u001b[0m\u001b[1;36m3\u001b[0m\u001b[1;33m,\u001b[0m \u001b[1;33m-\u001b[0m\u001b[1;36m5\u001b[0m\u001b[1;33m,\u001b[0m \u001b[1;36m5\u001b[0m\u001b[1;33m]\u001b[0m\u001b[1;33m\u001b[0m\u001b[1;33m\u001b[0m\u001b[0m\n\u001b[0;32m      4\u001b[0m \u001b[1;32mfor\u001b[0m \u001b[0mitem\u001b[0m \u001b[1;32min\u001b[0m \u001b[0ma\u001b[0m\u001b[1;33m:\u001b[0m\u001b[1;33m\u001b[0m\u001b[1;33m\u001b[0m\u001b[0m\n\u001b[1;32m----> 5\u001b[1;33m     \u001b[0mprint\u001b[0m\u001b[1;33m(\u001b[0m\u001b[0mlog\u001b[0m\u001b[1;33m(\u001b[0m\u001b[0mitem\u001b[0m\u001b[1;33m)\u001b[0m\u001b[1;33m)\u001b[0m\u001b[1;33m\u001b[0m\u001b[1;33m\u001b[0m\u001b[0m\n\u001b[0m",
      "\u001b[1;31mValueError\u001b[0m: math domain error"
     ]
    }
   ],
   "source": [
    "from math import log\n",
    "\n",
    "a = [1, 2, -3, -5, 5]\n",
    "for item in a:\n",
    "    print(log(item))"
   ]
  },
  {
   "cell_type": "code",
   "execution_count": 2,
   "id": "149af144",
   "metadata": {},
   "outputs": [
    {
     "name": "stdout",
     "output_type": "stream",
     "text": [
      "0.0\n",
      "0.6931471805599453\n",
      "Error\n",
      "Error\n",
      "1.6094379124341003\n"
     ]
    }
   ],
   "source": [
    "from math import log\n",
    "\n",
    "a = [1, 2, -3, -5, 5]\n",
    "for item in a:\n",
    "    try:\n",
    "        print(log(item))\n",
    "    except:\n",
    "        print('Error')"
   ]
  },
  {
   "cell_type": "markdown",
   "id": "420036f4",
   "metadata": {},
   "source": [
    "Предположим, что мы всю ночь парсили данные с сайта, а на утро узнаём, что на 123 итерации выскачила ошибка, которую мы не обрабатывали. Грусть и тоска(\n",
    "\n",
    "С помощью `try-except` мы могли бы проигнорировать ошибку и парсить дальше"
   ]
  },
  {
   "cell_type": "markdown",
   "id": "ab81059b",
   "metadata": {},
   "source": [
    "### 2. pd.read_html"
   ]
  },
  {
   "cell_type": "markdown",
   "id": "b60d59f3",
   "metadata": {},
   "source": [
    "Если на странице, которую мы парсим, среди тегов `tr` и `td` прячется таблица, чаще всего можно забрать её себез без написания цикла, который будет перебирать все столбцы и строки. Используем `pd.read_html`"
   ]
  },
  {
   "cell_type": "code",
   "execution_count": 8,
   "id": "09032d19",
   "metadata": {},
   "outputs": [
    {
     "data": {
      "text/html": [
       "<div>\n",
       "<style scoped>\n",
       "    .dataframe tbody tr th:only-of-type {\n",
       "        vertical-align: middle;\n",
       "    }\n",
       "\n",
       "    .dataframe tbody tr th {\n",
       "        vertical-align: top;\n",
       "    }\n",
       "\n",
       "    .dataframe thead th {\n",
       "        text-align: right;\n",
       "    }\n",
       "</style>\n",
       "<table border=\"1\" class=\"dataframe\">\n",
       "  <thead>\n",
       "    <tr style=\"text-align: right;\">\n",
       "      <th></th>\n",
       "      <th>Цифр. код</th>\n",
       "      <th>Букв. код</th>\n",
       "      <th>Единиц</th>\n",
       "      <th>Валюта</th>\n",
       "      <th>Курс</th>\n",
       "    </tr>\n",
       "  </thead>\n",
       "  <tbody>\n",
       "    <tr>\n",
       "      <th>0</th>\n",
       "      <td>36</td>\n",
       "      <td>AUD</td>\n",
       "      <td>1</td>\n",
       "      <td>Австралийский доллар</td>\n",
       "      <td>504031</td>\n",
       "    </tr>\n",
       "    <tr>\n",
       "      <th>1</th>\n",
       "      <td>944</td>\n",
       "      <td>AZN</td>\n",
       "      <td>1</td>\n",
       "      <td>Азербайджанский манат</td>\n",
       "      <td>440548</td>\n",
       "    </tr>\n",
       "    <tr>\n",
       "      <th>2</th>\n",
       "      <td>51</td>\n",
       "      <td>AMD</td>\n",
       "      <td>100</td>\n",
       "      <td>Армянских драмов</td>\n",
       "      <td>192359</td>\n",
       "    </tr>\n",
       "    <tr>\n",
       "      <th>3</th>\n",
       "      <td>933</td>\n",
       "      <td>BYN</td>\n",
       "      <td>1</td>\n",
       "      <td>Белорусский рубль</td>\n",
       "      <td>267304</td>\n",
       "    </tr>\n",
       "    <tr>\n",
       "      <th>4</th>\n",
       "      <td>975</td>\n",
       "      <td>BGN</td>\n",
       "      <td>1</td>\n",
       "      <td>Болгарский лев</td>\n",
       "      <td>404129</td>\n",
       "    </tr>\n",
       "  </tbody>\n",
       "</table>\n",
       "</div>"
      ],
      "text/plain": [
       "   Цифр. код Букв. код  Единиц                 Валюта    Курс\n",
       "0         36       AUD       1   Австралийский доллар  504031\n",
       "1        944       AZN       1  Азербайджанский манат  440548\n",
       "2         51       AMD     100       Армянских драмов  192359\n",
       "3        933       BYN       1      Белорусский рубль  267304\n",
       "4        975       BGN       1         Болгарский лев  404129"
      ]
     },
     "execution_count": 8,
     "metadata": {},
     "output_type": "execute_result"
    }
   ],
   "source": [
    "import pandas as pd\n",
    "\n",
    "df = pd.read_html('https://cbr.ru/currency_base/daily/')[0]\n",
    "df.head()"
   ]
  },
  {
   "cell_type": "markdown",
   "id": "0453b89a",
   "metadata": {},
   "source": [
    "### 3. ИСПОЛЬЗУЙ ПАКЕТ tqdm"
   ]
  },
  {
   "cell_type": "markdown",
   "id": "6f550d24",
   "metadata": {},
   "source": [
    "Чтобы посмотреть прогресс работы"
   ]
  },
  {
   "cell_type": "code",
   "execution_count": 9,
   "id": "4593bd66",
   "metadata": {},
   "outputs": [
    {
     "name": "stderr",
     "output_type": "stream",
     "text": [
      "C:\\Users\\misha\\AppData\\Local\\Temp/ipykernel_22692/2357310237.py:6: TqdmDeprecationWarning: This function will be removed in tqdm==5.0.0\n",
      "Please use `tqdm.notebook.tqdm` instead of `tqdm.tqdm_notebook`\n",
      "  for i in tqdm_notebook(a):\n"
     ]
    },
    {
     "data": {
      "application/vnd.jupyter.widget-view+json": {
       "model_id": "fe9910eb5829496daed3af1e78d76e1a",
       "version_major": 2,
       "version_minor": 0
      },
      "text/plain": [
       "  0%|          | 0/15 [00:00<?, ?it/s]"
      ]
     },
     "metadata": {},
     "output_type": "display_data"
    }
   ],
   "source": [
    "from tqdm import tqdm_notebook\n",
    "import time\n",
    "\n",
    "a = list(range(15))\n",
    "\n",
    "for i in tqdm_notebook(a):\n",
    "    time.sleep(1)"
   ]
  },
  {
   "cell_type": "markdown",
   "id": "4191d33f",
   "metadata": {},
   "source": [
    "### 4. Распараллеливание"
   ]
  },
  {
   "cell_type": "markdown",
   "id": "eca70afc",
   "metadata": {},
   "source": [
    "Если сервер не очень настроен вас банить, можно распаралелить свои запросы к нему. Самый простой способ это сделать - библиотека `joblib`"
   ]
  },
  {
   "cell_type": "code",
   "execution_count": 18,
   "id": "874e34d8",
   "metadata": {},
   "outputs": [
    {
     "name": "stderr",
     "output_type": "stream",
     "text": [
      "C:\\Users\\misha\\AppData\\Local\\Temp/ipykernel_22692/2487691040.py:10: TqdmDeprecationWarning: This function will be removed in tqdm==5.0.0\n",
      "Please use `tqdm.notebook.tqdm` instead of `tqdm.tqdm_notebook`\n",
      "  for item in tqdm_notebook(range(1000000))\n"
     ]
    },
    {
     "data": {
      "application/vnd.jupyter.widget-view+json": {
       "model_id": "23e37b42b6c443a48e74568aab4538bb",
       "version_major": 2,
       "version_minor": 0
      },
      "text/plain": [
       "  0%|          | 0/1000000 [00:00<?, ?it/s]"
      ]
     },
     "metadata": {},
     "output_type": "display_data"
    }
   ],
   "source": [
    "from joblib import Parallel, delayed\n",
    "from tqdm import tqdm_notebook\n",
    "\n",
    "def func(x):\n",
    "    return x**2\n",
    "\n",
    "nj = -1 # паралель на все ядра\n",
    "result = Parallel(n_jobs=nj)(\n",
    "        delayed(func)(item) # Какую функцию распараллеить\n",
    "        for item in tqdm_notebook(range(1000000)) # На какие данные\n",
    ")\n"
   ]
  },
  {
   "cell_type": "markdown",
   "id": "33e257b6",
   "metadata": {},
   "source": [
    "### 5. selenium без браузера"
   ]
  },
  {
   "cell_type": "markdown",
   "id": "00ad7d33",
   "metadata": {},
   "source": [
    "Селениум можно настроить так, чтобы физически браузер не открывался"
   ]
  },
  {
   "cell_type": "code",
   "execution_count": 23,
   "id": "58f18cbd",
   "metadata": {},
   "outputs": [],
   "source": [
    "from selenium import webdriver\n",
    "from selenium.webdriver.chrome.options import Options\n",
    "\n",
    "options = Options()\n",
    "options.add_argument('-headless')\n",
    "driver = webdriver.Chrome(options=options)\n",
    "\n",
    "ref = 'http://google.com'\n",
    "\n",
    "driver.get(ref)\n",
    "\n",
    "driver.close()"
   ]
  },
  {
   "cell_type": "markdown",
   "id": "7580b0ab",
   "metadata": {},
   "source": [
    "### Ещё полезные пункты"
   ]
  },
  {
   "cell_type": "markdown",
   "id": "a8ab597f",
   "metadata": {},
   "source": [
    "- Сохраняйте то, что парсите по мере скачки! Прямо внутрь цикла добавьте код, который сохраняет файл\n",
    "- Когда код упал на каком-то месте, нет смысла его запускать с самого начала, есть вариант начать с места падения\n",
    "- Добавлять цикл для обхода ссылок внутрь функции - плохая идея. Предположим, что надо обойти 100 ссылок. Функция должна вернуть на выход объекты, которые скачались. Она берёт и падает на 50 объекте. Конечно же то, что уже было скачано, функция не возвращает. Всё, что вы скачали - пропало. Потому что внутри функции своё пространство имён. Если бы вы делали это циклом без функции, то можно было бы сохранить первые 50 объектов, которые уже лежат внутри листа, а потом продолжить скачку\n",
    "- Можно ориентироваться на html-страничке с помощью `xpath`. Он предназначен для того, чтобы внутри html-странички можно было быстро находить какие-то элементы\n",
    "- ДОКУМЕНТАЦИЯ НАШЕ ВСЁ"
   ]
  }
 ],
 "metadata": {
  "kernelspec": {
   "display_name": "Python 3 (ipykernel)",
   "language": "python",
   "name": "python3"
  },
  "language_info": {
   "codemirror_mode": {
    "name": "ipython",
    "version": 3
   },
   "file_extension": ".py",
   "mimetype": "text/x-python",
   "name": "python",
   "nbconvert_exporter": "python",
   "pygments_lexer": "ipython3",
   "version": "3.9.7"
  }
 },
 "nbformat": 4,
 "nbformat_minor": 5
}
