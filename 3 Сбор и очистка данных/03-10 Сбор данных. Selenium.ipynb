{
 "cells": [
  {
   "cell_type": "markdown",
   "id": "f3aa9890",
   "metadata": {},
   "source": [
    "# Сбор данных. Selenium"
   ]
  },
  {
   "cell_type": "markdown",
   "id": "38f4de4f",
   "metadata": {},
   "source": [
    "Это инструмент для роботизированного управления браузером."
   ]
  },
  {
   "cell_type": "code",
   "execution_count": 4,
   "id": "e05a3937",
   "metadata": {},
   "outputs": [
    {
     "name": "stderr",
     "output_type": "stream",
     "text": [
      "C:\\Users\\misha\\AppData\\Local\\Temp/ipykernel_17552/837023616.py:3: DeprecationWarning: executable_path has been deprecated, please pass in a Service object\n",
      "  driver = webdriver.Chrome('./chromedriver.exe')\n"
     ]
    }
   ],
   "source": [
    "from selenium import webdriver\n",
    "\n",
    "driver = webdriver.Chrome('./chromedriver.exe')"
   ]
  },
  {
   "cell_type": "code",
   "execution_count": 5,
   "id": "1fa4cb8d",
   "metadata": {},
   "outputs": [],
   "source": [
    "ref = 'http://google.com'\n",
    "driver.get(ref)"
   ]
  },
  {
   "cell_type": "code",
   "execution_count": 10,
   "id": "6a75d8c4",
   "metadata": {},
   "outputs": [],
   "source": [
    "# Находим элемент поисковой строки (html)\n",
    "stroka = driver.find_element(by='name', value='q')"
   ]
  },
  {
   "cell_type": "code",
   "execution_count": 11,
   "id": "5b3b7d0c",
   "metadata": {},
   "outputs": [
    {
     "data": {
      "text/plain": [
       "<selenium.webdriver.remote.webelement.WebElement (session=\"dc89463b31f7f3840708c5ead37bc7e6\", element=\"ca23b772-2c2b-40e2-8a72-0ccc07af463e\")>"
      ]
     },
     "execution_count": 11,
     "metadata": {},
     "output_type": "execute_result"
    }
   ],
   "source": [
    "stroka"
   ]
  },
  {
   "cell_type": "code",
   "execution_count": 12,
   "id": "918fc388",
   "metadata": {},
   "outputs": [],
   "source": [
    "stroka.click()"
   ]
  },
  {
   "cell_type": "code",
   "execution_count": 13,
   "id": "290d03e6",
   "metadata": {},
   "outputs": [],
   "source": [
    "stroka.send_keys('VK')"
   ]
  },
  {
   "cell_type": "code",
   "execution_count": 15,
   "id": "17baab64",
   "metadata": {},
   "outputs": [],
   "source": [
    "button = driver.find_element(by='name', value='btnK')\n",
    "button.click()"
   ]
  },
  {
   "cell_type": "code",
   "execution_count": 35,
   "id": "8b4bb781",
   "metadata": {},
   "outputs": [],
   "source": [
    "from bs4 import BeautifulSoup\n",
    "\n",
    "soup = BeautifulSoup(driver.page_source, 'html.parser')\n"
   ]
  },
  {
   "cell_type": "code",
   "execution_count": 42,
   "id": "c3c2d64c",
   "metadata": {},
   "outputs": [
    {
     "data": {
      "text/plain": [
       "['https://vk.com/',\n",
       " 'https://vk.company/',\n",
       " 'https://vk.ru/',\n",
       " 'https://play.google.com/store/apps/details?id=com.vkontakte.android&hl=ru&gl=US',\n",
       " 'https://apps.apple.com/ru/app/%D0%B2%D0%BA%D0%BE%D0%BD%D1%82%D0%B0%D0%BA%D1%82%D0%B5-%D0%BC%D1%83%D0%B7%D1%8B%D0%BA%D0%B0-%D0%B2%D0%B8%D0%B4%D0%B5%D0%BE-%D0%B8-%D1%87%D0%B0%D1%82/id564177498',\n",
       " 'https://ru.wikipedia.org/wiki/VK_(%D0%BA%D0%BE%D0%BC%D0%BF%D0%B0%D0%BD%D0%B8%D1%8F)',\n",
       " 'https://ru.wikipedia.org/wiki/%D0%92%D0%9A%D0%BE%D0%BD%D1%82%D0%B0%D0%BA%D1%82%D0%B5']"
      ]
     },
     "execution_count": 42,
     "metadata": {},
     "output_type": "execute_result"
    }
   ],
   "source": [
    "dirty_hrefs = soup.find_all('div', {'class':'yuRUbf'})\n",
    "[href.a.get('href') for href in dirty_hrefs]"
   ]
  },
  {
   "cell_type": "code",
   "execution_count": 43,
   "id": "f3cc7539",
   "metadata": {},
   "outputs": [],
   "source": [
    "driver.close()"
   ]
  },
  {
   "cell_type": "markdown",
   "id": "c6250488",
   "metadata": {},
   "source": [
    "Вообще selenium придумывали для тестировщиков, а не для парсинга. Для парсеров имеет смысл его использовать только в крайнем случае. Он очень медленный. Если у вас не получается обмануть сервер через `requests` или вы сталкиваетесь с какой-то специфической защитой от ботов, selenium может помочь.\n",
    "Ещё для selenium важно не забывать ставить временные задержки, чтобы страница успевала прогрузиться. Либо можно дописывать полноценный код, который будет ждать прогрузки и только тогда тыкать на кнопки и тп."
   ]
  },
  {
   "cell_type": "code",
   "execution_count": null,
   "id": "5fc4db4a",
   "metadata": {},
   "outputs": [],
   "source": []
  }
 ],
 "metadata": {
  "kernelspec": {
   "display_name": "Python 3 (ipykernel)",
   "language": "python",
   "name": "python3"
  },
  "language_info": {
   "codemirror_mode": {
    "name": "ipython",
    "version": 3
   },
   "file_extension": ".py",
   "mimetype": "text/x-python",
   "name": "python",
   "nbconvert_exporter": "python",
   "pygments_lexer": "ipython3",
   "version": "3.9.7"
  }
 },
 "nbformat": 4,
 "nbformat_minor": 5
}
