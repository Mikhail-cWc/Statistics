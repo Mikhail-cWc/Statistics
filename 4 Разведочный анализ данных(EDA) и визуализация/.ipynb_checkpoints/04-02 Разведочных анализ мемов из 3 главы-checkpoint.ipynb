{
 "cells": [
  {
   "cell_type": "markdown",
   "id": "a023c5b6",
   "metadata": {},
   "source": [
    "# Разведочный анализ"
   ]
  },
  {
   "cell_type": "code",
   "execution_count": 1,
   "id": "49a893f2",
   "metadata": {},
   "outputs": [],
   "source": [
    "import pandas as pd\n",
    "import numpy as np\n",
    "from scipy import stats\n",
    "\n",
    "import matplotlib.pyplot as plt\n",
    "import seaborn as sns\n",
    "\n",
    "plt.style.use('ggplot')"
   ]
  },
  {
   "cell_type": "markdown",
   "id": "03c6c3e2",
   "metadata": {},
   "source": [
    "Перед тем, как обучать модели ML, данные необходимо предварительно изучить. Делать это полезно по причинам:\n",
    "- Разведочный анализ данных позволяет выявить основные проблемы и понять, как именно данные нужно предобработать, чтобы корректно обучить модель\n",
    "- Понимание природы данных поможет придумать новые признаки, которые могут улучшить качество модели"
   ]
  },
  {
   "cell_type": "markdown",
   "id": "ef13f112",
   "metadata": {},
   "source": [
    "#### Цели"
   ]
  },
  {
   "cell_type": "markdown",
   "id": "60c64836",
   "metadata": {},
   "source": [
    "- Занять предобработкой данных, посмотреть какие методы используют для разных переменных\n",
    "- Впоследствии мы воспользуемся этим набором данных для поиска аномалий"
   ]
  },
  {
   "cell_type": "markdown",
   "id": "3ad45612",
   "metadata": {},
   "source": [
    "## 1. Описание набора данных и признаков"
   ]
  },
  {
   "cell_type": "code",
   "execution_count": 3,
   "id": "e5a2cefe",
   "metadata": {},
   "outputs": [
    {
     "data": {
      "text/plain": [
       "(4206, 14)"
      ]
     },
     "execution_count": 3,
     "metadata": {},
     "output_type": "execute_result"
    }
   ],
   "source": [
    "memes = pd.read_csv('MEMES_new_short.csv', index_col=0)\n",
    "memes.shape"
   ]
  },
  {
   "cell_type": "code",
   "execution_count": 4,
   "id": "028620d8",
   "metadata": {},
   "outputs": [
    {
     "data": {
      "text/html": [
       "<div>\n",
       "<style scoped>\n",
       "    .dataframe tbody tr th:only-of-type {\n",
       "        vertical-align: middle;\n",
       "    }\n",
       "\n",
       "    .dataframe tbody tr th {\n",
       "        vertical-align: top;\n",
       "    }\n",
       "\n",
       "    .dataframe thead th {\n",
       "        text-align: right;\n",
       "    }\n",
       "</style>\n",
       "<table border=\"1\" class=\"dataframe\">\n",
       "  <thead>\n",
       "    <tr style=\"text-align: right;\">\n",
       "      <th></th>\n",
       "      <th>name</th>\n",
       "      <th>status</th>\n",
       "      <th>type</th>\n",
       "      <th>origin_year</th>\n",
       "      <th>origin_place</th>\n",
       "      <th>date_added</th>\n",
       "      <th>views</th>\n",
       "      <th>videos</th>\n",
       "      <th>photos</th>\n",
       "      <th>comments</th>\n",
       "      <th>tags</th>\n",
       "      <th>about</th>\n",
       "      <th>origin</th>\n",
       "      <th>other_text</th>\n",
       "    </tr>\n",
       "  </thead>\n",
       "  <tbody>\n",
       "    <tr>\n",
       "      <th>0</th>\n",
       "      <td>Muvvafukka</td>\n",
       "      <td>Submission</td>\n",
       "      <td>Viral Video</td>\n",
       "      <td>2019</td>\n",
       "      <td>Facebook</td>\n",
       "      <td>2019-10-24T04:05:03-04:00</td>\n",
       "      <td>13613</td>\n",
       "      <td>0</td>\n",
       "      <td>7</td>\n",
       "      <td>8</td>\n",
       "      <td>jay-lee hilzinger &amp; maddie flynn, eshayz, davi...</td>\n",
       "      <td>Muvvafukka refers to a viral video of two teen...</td>\n",
       "      <td>While it appears the original video is deleted...</td>\n",
       "      <td>Butler also made a screenshot of Hilzinger's f...</td>\n",
       "    </tr>\n",
       "    <tr>\n",
       "      <th>1</th>\n",
       "      <td>Martyrdom (Drop a Live Grenade When Killed)</td>\n",
       "      <td>Submission</td>\n",
       "      <td>Reaction</td>\n",
       "      <td>2007</td>\n",
       "      <td>Call of Duty 4: Modern Warfare</td>\n",
       "      <td>2019-10-23T12:13:13-04:00</td>\n",
       "      <td>13973</td>\n",
       "      <td>0</td>\n",
       "      <td>17</td>\n",
       "      <td>8</td>\n",
       "      <td>perk, martyrdom, live grenade, reaction image,...</td>\n",
       "      <td>Martyrdom (Drop a Live Grenade When Killed) re...</td>\n",
       "      <td>On April 12th, 2007, first person shooter Call...</td>\n",
       "      <td>Spread The exact first instance of use of the ...</td>\n",
       "    </tr>\n",
       "    <tr>\n",
       "      <th>2</th>\n",
       "      <td>Wet Kylo Ren</td>\n",
       "      <td>Submission</td>\n",
       "      <td>Image Macro</td>\n",
       "      <td>2019</td>\n",
       "      <td>Star Wars: The Rise of Skywalker (Movie Trailer)</td>\n",
       "      <td>2019-10-23T11:56:19-04:00</td>\n",
       "      <td>5339</td>\n",
       "      <td>0</td>\n",
       "      <td>12</td>\n",
       "      <td>7</td>\n",
       "      <td>kylo ren, star wars the rise of skywalker, ada...</td>\n",
       "      <td>Wet Kylo Ren is an image macro series based on...</td>\n",
       "      <td>On October 21st, 2019, the final trailer for t...</td>\n",
       "      <td>Shortly after the trailer's release, some on T...</td>\n",
       "    </tr>\n",
       "    <tr>\n",
       "      <th>3</th>\n",
       "      <td>You're Invited</td>\n",
       "      <td>Submission</td>\n",
       "      <td>Parody</td>\n",
       "      <td>2019</td>\n",
       "      <td>TikTok</td>\n",
       "      <td>2019-10-23T10:32:04-04:00</td>\n",
       "      <td>2249</td>\n",
       "      <td>0</td>\n",
       "      <td>0</td>\n",
       "      <td>0</td>\n",
       "      <td>byob, byow, party, flyer, charge, door</td>\n",
       "      <td>You're Invited is a series of TikTok videos pa...</td>\n",
       "      <td>On October 13th, 2019, TikTok user @coolguycol...</td>\n",
       "      <td>Spread On October 15th, 2019, @moneyxmo upload...</td>\n",
       "    </tr>\n",
       "    <tr>\n",
       "      <th>4</th>\n",
       "      <td>Companies Posting Their Own Names</td>\n",
       "      <td>Submission</td>\n",
       "      <td>Participatory Media</td>\n",
       "      <td>2019</td>\n",
       "      <td>Facebook</td>\n",
       "      <td>2019-10-25T12:42:22-04:00</td>\n",
       "      <td>5662</td>\n",
       "      <td>0</td>\n",
       "      <td>16</td>\n",
       "      <td>33</td>\n",
       "      <td>social media campaign, brands, companies, max ...</td>\n",
       "      <td>Companies Posting Their Own Names refers to a ...</td>\n",
       "      <td>On October 18th, 2019, Australian musician and...</td>\n",
       "      <td>Before October 2019, a number of companies and...</td>\n",
       "    </tr>\n",
       "  </tbody>\n",
       "</table>\n",
       "</div>"
      ],
      "text/plain": [
       "                                          name      status  \\\n",
       "0                                   Muvvafukka  Submission   \n",
       "1  Martyrdom (Drop a Live Grenade When Killed)  Submission   \n",
       "2                                 Wet Kylo Ren  Submission   \n",
       "3                               You're Invited  Submission   \n",
       "4            Companies Posting Their Own Names  Submission   \n",
       "\n",
       "                  type origin_year  \\\n",
       "0          Viral Video        2019   \n",
       "1             Reaction        2007   \n",
       "2          Image Macro        2019   \n",
       "3               Parody        2019   \n",
       "4  Participatory Media        2019   \n",
       "\n",
       "                                       origin_place  \\\n",
       "0                                          Facebook   \n",
       "1                    Call of Duty 4: Modern Warfare   \n",
       "2  Star Wars: The Rise of Skywalker (Movie Trailer)   \n",
       "3                                            TikTok   \n",
       "4                                          Facebook   \n",
       "\n",
       "                  date_added  views  videos  photos  comments  \\\n",
       "0  2019-10-24T04:05:03-04:00  13613       0       7         8   \n",
       "1  2019-10-23T12:13:13-04:00  13973       0      17         8   \n",
       "2  2019-10-23T11:56:19-04:00   5339       0      12         7   \n",
       "3  2019-10-23T10:32:04-04:00   2249       0       0         0   \n",
       "4  2019-10-25T12:42:22-04:00   5662       0      16        33   \n",
       "\n",
       "                                                tags  \\\n",
       "0  jay-lee hilzinger & maddie flynn, eshayz, davi...   \n",
       "1  perk, martyrdom, live grenade, reaction image,...   \n",
       "2  kylo ren, star wars the rise of skywalker, ada...   \n",
       "3             byob, byow, party, flyer, charge, door   \n",
       "4  social media campaign, brands, companies, max ...   \n",
       "\n",
       "                                               about  \\\n",
       "0  Muvvafukka refers to a viral video of two teen...   \n",
       "1  Martyrdom (Drop a Live Grenade When Killed) re...   \n",
       "2  Wet Kylo Ren is an image macro series based on...   \n",
       "3  You're Invited is a series of TikTok videos pa...   \n",
       "4  Companies Posting Their Own Names refers to a ...   \n",
       "\n",
       "                                              origin  \\\n",
       "0  While it appears the original video is deleted...   \n",
       "1  On April 12th, 2007, first person shooter Call...   \n",
       "2  On October 21st, 2019, the final trailer for t...   \n",
       "3  On October 13th, 2019, TikTok user @coolguycol...   \n",
       "4  On October 18th, 2019, Australian musician and...   \n",
       "\n",
       "                                          other_text  \n",
       "0  Butler also made a screenshot of Hilzinger's f...  \n",
       "1  Spread The exact first instance of use of the ...  \n",
       "2  Shortly after the trailer's release, some on T...  \n",
       "3  Spread On October 15th, 2019, @moneyxmo upload...  \n",
       "4  Before October 2019, a number of companies and...  "
      ]
     },
     "execution_count": 4,
     "metadata": {},
     "output_type": "execute_result"
    }
   ],
   "source": [
    "memes.head()"
   ]
  },
  {
   "cell_type": "code",
   "execution_count": 5,
   "id": "7f54ee2d",
   "metadata": {},
   "outputs": [
    {
     "name": "stdout",
     "output_type": "stream",
     "text": [
      "<class 'pandas.core.frame.DataFrame'>\n",
      "Int64Index: 4206 entries, 0 to 4205\n",
      "Data columns (total 14 columns):\n",
      " #   Column        Non-Null Count  Dtype \n",
      "---  ------        --------------  ----- \n",
      " 0   name          4206 non-null   object\n",
      " 1   status        4206 non-null   object\n",
      " 2   type          1786 non-null   object\n",
      " 3   origin_year   4206 non-null   object\n",
      " 4   origin_place  4205 non-null   object\n",
      " 5   date_added    4206 non-null   object\n",
      " 6   views         4206 non-null   int64 \n",
      " 7   videos        4206 non-null   int64 \n",
      " 8   photos        4206 non-null   int64 \n",
      " 9   comments      4206 non-null   int64 \n",
      " 10  tags          4205 non-null   object\n",
      " 11  about         3798 non-null   object\n",
      " 12  origin        2524 non-null   object\n",
      " 13  other_text    3508 non-null   object\n",
      "dtypes: int64(4), object(10)\n",
      "memory usage: 492.9+ KB\n"
     ]
    }
   ],
   "source": [
    "memes.info()"
   ]
  },
  {
   "cell_type": "code",
   "execution_count": 6,
   "id": "49706abe",
   "metadata": {},
   "outputs": [
    {
     "data": {
      "text/plain": [
       "name            object\n",
       "status          object\n",
       "type            object\n",
       "origin_year     object\n",
       "origin_place    object\n",
       "date_added      object\n",
       "views            int64\n",
       "videos           int64\n",
       "photos           int64\n",
       "comments         int64\n",
       "tags            object\n",
       "about           object\n",
       "origin          object\n",
       "other_text      object\n",
       "dtype: object"
      ]
     },
     "execution_count": 6,
     "metadata": {},
     "output_type": "execute_result"
    }
   ],
   "source": [
    "memes.dtypes"
   ]
  },
  {
   "cell_type": "code",
   "execution_count": 7,
   "id": "535612dc",
   "metadata": {},
   "outputs": [
    {
     "data": {
      "text/html": [
       "<div>\n",
       "<style scoped>\n",
       "    .dataframe tbody tr th:only-of-type {\n",
       "        vertical-align: middle;\n",
       "    }\n",
       "\n",
       "    .dataframe tbody tr th {\n",
       "        vertical-align: top;\n",
       "    }\n",
       "\n",
       "    .dataframe thead th {\n",
       "        text-align: right;\n",
       "    }\n",
       "</style>\n",
       "<table border=\"1\" class=\"dataframe\">\n",
       "  <thead>\n",
       "    <tr style=\"text-align: right;\">\n",
       "      <th></th>\n",
       "      <th>views</th>\n",
       "      <th>videos</th>\n",
       "      <th>photos</th>\n",
       "      <th>comments</th>\n",
       "    </tr>\n",
       "  </thead>\n",
       "  <tbody>\n",
       "    <tr>\n",
       "      <th>count</th>\n",
       "      <td>4.206000e+03</td>\n",
       "      <td>4206.000000</td>\n",
       "      <td>4206.000000</td>\n",
       "      <td>4206.000000</td>\n",
       "    </tr>\n",
       "    <tr>\n",
       "      <th>mean</th>\n",
       "      <td>7.226205e+04</td>\n",
       "      <td>5.820257</td>\n",
       "      <td>51.473371</td>\n",
       "      <td>39.009510</td>\n",
       "    </tr>\n",
       "    <tr>\n",
       "      <th>std</th>\n",
       "      <td>2.470807e+05</td>\n",
       "      <td>19.757376</td>\n",
       "      <td>497.391877</td>\n",
       "      <td>97.193556</td>\n",
       "    </tr>\n",
       "    <tr>\n",
       "      <th>min</th>\n",
       "      <td>9.700000e+01</td>\n",
       "      <td>-1.000000</td>\n",
       "      <td>0.000000</td>\n",
       "      <td>0.000000</td>\n",
       "    </tr>\n",
       "    <tr>\n",
       "      <th>25%</th>\n",
       "      <td>3.874750e+03</td>\n",
       "      <td>0.000000</td>\n",
       "      <td>1.000000</td>\n",
       "      <td>4.000000</td>\n",
       "    </tr>\n",
       "    <tr>\n",
       "      <th>50%</th>\n",
       "      <td>1.574300e+04</td>\n",
       "      <td>0.000000</td>\n",
       "      <td>10.000000</td>\n",
       "      <td>13.000000</td>\n",
       "    </tr>\n",
       "    <tr>\n",
       "      <th>75%</th>\n",
       "      <td>5.336375e+04</td>\n",
       "      <td>4.000000</td>\n",
       "      <td>26.000000</td>\n",
       "      <td>35.750000</td>\n",
       "    </tr>\n",
       "    <tr>\n",
       "      <th>max</th>\n",
       "      <td>9.095857e+06</td>\n",
       "      <td>469.000000</td>\n",
       "      <td>28911.000000</td>\n",
       "      <td>1713.000000</td>\n",
       "    </tr>\n",
       "  </tbody>\n",
       "</table>\n",
       "</div>"
      ],
      "text/plain": [
       "              views       videos        photos     comments\n",
       "count  4.206000e+03  4206.000000   4206.000000  4206.000000\n",
       "mean   7.226205e+04     5.820257     51.473371    39.009510\n",
       "std    2.470807e+05    19.757376    497.391877    97.193556\n",
       "min    9.700000e+01    -1.000000      0.000000     0.000000\n",
       "25%    3.874750e+03     0.000000      1.000000     4.000000\n",
       "50%    1.574300e+04     0.000000     10.000000    13.000000\n",
       "75%    5.336375e+04     4.000000     26.000000    35.750000\n",
       "max    9.095857e+06   469.000000  28911.000000  1713.000000"
      ]
     },
     "execution_count": 7,
     "metadata": {},
     "output_type": "execute_result"
    }
   ],
   "source": [
    "memes.describe()"
   ]
  },
  {
   "cell_type": "code",
   "execution_count": 8,
   "id": "5c891993",
   "metadata": {},
   "outputs": [
    {
     "data": {
      "text/html": [
       "<div>\n",
       "<style scoped>\n",
       "    .dataframe tbody tr th:only-of-type {\n",
       "        vertical-align: middle;\n",
       "    }\n",
       "\n",
       "    .dataframe tbody tr th {\n",
       "        vertical-align: top;\n",
       "    }\n",
       "\n",
       "    .dataframe thead th {\n",
       "        text-align: right;\n",
       "    }\n",
       "</style>\n",
       "<table border=\"1\" class=\"dataframe\">\n",
       "  <thead>\n",
       "    <tr style=\"text-align: right;\">\n",
       "      <th></th>\n",
       "      <th>name</th>\n",
       "      <th>status</th>\n",
       "      <th>type</th>\n",
       "      <th>origin_year</th>\n",
       "      <th>origin_place</th>\n",
       "      <th>date_added</th>\n",
       "      <th>tags</th>\n",
       "      <th>about</th>\n",
       "      <th>origin</th>\n",
       "      <th>other_text</th>\n",
       "    </tr>\n",
       "  </thead>\n",
       "  <tbody>\n",
       "    <tr>\n",
       "      <th>count</th>\n",
       "      <td>4206</td>\n",
       "      <td>4206</td>\n",
       "      <td>1786</td>\n",
       "      <td>4206</td>\n",
       "      <td>4205</td>\n",
       "      <td>4206</td>\n",
       "      <td>4205</td>\n",
       "      <td>3798</td>\n",
       "      <td>2524</td>\n",
       "      <td>3508</td>\n",
       "    </tr>\n",
       "    <tr>\n",
       "      <th>unique</th>\n",
       "      <td>4205</td>\n",
       "      <td>3</td>\n",
       "      <td>98</td>\n",
       "      <td>117</td>\n",
       "      <td>1885</td>\n",
       "      <td>4204</td>\n",
       "      <td>4001</td>\n",
       "      <td>3648</td>\n",
       "      <td>2501</td>\n",
       "      <td>3503</td>\n",
       "    </tr>\n",
       "    <tr>\n",
       "      <th>top</th>\n",
       "      <td>NO REFUNDS</td>\n",
       "      <td>Submission</td>\n",
       "      <td>Exploitable</td>\n",
       "      <td>Unknown</td>\n",
       "      <td>Unknown</td>\n",
       "      <td>2016-10-16T01:19:03-04:00</td>\n",
       "      <td>none...</td>\n",
       "      <td>NOTE: This Entry was related to the 2013 April...</td>\n",
       "      <td>\\n\\n\\n</td>\n",
       "      <td>Spread Various Examples Templates Search Inter...</td>\n",
       "    </tr>\n",
       "    <tr>\n",
       "      <th>freq</th>\n",
       "      <td>2</td>\n",
       "      <td>2482</td>\n",
       "      <td>152</td>\n",
       "      <td>349</td>\n",
       "      <td>535</td>\n",
       "      <td>2</td>\n",
       "      <td>168</td>\n",
       "      <td>58</td>\n",
       "      <td>11</td>\n",
       "      <td>3</td>\n",
       "    </tr>\n",
       "  </tbody>\n",
       "</table>\n",
       "</div>"
      ],
      "text/plain": [
       "              name      status         type origin_year origin_place  \\\n",
       "count         4206        4206         1786        4206         4205   \n",
       "unique        4205           3           98         117         1885   \n",
       "top     NO REFUNDS  Submission  Exploitable     Unknown      Unknown   \n",
       "freq             2        2482          152         349          535   \n",
       "\n",
       "                       date_added     tags  \\\n",
       "count                        4206     4205   \n",
       "unique                       4204     4001   \n",
       "top     2016-10-16T01:19:03-04:00  none...   \n",
       "freq                            2      168   \n",
       "\n",
       "                                                    about  origin  \\\n",
       "count                                                3798    2524   \n",
       "unique                                               3648    2501   \n",
       "top     NOTE: This Entry was related to the 2013 April...  \\n\\n\\n   \n",
       "freq                                                   58      11   \n",
       "\n",
       "                                               other_text  \n",
       "count                                                3508  \n",
       "unique                                               3503  \n",
       "top     Spread Various Examples Templates Search Inter...  \n",
       "freq                                                    3  "
      ]
     },
     "execution_count": 8,
     "metadata": {},
     "output_type": "execute_result"
    }
   ],
   "source": [
    "memes.describe(include = 'object')"
   ]
  },
  {
   "cell_type": "markdown",
   "id": "1bd1ff98",
   "metadata": {},
   "source": [
    "Самый просматриваемый мем"
   ]
  },
  {
   "cell_type": "code",
   "execution_count": 9,
   "id": "5895ccc3",
   "metadata": {},
   "outputs": [
    {
     "data": {
      "text/html": [
       "<div>\n",
       "<style scoped>\n",
       "    .dataframe tbody tr th:only-of-type {\n",
       "        vertical-align: middle;\n",
       "    }\n",
       "\n",
       "    .dataframe tbody tr th {\n",
       "        vertical-align: top;\n",
       "    }\n",
       "\n",
       "    .dataframe thead th {\n",
       "        text-align: right;\n",
       "    }\n",
       "</style>\n",
       "<table border=\"1\" class=\"dataframe\">\n",
       "  <thead>\n",
       "    <tr style=\"text-align: right;\">\n",
       "      <th></th>\n",
       "      <th>name</th>\n",
       "      <th>status</th>\n",
       "      <th>type</th>\n",
       "      <th>origin_year</th>\n",
       "      <th>origin_place</th>\n",
       "      <th>date_added</th>\n",
       "      <th>views</th>\n",
       "      <th>videos</th>\n",
       "      <th>photos</th>\n",
       "      <th>comments</th>\n",
       "      <th>tags</th>\n",
       "      <th>about</th>\n",
       "      <th>origin</th>\n",
       "      <th>other_text</th>\n",
       "    </tr>\n",
       "  </thead>\n",
       "  <tbody>\n",
       "    <tr>\n",
       "      <th>3958</th>\n",
       "      <td>Me Gusta</td>\n",
       "      <td>Confirmed</td>\n",
       "      <td>Character</td>\n",
       "      <td>2010</td>\n",
       "      <td>4chan</td>\n",
       "      <td>2018-09-27T16:03:51-04:00</td>\n",
       "      <td>9095857</td>\n",
       "      <td>21</td>\n",
       "      <td>518</td>\n",
       "      <td>142</td>\n",
       "      <td>4chan, rageguy, spinoff, 4 panel comic, me gus...</td>\n",
       "      <td>Me Gusta is a rage comic face that is typicall...</td>\n",
       "      <td>The colloquial Spanish phrase \"Me Gusta\" was f...</td>\n",
       "      <td>Spread In December 2010, the single topic blog...</td>\n",
       "    </tr>\n",
       "  </tbody>\n",
       "</table>\n",
       "</div>"
      ],
      "text/plain": [
       "          name     status       type origin_year origin_place  \\\n",
       "3958  Me Gusta  Confirmed  Character        2010        4chan   \n",
       "\n",
       "                     date_added    views  videos  photos  comments  \\\n",
       "3958  2018-09-27T16:03:51-04:00  9095857      21     518       142   \n",
       "\n",
       "                                                   tags  \\\n",
       "3958  4chan, rageguy, spinoff, 4 panel comic, me gus...   \n",
       "\n",
       "                                                  about  \\\n",
       "3958  Me Gusta is a rage comic face that is typicall...   \n",
       "\n",
       "                                                 origin  \\\n",
       "3958  The colloquial Spanish phrase \"Me Gusta\" was f...   \n",
       "\n",
       "                                             other_text  \n",
       "3958  Spread In December 2010, the single topic blog...  "
      ]
     },
     "execution_count": 9,
     "metadata": {},
     "output_type": "execute_result"
    }
   ],
   "source": [
    "memes[memes.views == memes.views.max()]"
   ]
  },
  {
   "cell_type": "markdown",
   "id": "aa505fe2",
   "metadata": {},
   "source": [
    "Внутри нашего набора данных содержутся переменные разного типа: непрерывные категориальные, текстовые, связанные со временем. Чтобы на этих данных обучить какую-то модель, нужно все эти переменные предобработать. Далее мы этим займемся"
   ]
  },
  {
   "cell_type": "markdown",
   "id": "970463fa",
   "metadata": {},
   "source": [
    "## 2. Работа со временем"
   ]
  },
  {
   "cell_type": "markdown",
   "id": "736792dd",
   "metadata": {},
   "source": [
    "Преобразуем переменную `added` в формат `datetime` и вытащим из неё час, день недели, месяц и год добавления мема."
   ]
  },
  {
   "cell_type": "code",
   "execution_count": 10,
   "id": "132e1c0a",
   "metadata": {},
   "outputs": [
    {
     "data": {
      "text/html": [
       "<div>\n",
       "<style scoped>\n",
       "    .dataframe tbody tr th:only-of-type {\n",
       "        vertical-align: middle;\n",
       "    }\n",
       "\n",
       "    .dataframe tbody tr th {\n",
       "        vertical-align: top;\n",
       "    }\n",
       "\n",
       "    .dataframe thead th {\n",
       "        text-align: right;\n",
       "    }\n",
       "</style>\n",
       "<table border=\"1\" class=\"dataframe\">\n",
       "  <thead>\n",
       "    <tr style=\"text-align: right;\">\n",
       "      <th></th>\n",
       "      <th>name</th>\n",
       "      <th>status</th>\n",
       "      <th>type</th>\n",
       "      <th>origin_year</th>\n",
       "      <th>origin_place</th>\n",
       "      <th>date_added</th>\n",
       "      <th>views</th>\n",
       "      <th>videos</th>\n",
       "      <th>photos</th>\n",
       "      <th>comments</th>\n",
       "      <th>tags</th>\n",
       "      <th>about</th>\n",
       "      <th>origin</th>\n",
       "      <th>other_text</th>\n",
       "    </tr>\n",
       "  </thead>\n",
       "  <tbody>\n",
       "    <tr>\n",
       "      <th>0</th>\n",
       "      <td>Muvvafukka</td>\n",
       "      <td>Submission</td>\n",
       "      <td>Viral Video</td>\n",
       "      <td>2019</td>\n",
       "      <td>Facebook</td>\n",
       "      <td>2019-10-24T04:05:03-04:00</td>\n",
       "      <td>13613</td>\n",
       "      <td>0</td>\n",
       "      <td>7</td>\n",
       "      <td>8</td>\n",
       "      <td>jay-lee hilzinger &amp; maddie flynn, eshayz, davi...</td>\n",
       "      <td>Muvvafukka refers to a viral video of two teen...</td>\n",
       "      <td>While it appears the original video is deleted...</td>\n",
       "      <td>Butler also made a screenshot of Hilzinger's f...</td>\n",
       "    </tr>\n",
       "    <tr>\n",
       "      <th>1</th>\n",
       "      <td>Martyrdom (Drop a Live Grenade When Killed)</td>\n",
       "      <td>Submission</td>\n",
       "      <td>Reaction</td>\n",
       "      <td>2007</td>\n",
       "      <td>Call of Duty 4: Modern Warfare</td>\n",
       "      <td>2019-10-23T12:13:13-04:00</td>\n",
       "      <td>13973</td>\n",
       "      <td>0</td>\n",
       "      <td>17</td>\n",
       "      <td>8</td>\n",
       "      <td>perk, martyrdom, live grenade, reaction image,...</td>\n",
       "      <td>Martyrdom (Drop a Live Grenade When Killed) re...</td>\n",
       "      <td>On April 12th, 2007, first person shooter Call...</td>\n",
       "      <td>Spread The exact first instance of use of the ...</td>\n",
       "    </tr>\n",
       "    <tr>\n",
       "      <th>2</th>\n",
       "      <td>Wet Kylo Ren</td>\n",
       "      <td>Submission</td>\n",
       "      <td>Image Macro</td>\n",
       "      <td>2019</td>\n",
       "      <td>Star Wars: The Rise of Skywalker (Movie Trailer)</td>\n",
       "      <td>2019-10-23T11:56:19-04:00</td>\n",
       "      <td>5339</td>\n",
       "      <td>0</td>\n",
       "      <td>12</td>\n",
       "      <td>7</td>\n",
       "      <td>kylo ren, star wars the rise of skywalker, ada...</td>\n",
       "      <td>Wet Kylo Ren is an image macro series based on...</td>\n",
       "      <td>On October 21st, 2019, the final trailer for t...</td>\n",
       "      <td>Shortly after the trailer's release, some on T...</td>\n",
       "    </tr>\n",
       "    <tr>\n",
       "      <th>3</th>\n",
       "      <td>You're Invited</td>\n",
       "      <td>Submission</td>\n",
       "      <td>Parody</td>\n",
       "      <td>2019</td>\n",
       "      <td>TikTok</td>\n",
       "      <td>2019-10-23T10:32:04-04:00</td>\n",
       "      <td>2249</td>\n",
       "      <td>0</td>\n",
       "      <td>0</td>\n",
       "      <td>0</td>\n",
       "      <td>byob, byow, party, flyer, charge, door</td>\n",
       "      <td>You're Invited is a series of TikTok videos pa...</td>\n",
       "      <td>On October 13th, 2019, TikTok user @coolguycol...</td>\n",
       "      <td>Spread On October 15th, 2019, @moneyxmo upload...</td>\n",
       "    </tr>\n",
       "    <tr>\n",
       "      <th>4</th>\n",
       "      <td>Companies Posting Their Own Names</td>\n",
       "      <td>Submission</td>\n",
       "      <td>Participatory Media</td>\n",
       "      <td>2019</td>\n",
       "      <td>Facebook</td>\n",
       "      <td>2019-10-25T12:42:22-04:00</td>\n",
       "      <td>5662</td>\n",
       "      <td>0</td>\n",
       "      <td>16</td>\n",
       "      <td>33</td>\n",
       "      <td>social media campaign, brands, companies, max ...</td>\n",
       "      <td>Companies Posting Their Own Names refers to a ...</td>\n",
       "      <td>On October 18th, 2019, Australian musician and...</td>\n",
       "      <td>Before October 2019, a number of companies and...</td>\n",
       "    </tr>\n",
       "  </tbody>\n",
       "</table>\n",
       "</div>"
      ],
      "text/plain": [
       "                                          name      status  \\\n",
       "0                                   Muvvafukka  Submission   \n",
       "1  Martyrdom (Drop a Live Grenade When Killed)  Submission   \n",
       "2                                 Wet Kylo Ren  Submission   \n",
       "3                               You're Invited  Submission   \n",
       "4            Companies Posting Their Own Names  Submission   \n",
       "\n",
       "                  type origin_year  \\\n",
       "0          Viral Video        2019   \n",
       "1             Reaction        2007   \n",
       "2          Image Macro        2019   \n",
       "3               Parody        2019   \n",
       "4  Participatory Media        2019   \n",
       "\n",
       "                                       origin_place  \\\n",
       "0                                          Facebook   \n",
       "1                    Call of Duty 4: Modern Warfare   \n",
       "2  Star Wars: The Rise of Skywalker (Movie Trailer)   \n",
       "3                                            TikTok   \n",
       "4                                          Facebook   \n",
       "\n",
       "                  date_added  views  videos  photos  comments  \\\n",
       "0  2019-10-24T04:05:03-04:00  13613       0       7         8   \n",
       "1  2019-10-23T12:13:13-04:00  13973       0      17         8   \n",
       "2  2019-10-23T11:56:19-04:00   5339       0      12         7   \n",
       "3  2019-10-23T10:32:04-04:00   2249       0       0         0   \n",
       "4  2019-10-25T12:42:22-04:00   5662       0      16        33   \n",
       "\n",
       "                                                tags  \\\n",
       "0  jay-lee hilzinger & maddie flynn, eshayz, davi...   \n",
       "1  perk, martyrdom, live grenade, reaction image,...   \n",
       "2  kylo ren, star wars the rise of skywalker, ada...   \n",
       "3             byob, byow, party, flyer, charge, door   \n",
       "4  social media campaign, brands, companies, max ...   \n",
       "\n",
       "                                               about  \\\n",
       "0  Muvvafukka refers to a viral video of two teen...   \n",
       "1  Martyrdom (Drop a Live Grenade When Killed) re...   \n",
       "2  Wet Kylo Ren is an image macro series based on...   \n",
       "3  You're Invited is a series of TikTok videos pa...   \n",
       "4  Companies Posting Their Own Names refers to a ...   \n",
       "\n",
       "                                              origin  \\\n",
       "0  While it appears the original video is deleted...   \n",
       "1  On April 12th, 2007, first person shooter Call...   \n",
       "2  On October 21st, 2019, the final trailer for t...   \n",
       "3  On October 13th, 2019, TikTok user @coolguycol...   \n",
       "4  On October 18th, 2019, Australian musician and...   \n",
       "\n",
       "                                          other_text  \n",
       "0  Butler also made a screenshot of Hilzinger's f...  \n",
       "1  Spread The exact first instance of use of the ...  \n",
       "2  Shortly after the trailer's release, some on T...  \n",
       "3  Spread On October 15th, 2019, @moneyxmo upload...  \n",
       "4  Before October 2019, a number of companies and...  "
      ]
     },
     "execution_count": 10,
     "metadata": {},
     "output_type": "execute_result"
    }
   ],
   "source": [
    "memes.head()"
   ]
  },
  {
   "cell_type": "code",
   "execution_count": 46,
   "id": "9188d480",
   "metadata": {},
   "outputs": [],
   "source": [
    "memes['Timestamp'] = pd.to_datetime(memes.date_added)"
   ]
  },
  {
   "cell_type": "code",
   "execution_count": 47,
   "id": "dd355c6d",
   "metadata": {},
   "outputs": [
    {
     "data": {
      "text/plain": [
       "datetime.datetime(2019, 10, 24, 4, 5, 3, tzinfo=tzoffset(None, -14400))"
      ]
     },
     "execution_count": 47,
     "metadata": {},
     "output_type": "execute_result"
    }
   ],
   "source": [
    "memes.Timestamp.loc[0]"
   ]
  },
  {
   "cell_type": "code",
   "execution_count": 48,
   "id": "0ab91cc7",
   "metadata": {},
   "outputs": [
    {
     "data": {
      "text/plain": [
       "1571904303.0"
      ]
     },
     "execution_count": 48,
     "metadata": {},
     "output_type": "execute_result"
    }
   ],
   "source": [
    "t = memes.Timestamp.loc[0]\n",
    "t.timestamp()"
   ]
  },
  {
   "cell_type": "code",
   "execution_count": 49,
   "id": "13826b6a",
   "metadata": {},
   "outputs": [
    {
     "data": {
      "text/plain": [
       "(2019, 10, 24, 4)"
      ]
     },
     "execution_count": 49,
     "metadata": {},
     "output_type": "execute_result"
    }
   ],
   "source": [
    "t.year, t.month, t.day, t.hour"
   ]
  },
  {
   "cell_type": "code",
   "execution_count": 50,
   "id": "8c3bd2ec",
   "metadata": {},
   "outputs": [
    {
     "data": {
      "text/plain": [
       "3"
      ]
     },
     "execution_count": 50,
     "metadata": {},
     "output_type": "execute_result"
    }
   ],
   "source": [
    "t.weekday()"
   ]
  },
  {
   "cell_type": "code",
   "execution_count": 51,
   "id": "1c6d943e",
   "metadata": {},
   "outputs": [],
   "source": [
    "memes['Year'] = memes.Timestamp.apply(lambda x: x.year)\n",
    "memes['Month'] = memes.Timestamp.apply(lambda x: x.month)\n",
    "memes['Day'] = memes.Timestamp.apply(lambda x: x.day)\n",
    "memes['Hour'] = memes.Timestamp.apply(lambda x: x.hour)\n",
    "memes['Weekday'] = memes.Timestamp.apply(lambda x: x.weekday())"
   ]
  },
  {
   "cell_type": "markdown",
   "id": "edbbf0b6",
   "metadata": {},
   "source": [
    "Также пригодится переменная, отвечающая за число дней, прошедших с момента добавления на сайт"
   ]
  },
  {
   "cell_type": "code",
   "execution_count": 77,
   "id": "dc23c73d",
   "metadata": {},
   "outputs": [],
   "source": [
    "memes_max = memes.Timestamp.max()\n",
    "memes['days_from_creation'] = memes.Timestamp.apply(lambda x: (memes_max - x).days)"
   ]
  },
  {
   "cell_type": "code",
   "execution_count": 78,
   "id": "3d177b79",
   "metadata": {},
   "outputs": [
    {
     "data": {
      "text/plain": [
       "0         13\n",
       "1         14\n",
       "2         14\n",
       "3         14\n",
       "4         12\n",
       "        ... \n",
       "4201     659\n",
       "4202    3596\n",
       "4203    2231\n",
       "4204       6\n",
       "4205     575\n",
       "Name: days_from_creation, Length: 4206, dtype: int64"
      ]
     },
     "execution_count": 78,
     "metadata": {},
     "output_type": "execute_result"
    }
   ],
   "source": [
    "memes['days_from_creation'] "
   ]
  },
  {
   "cell_type": "markdown",
   "id": "37562ca7",
   "metadata": {},
   "source": [
    "Теперь для наших сощзданных переменных построим несколько гистограмм"
   ]
  },
  {
   "cell_type": "code",
   "execution_count": 80,
   "id": "5bd298fe",
   "metadata": {},
   "outputs": [
    {
     "data": {
      "image/png": "[encoded data removed]",
      "text/plain": [
       "<Figure size 864x432 with 4 Axes>"
      ]
     },
     "metadata": {},
     "output_type": "display_data"
    }
   ],
   "source": [
    "times = ['Month', 'Day', 'Hour','Weekday']\n",
    "memes[times].hist(figsize=(12,6));"
   ]
  },
  {
   "cell_type": "markdown",
   "id": "6f5924ce",
   "metadata": {},
   "source": [
    "Более сложная картинка с разным числом бинов"
   ]
  },
  {
   "cell_type": "code",
   "execution_count": 82,
   "id": "f9c086db",
   "metadata": {},
   "outputs": [
    {
     "data": {
      "image/png": "[encoded data removed]",
      "text/plain": [
       "<Figure size 1080x720 with 4 Axes>"
      ]
     },
     "metadata": {},
     "output_type": "display_data"
    }
   ],
   "source": [
    "index = 0\n",
    "fig, ax = plt.subplots(2, 2, figsize=(15,10))\n",
    "\n",
    "bins = [12, 31, 24, 7]\n",
    "for i in range(2):\n",
    "    for j in range(2):\n",
    "        ax[i,j].hist(memes[times[index]], bins = bins[index])\n",
    "        ax[i,j].set_title('Histogram of {}'.format(times[index]))\n",
    "        index += 1\n",
    "\n",
    "fig.subplots_adjust(hspace = 0.2);"
   ]
  },
  {
   "cell_type": "markdown",
   "id": "490beb26",
   "metadata": {},
   "source": [
    "#### Интересные особенности:\n",
    "- День ничего необычного не принёс, распределено достаточно равномерно\n",
    "- Гистограмма часа достаточно показательна - в ночной период активность значительно снижается, а затем растет, достигая пика днём\n",
    "- По дням недели есть заметное снижение на выходных"
   ]
  },
  {
   "cell_type": "code",
   "execution_count": 87,
   "id": "502399fa",
   "metadata": {},
   "outputs": [
    {
     "data": {
      "image/png": "[encoded data removed]",
      "text/plain": [
       "<Figure size 432x288 with 1 Axes>"
      ]
     },
     "metadata": {},
     "output_type": "display_data"
    }
   ],
   "source": [
    "memes.Year.value_counts().sort_index().plot(kind='bar')\n",
    "plt.title('Histogram of year');"
   ]
  },
  {
   "cell_type": "markdown",
   "id": "80cdd74b",
   "metadata": {},
   "source": [
    "Посмотрим также на вторую переменную, связанную с годом - год появления первоисточника `origin_year`"
   ]
  },
  {
   "cell_type": "code",
   "execution_count": 88,
   "id": "b30116bf",
   "metadata": {},
   "outputs": [
    {
     "data": {
      "text/plain": [
       "Unknown    349\n",
       "2011       329\n",
       "2016       310\n",
       "2010       297\n",
       "2017       281\n",
       "2013       259\n",
       "2019       258\n",
       "2012       236\n",
       "2014       233\n",
       "2018       229\n",
       "Name: origin_year, dtype: int64"
      ]
     },
     "execution_count": 88,
     "metadata": {},
     "output_type": "execute_result"
    }
   ],
   "source": [
    "memes.origin_year.value_counts()[:10]"
   ]
  },
  {
   "cell_type": "code",
   "execution_count": 89,
   "id": "7bc167ff",
   "metadata": {},
   "outputs": [
    {
     "data": {
      "text/plain": [
       "1975    1\n",
       "1797    1\n",
       "1926    1\n",
       "1908    1\n",
       "1935    1\n",
       "1964    1\n",
       "1973    1\n",
       "1792    1\n",
       "1927    1\n",
       "1890    1\n",
       "Name: origin_year, dtype: int64"
      ]
     },
     "execution_count": 89,
     "metadata": {},
     "output_type": "execute_result"
    }
   ],
   "source": [
    "memes.origin_year.value_counts()[-10:]"
   ]
  },
  {
   "cell_type": "code",
   "execution_count": 90,
   "id": "19020429",
   "metadata": {},
   "outputs": [
    {
     "data": {
      "text/plain": [
       "349"
      ]
     },
     "execution_count": 90,
     "metadata": {},
     "output_type": "execute_result"
    }
   ],
   "source": [
    "memes.loc[memes.origin_year == 'Unknown', 'origin_year'] = None\n",
    "memes.origin_year.isnull().sum()"
   ]
  },
  {
   "cell_type": "code",
   "execution_count": 91,
   "id": "51d4f280",
   "metadata": {},
   "outputs": [],
   "source": [
    "usl = memes.origin_year.apply(lambda x: str(x).isdigit())"
   ]
  },
  {
   "cell_type": "code",
   "execution_count": 92,
   "id": "218c7314",
   "metadata": {},
   "outputs": [],
   "source": [
    "memes.loc[~usl, 'origin_year'] = 0"
   ]
  },
  {
   "cell_type": "code",
   "execution_count": 97,
   "id": "7320d59e",
   "metadata": {},
   "outputs": [],
   "source": [
    "memes.origin_year = memes.origin_year.astype(int)"
   ]
  },
  {
   "cell_type": "code",
   "execution_count": 98,
   "id": "8d89b825",
   "metadata": {},
   "outputs": [
    {
     "data": {
      "image/png": "[encoded data removed]",
      "text/plain": [
       "<Figure size 432x288 with 1 Axes>"
      ]
     },
     "metadata": {},
     "output_type": "display_data"
    }
   ],
   "source": [
    "memes.origin_year[\n",
    "    (memes.origin_year>2000)&(memes.origin_year<=2020)\n",
    "].hist(bins=20);"
   ]
  },
  {
   "cell_type": "markdown",
   "id": "96f9f458",
   "metadata": {},
   "source": [
    "Можем посмотреть на наиболее \"Исторические\" мемы, берющие своё начало, например, до  1500 года"
   ]
  },
  {
   "cell_type": "code",
   "execution_count": 99,
   "id": "ef36cefb",
   "metadata": {},
   "outputs": [],
   "source": [
    "ancient = memes[(memes.origin_year < 1050)&(memes.origin_year != 0)]\n",
    "\n",
    "for i in ancient.index.tolist():\n",
    "    print(\"Name: {}\".format(ancient.loc[i, 'name']))\n",
    "    print(\"Year: {}\".format(ancient.loc[i, 'origin_year']))\n",
    "    print(\"About: \\n{}\".format(ancient.loc[i, 'about']))\n",
    "    print(\"============================================================\")"
   ]
  },
  {
   "cell_type": "markdown",
   "id": "72e54043",
   "metadata": {},
   "source": [
    "Таких нет("
   ]
  },
  {
   "cell_type": "markdown",
   "id": "a8860363",
   "metadata": {},
   "source": [
    "## 3. Непрерывные переменные"
   ]
  },
  {
   "cell_type": "markdown",
   "id": "74c1d794",
   "metadata": {},
   "source": [
    "Посмотрим на число просмотров"
   ]
  },
  {
   "cell_type": "code",
   "execution_count": 101,
   "id": "2c372e32",
   "metadata": {},
   "outputs": [
    {
     "data": {
      "image/png": "[encoded data removed]",
      "text/plain": [
       "<Figure size 432x288 with 1 Axes>"
      ]
     },
     "metadata": {},
     "output_type": "display_data"
    }
   ],
   "source": [
    "memes.views.hist(bins=25, log=True)\n",
    "\n",
    "plt.xlabel('Число просмотров')\n",
    "plt.ylabel('Количество мемов')\n",
    "plt.title('Hist of Views');"
   ]
  },
  {
   "cell_type": "markdown",
   "id": "da086201",
   "metadata": {},
   "source": [
    "Ожидаемо большинство мемов не пользуется популярностью, и число их просмотров сосредоточено рядом с нулем. Но у нас есть небольшой количество очень популярных мемов, которые набрали десятки миллионов просмотров\n",
    "\n",
    "В результате, мы имеем распределение с **тяжелым правым хвостом**. Чтобы познакомиться с распределением чуть получше, мы можем **прологарифмировать** значение переменной."
   ]
  },
  {
   "cell_type": "code",
   "execution_count": 103,
   "id": "35a23e4d",
   "metadata": {},
   "outputs": [
    {
     "data": {
      "image/png": "[encoded data removed]",
      "text/plain": [
       "<Figure size 432x288 with 1 Axes>"
      ]
     },
     "metadata": {},
     "output_type": "display_data"
    }
   ],
   "source": [
    "memes.views.apply(lambda x: np.log(x+1)).hist(bins=25);"
   ]
  },
  {
   "cell_type": "markdown",
   "id": "eda6647a",
   "metadata": {},
   "source": [
    "Выясним какой мем самый популярный. Метрикой популярности, в данном случае, будет оценка среднего числа просомтров в день. Для этого разделим фактическое число просмотров на число дней, прошедших со дня публикации."
   ]
  },
  {
   "cell_type": "code",
   "execution_count": 105,
   "id": "6eaf889b",
   "metadata": {},
   "outputs": [],
   "source": [
    "memes['average_views'] = memes.views/memes['days_from_creation']"
   ]
  },
  {
   "cell_type": "code",
   "execution_count": 106,
   "id": "1bfad93e",
   "metadata": {},
   "outputs": [
    {
     "data": {
      "text/plain": [
       "inf"
      ]
     },
     "execution_count": 106,
     "metadata": {},
     "output_type": "execute_result"
    }
   ],
   "source": [
    "memes.average_views.max()"
   ]
  },
  {
   "cell_type": "code",
   "execution_count": 107,
   "id": "807ab713",
   "metadata": {},
   "outputs": [
    {
     "data": {
      "text/plain": [
       "53      0\n",
       "95      0\n",
       "170     0\n",
       "191     0\n",
       "786     0\n",
       "831     0\n",
       "986     0\n",
       "1031    0\n",
       "1716    0\n",
       "2371    0\n",
       "2394    0\n",
       "3046    0\n",
       "Name: days_from_creation, dtype: int64"
      ]
     },
     "execution_count": 107,
     "metadata": {},
     "output_type": "execute_result"
    }
   ],
   "source": [
    "memes[memes['average_views'] == memes.average_views.max()]['days_from_creation']"
   ]
  },
  {
   "cell_type": "markdown",
   "id": "4cdfa321",
   "metadata": {},
   "source": [
    "Мемы были созданы в тот день, когда был сбор данных. **А на ноль делить нельзя**"
   ]
  },
  {
   "cell_type": "code",
   "execution_count": 108,
   "id": "0032080c",
   "metadata": {},
   "outputs": [],
   "source": [
    "memes['average_views'] = memes.views/(memes['days_from_creation']+1)"
   ]
  },
  {
   "cell_type": "code",
   "execution_count": 109,
   "id": "2cd22d29",
   "metadata": {},
   "outputs": [
    {
     "data": {
      "text/plain": [
       "381029.0"
      ]
     },
     "execution_count": 109,
     "metadata": {},
     "output_type": "execute_result"
    }
   ],
   "source": [
    "memes.average_views.max()"
   ]
  },
  {
   "cell_type": "code",
   "execution_count": 112,
   "id": "6ccf6b0a",
   "metadata": {},
   "outputs": [
    {
     "data": {
      "text/plain": [
       "Text(0.5, 1.0, 'Hist of average views')"
      ]
     },
     "execution_count": 112,
     "metadata": {},
     "output_type": "execute_result"
    },
    {
     "data": {
      "image/png": "[encoded data removed]",
      "text/plain": [
       "<Figure size 432x288 with 1 Axes>"
      ]
     },
     "metadata": {},
     "output_type": "display_data"
    }
   ],
   "source": [
    "memes.average_views.hist(bins=25)\n",
    "\n",
    "plt.xlabel('Число просмотров в день')\n",
    "plt.ylabel('Количество мемов')\n",
    "plt.title('Hist of average views')"
   ]
  },
  {
   "cell_type": "code",
   "execution_count": 114,
   "id": "691214a2",
   "metadata": {},
   "outputs": [
    {
     "data": {
      "image/png": "[encoded data removed]",
      "text/plain": [
       "<Figure size 432x288 with 1 Axes>"
      ]
     },
     "metadata": {},
     "output_type": "display_data"
    }
   ],
   "source": [
    "plt.hist(memes.average_views.apply(np.log), bins=50)\n",
    "plt.title('Hist of log average views');"
   ]
  },
  {
   "cell_type": "markdown",
   "id": "b37161ed",
   "metadata": {},
   "source": [
    "Распределение числа просмотров за день оказывается мультимодальным (у него два локальных максимума)"
   ]
  },
  {
   "cell_type": "markdown",
   "id": "2c95b40d",
   "metadata": {},
   "source": [
    "Посмотрим на **комментарии**"
   ]
  },
  {
   "cell_type": "code",
   "execution_count": 116,
   "id": "29da52fa",
   "metadata": {},
   "outputs": [
    {
     "data": {
      "image/png": "[encoded data removed]",
      "text/plain": [
       "<Figure size 432x288 with 1 Axes>"
      ]
     },
     "metadata": {},
     "output_type": "display_data"
    },
    {
     "data": {
      "image/png": "[encoded data removed]",
      "text/plain": [
       "<Figure size 432x288 with 1 Axes>"
      ]
     },
     "metadata": {},
     "output_type": "display_data"
    }
   ],
   "source": [
    "memes.comments.hist(bins=25)\n",
    "plt.title(\"Hist of comments\")\n",
    "plt.show()\n",
    "          \n",
    "np.log(memes.comments + 1).hist(bins = 25)\n",
    "plt.title(\"Hist of log comments\")\n",
    "plt.show();"
   ]
  },
  {
   "cell_type": "markdown",
   "id": "d2713598",
   "metadata": {},
   "source": [
    "Поссмотрим на самые комментируемые"
   ]
  },
  {
   "cell_type": "code",
   "execution_count": 117,
   "id": "c45cfba4",
   "metadata": {},
   "outputs": [],
   "source": [
    "memes['average_comments'] = memes.comments/(memes.days_from_creation + 1)"
   ]
  },
  {
   "cell_type": "code",
   "execution_count": 119,
   "id": "0b873cd1",
   "metadata": {},
   "outputs": [
    {
     "name": "stdout",
     "output_type": "stream",
     "text": [
      "Meme name:\n",
      "Miley Cyrus\n",
      "Average comments (per. day) 90\n",
      "===========================================================\n",
      "Meme name:\n",
      "McDonald’s \"Happy\" Mascot\n",
      "Average comments (per. day) 88\n",
      "===========================================================\n",
      "Meme name:\n",
      "Hero Cat\n",
      "Average comments (per. day) 60\n",
      "===========================================================\n",
      "Meme name:\n",
      "Colonel Meow\n",
      "Average comments (per. day) 56\n",
      "===========================================================\n",
      "Meme name:\n",
      "Bob the Builder\n",
      "Average comments (per. day) 56\n",
      "===========================================================\n",
      "Meme name:\n",
      "Mike Pence\n",
      "Average comments (per. day) 54\n",
      "===========================================================\n",
      "Meme name:\n",
      "Scout Face\n",
      "Average comments (per. day) 38\n",
      "===========================================================\n"
     ]
    }
   ],
   "source": [
    "popular = memes.sort_values(by='average_comments', ascending=False)\n",
    "\n",
    "for i in popular.index.tolist()[:7]:\n",
    "    print('Meme name:\\n{}'.format(popular.loc[i, 'name']))\n",
    "    print('Average comments (per. day) {}'.format(round(popular.loc[i, 'average_comments'])))\n",
    "    print(\"===========================================================\")"
   ]
  },
  {
   "cell_type": "code",
   "execution_count": 125,
   "id": "5f4d3c77",
   "metadata": {},
   "outputs": [
    {
     "data": {
      "text/plain": [
       "name                   0.000000\n",
       "status                 0.000000\n",
       "type                  57.536852\n",
       "origin_year            0.000000\n",
       "origin_place           0.023776\n",
       "date_added             0.000000\n",
       "views                  0.000000\n",
       "videos                 0.000000\n",
       "photos                 0.000000\n",
       "comments               0.000000\n",
       "tags                   0.023776\n",
       "about                  9.700428\n",
       "origin                39.990490\n",
       "other_text            16.595340\n",
       "Timestamp              0.000000\n",
       "Year                   0.000000\n",
       "Month                  0.000000\n",
       "Day                    0.000000\n",
       "Hour                   0.000000\n",
       "Weekday                0.000000\n",
       "days_from_creation     0.000000\n",
       "average_views          0.000000\n",
       "average_comments       0.000000\n",
       "dtype: float64"
      ]
     },
     "execution_count": 125,
     "metadata": {},
     "output_type": "execute_result"
    }
   ],
   "source": [
    "# Процент пропусков в колонках\n",
    "100*memes.isnull().sum()/memes.shape[0]"
   ]
  },
  {
   "cell_type": "markdown",
   "id": "6a9c1e4d",
   "metadata": {},
   "source": [
    "## 4. Категориальные и текстовые переменные"
   ]
  },
  {
   "cell_type": "markdown",
   "id": "f105ea8f",
   "metadata": {},
   "source": [
    "Посмотрим на описательные статистики по нашим категориальным переменным."
   ]
  },
  {
   "cell_type": "code",
   "execution_count": 126,
   "id": "ffe14e48",
   "metadata": {},
   "outputs": [
    {
     "data": {
      "text/html": [
       "<div>\n",
       "<style scoped>\n",
       "    .dataframe tbody tr th:only-of-type {\n",
       "        vertical-align: middle;\n",
       "    }\n",
       "\n",
       "    .dataframe tbody tr th {\n",
       "        vertical-align: top;\n",
       "    }\n",
       "\n",
       "    .dataframe thead th {\n",
       "        text-align: right;\n",
       "    }\n",
       "</style>\n",
       "<table border=\"1\" class=\"dataframe\">\n",
       "  <thead>\n",
       "    <tr style=\"text-align: right;\">\n",
       "      <th></th>\n",
       "      <th>status</th>\n",
       "      <th>type</th>\n",
       "      <th>origin_place</th>\n",
       "    </tr>\n",
       "  </thead>\n",
       "  <tbody>\n",
       "    <tr>\n",
       "      <th>count</th>\n",
       "      <td>4206</td>\n",
       "      <td>1786</td>\n",
       "      <td>4205</td>\n",
       "    </tr>\n",
       "    <tr>\n",
       "      <th>unique</th>\n",
       "      <td>3</td>\n",
       "      <td>98</td>\n",
       "      <td>1885</td>\n",
       "    </tr>\n",
       "    <tr>\n",
       "      <th>top</th>\n",
       "      <td>Submission</td>\n",
       "      <td>Exploitable</td>\n",
       "      <td>Unknown</td>\n",
       "    </tr>\n",
       "    <tr>\n",
       "      <th>freq</th>\n",
       "      <td>2482</td>\n",
       "      <td>152</td>\n",
       "      <td>535</td>\n",
       "    </tr>\n",
       "  </tbody>\n",
       "</table>\n",
       "</div>"
      ],
      "text/plain": [
       "            status         type origin_place\n",
       "count         4206         1786         4205\n",
       "unique           3           98         1885\n",
       "top     Submission  Exploitable      Unknown\n",
       "freq          2482          152          535"
      ]
     },
     "execution_count": 126,
     "metadata": {},
     "output_type": "execute_result"
    }
   ],
   "source": [
    "memes[['status','type','origin_place']].describe()"
   ]
  },
  {
   "cell_type": "markdown",
   "id": "1a3caaa4",
   "metadata": {},
   "source": [
    "Для каждого мема есть три статуса:\n",
    "- Submisssion - Добавлен недавно или ещё не стал признанным в обществе\n",
    "- Deadpool - Мем умер и не используется\n",
    "- Confirmed - Активно используется и получил статус \"подтвержденного мема\""
   ]
  },
  {
   "cell_type": "code",
   "execution_count": 127,
   "id": "3a0ee175",
   "metadata": {},
   "outputs": [
    {
     "data": {
      "image/png": "[encoded data removed]",
      "text/plain": [
       "<Figure size 432x288 with 1 Axes>"
      ]
     },
     "metadata": {},
     "output_type": "display_data"
    }
   ],
   "source": [
    "memes.status.value_counts().plot(kind='barh')\n",
    "plt.title('Hist of status');"
   ]
  },
  {
   "cell_type": "markdown",
   "id": "f0f691c5",
   "metadata": {},
   "source": [
    "Алгоритмы умеют учиться на **числах**. Надо заменить все категории на числа. Вопрос в том, как бы это лучше сделать. Наша переменная принимает три значения. Возникает соблазн заменить Submission на 1, Deadpool на 2, СComfirmed на 3.\n",
    "\n",
    "Это Неправильный подход. Если так сделать, то некоторые алгоритмы могут подумать, что третий тип самый лучший (т.к. 3 > 2 и 3 > 1), в первый самый плохой. Это запутает алгоритм.\n",
    "\n",
    "Чтобы не путать алгоритм, поступают следующим образом: делают из категориальной переменной много **дамми-переменных**, то есть переменных, которые принимает значение либо 1 либо 0. Такая процедура называется **one hot encoding**"
   ]
  },
  {
   "cell_type": "code",
   "execution_count": 130,
   "id": "0d4bf5e7",
   "metadata": {},
   "outputs": [
    {
     "data": {
      "text/html": [
       "<div>\n",
       "<style scoped>\n",
       "    .dataframe tbody tr th:only-of-type {\n",
       "        vertical-align: middle;\n",
       "    }\n",
       "\n",
       "    .dataframe tbody tr th {\n",
       "        vertical-align: top;\n",
       "    }\n",
       "\n",
       "    .dataframe thead th {\n",
       "        text-align: right;\n",
       "    }\n",
       "</style>\n",
       "<table border=\"1\" class=\"dataframe\">\n",
       "  <thead>\n",
       "    <tr style=\"text-align: right;\">\n",
       "      <th></th>\n",
       "      <th>ohe__Confirmed</th>\n",
       "      <th>ohe__Deadpool</th>\n",
       "      <th>ohe__Submission</th>\n",
       "      <th>ohe__nan</th>\n",
       "    </tr>\n",
       "  </thead>\n",
       "  <tbody>\n",
       "    <tr>\n",
       "      <th>0</th>\n",
       "      <td>0</td>\n",
       "      <td>0</td>\n",
       "      <td>1</td>\n",
       "      <td>0</td>\n",
       "    </tr>\n",
       "    <tr>\n",
       "      <th>1</th>\n",
       "      <td>0</td>\n",
       "      <td>0</td>\n",
       "      <td>1</td>\n",
       "      <td>0</td>\n",
       "    </tr>\n",
       "    <tr>\n",
       "      <th>2</th>\n",
       "      <td>0</td>\n",
       "      <td>0</td>\n",
       "      <td>1</td>\n",
       "      <td>0</td>\n",
       "    </tr>\n",
       "    <tr>\n",
       "      <th>3</th>\n",
       "      <td>0</td>\n",
       "      <td>0</td>\n",
       "      <td>1</td>\n",
       "      <td>0</td>\n",
       "    </tr>\n",
       "    <tr>\n",
       "      <th>4</th>\n",
       "      <td>0</td>\n",
       "      <td>0</td>\n",
       "      <td>1</td>\n",
       "      <td>0</td>\n",
       "    </tr>\n",
       "  </tbody>\n",
       "</table>\n",
       "</div>"
      ],
      "text/plain": [
       "   ohe__Confirmed  ohe__Deadpool  ohe__Submission  ohe__nan\n",
       "0               0              0                1         0\n",
       "1               0              0                1         0\n",
       "2               0              0                1         0\n",
       "3               0              0                1         0\n",
       "4               0              0                1         0"
      ]
     },
     "execution_count": 130,
     "metadata": {},
     "output_type": "execute_result"
    }
   ],
   "source": [
    "pd.get_dummies(memes['status'], \n",
    "               dummy_na=True,  # Добавляет колонку NaN (Если есть пропуски в данных)\n",
    "               prefix='ohe_').head()"
   ]
  },
  {
   "cell_type": "code",
   "execution_count": 132,
   "id": "4d6948d0",
   "metadata": {},
   "outputs": [
    {
     "data": {
      "text/html": [
       "<div>\n",
       "<style scoped>\n",
       "    .dataframe tbody tr th:only-of-type {\n",
       "        vertical-align: middle;\n",
       "    }\n",
       "\n",
       "    .dataframe tbody tr th {\n",
       "        vertical-align: top;\n",
       "    }\n",
       "\n",
       "    .dataframe thead th {\n",
       "        text-align: right;\n",
       "    }\n",
       "</style>\n",
       "<table border=\"1\" class=\"dataframe\">\n",
       "  <thead>\n",
       "    <tr style=\"text-align: right;\">\n",
       "      <th></th>\n",
       "      <th>Deadpool</th>\n",
       "      <th>Submission</th>\n",
       "    </tr>\n",
       "  </thead>\n",
       "  <tbody>\n",
       "    <tr>\n",
       "      <th>0</th>\n",
       "      <td>0</td>\n",
       "      <td>1</td>\n",
       "    </tr>\n",
       "    <tr>\n",
       "      <th>1</th>\n",
       "      <td>0</td>\n",
       "      <td>1</td>\n",
       "    </tr>\n",
       "    <tr>\n",
       "      <th>2</th>\n",
       "      <td>0</td>\n",
       "      <td>1</td>\n",
       "    </tr>\n",
       "    <tr>\n",
       "      <th>3</th>\n",
       "      <td>0</td>\n",
       "      <td>1</td>\n",
       "    </tr>\n",
       "    <tr>\n",
       "      <th>4</th>\n",
       "      <td>0</td>\n",
       "      <td>1</td>\n",
       "    </tr>\n",
       "  </tbody>\n",
       "</table>\n",
       "</div>"
      ],
      "text/plain": [
       "   Deadpool  Submission\n",
       "0         0           1\n",
       "1         0           1\n",
       "2         0           1\n",
       "3         0           1\n",
       "4         0           1"
      ]
     },
     "execution_count": 132,
     "metadata": {},
     "output_type": "execute_result"
    }
   ],
   "source": [
    "pd.get_dummies(memes['status'], \n",
    "               drop_first=True # Избегание dummy-ловушки\n",
    "              ).head()"
   ]
  },
  {
   "cell_type": "markdown",
   "id": "ece3f9a6",
   "metadata": {},
   "source": [
    "Если мем относится к типу Confirmed, то у него в соответствующем столбце будет стоять единичка, а в остальных нули. Если категориальных переменных много, то мы переработаем её в слишком большое число столбцов. Это приводит к очень большому пространству признаков и проклятью размерности.\n",
    "\n",
    "В оставшихся двух переменных очень много вариантов категорий. Посмотрим сколько и как они распределены"
   ]
  },
  {
   "cell_type": "code",
   "execution_count": 133,
   "id": "2c10258f",
   "metadata": {},
   "outputs": [
    {
     "data": {
      "text/plain": [
       "Exploitable    152\n",
       "Character      121\n",
       "Catchphrase    112\n",
       "Image Macro    111\n",
       "Controversy     95\n",
       "              ... \n",
       "Podcast          1\n",
       "Scientist        1\n",
       "Fan Labor        1\n",
       "Model            1\n",
       "Flash Mob        1\n",
       "Name: type, Length: 98, dtype: int64"
      ]
     },
     "execution_count": 133,
     "metadata": {},
     "output_type": "execute_result"
    }
   ],
   "source": [
    "memes.type.value_counts()"
   ]
  },
  {
   "cell_type": "markdown",
   "id": "12e661c9",
   "metadata": {},
   "source": [
    "Заменим все маленькие категории на `another`"
   ]
  },
  {
   "cell_type": "code",
   "execution_count": 139,
   "id": "62f5b496",
   "metadata": {},
   "outputs": [
    {
     "data": {
      "text/plain": [
       "{'Anime',\n",
       " 'Catchphrase',\n",
       " 'Character',\n",
       " 'Controversy',\n",
       " 'Copypasta',\n",
       " 'Exploitable',\n",
       " 'Image Macro',\n",
       " 'Parody',\n",
       " 'Participatory Media',\n",
       " 'Pop Culture Reference',\n",
       " 'Reaction',\n",
       " 'Remix',\n",
       " 'Slang',\n",
       " 'Song',\n",
       " 'Video Game',\n",
       " 'Viral Video'}"
      ]
     },
     "execution_count": 139,
     "metadata": {},
     "output_type": "execute_result"
    }
   ],
   "source": [
    "cnt = memes.type.value_counts()\n",
    "big_category = set(cnt[cnt >= 30].index)\n",
    "big_category"
   ]
  },
  {
   "cell_type": "code",
   "execution_count": 143,
   "id": "a04722a1",
   "metadata": {},
   "outputs": [],
   "source": [
    "memes.type = memes.type.apply(lambda w: w if w in big_category else 'another')"
   ]
  },
  {
   "cell_type": "code",
   "execution_count": 145,
   "id": "03665014",
   "metadata": {},
   "outputs": [
    {
     "data": {
      "image/png": "[encoded data removed]",
      "text/plain": [
       "<Figure size 432x288 with 1 Axes>"
      ]
     },
     "metadata": {},
     "output_type": "display_data"
    }
   ],
   "source": [
    "memes.type.value_counts().plot(kind='barh');"
   ]
  },
  {
   "cell_type": "markdown",
   "id": "8c80367d",
   "metadata": {},
   "source": [
    "По аналогии поступим с местом происхождеия мема"
   ]
  },
  {
   "cell_type": "code",
   "execution_count": 146,
   "id": "db9ddfc5",
   "metadata": {},
   "outputs": [
    {
     "data": {
      "text/plain": [
       "Unknown                                           535\n",
       "YouTube                                           354\n",
       "Twitter                                           322\n",
       "4chan                                             179\n",
       "Reddit                                            141\n",
       "                                                 ... \n",
       "Johan Brand, Jamie Brooker and Morten Versvik.      1\n",
       "P.E.P.E.                                            1\n",
       "Toy Story                                           1\n",
       "Paper Mario and the Thousand Year Door              1\n",
       "r9k                                                 1\n",
       "Name: origin_place, Length: 1885, dtype: int64"
      ]
     },
     "execution_count": 146,
     "metadata": {},
     "output_type": "execute_result"
    }
   ],
   "source": [
    "memes.origin_place.value_counts()"
   ]
  },
  {
   "cell_type": "code",
   "execution_count": 147,
   "id": "8806cc0e",
   "metadata": {},
   "outputs": [
    {
     "data": {
      "image/png": "[encoded data removed]",
      "text/plain": [
       "<Figure size 432x288 with 1 Axes>"
      ]
     },
     "metadata": {},
     "output_type": "display_data"
    }
   ],
   "source": [
    "cnt = memes.origin_place.value_counts()\n",
    "big_category = set(cnt[cnt >= 30].index)\n",
    "\n",
    "memes.origin_place = memes.origin_place.apply(lambda w: w if w in big_category else 'another')\n",
    "memes.origin_place.value_counts().plot(kind='barh');"
   ]
  },
  {
   "cell_type": "markdown",
   "id": "7218c946",
   "metadata": {},
   "source": [
    "Остались только текстовые переменные. На их основе тоже можно создать новые переменные. Например, посчитать длину текстов или посмотреть входят ли в них какие-то специфические слова. В машинном обучении есть отдельный раздел, который посвящён работе с текстами."
   ]
  },
  {
   "cell_type": "code",
   "execution_count": 148,
   "id": "28f75419",
   "metadata": {},
   "outputs": [
    {
     "data": {
      "text/html": [
       "<div>\n",
       "<style scoped>\n",
       "    .dataframe tbody tr th:only-of-type {\n",
       "        vertical-align: middle;\n",
       "    }\n",
       "\n",
       "    .dataframe tbody tr th {\n",
       "        vertical-align: top;\n",
       "    }\n",
       "\n",
       "    .dataframe thead th {\n",
       "        text-align: right;\n",
       "    }\n",
       "</style>\n",
       "<table border=\"1\" class=\"dataframe\">\n",
       "  <thead>\n",
       "    <tr style=\"text-align: right;\">\n",
       "      <th></th>\n",
       "      <th>tags</th>\n",
       "      <th>about</th>\n",
       "      <th>origin</th>\n",
       "      <th>other_text</th>\n",
       "    </tr>\n",
       "  </thead>\n",
       "  <tbody>\n",
       "    <tr>\n",
       "      <th>0</th>\n",
       "      <td>jay-lee hilzinger &amp; maddie flynn, eshayz, davi...</td>\n",
       "      <td>Muvvafukka refers to a viral video of two teen...</td>\n",
       "      <td>While it appears the original video is deleted...</td>\n",
       "      <td>Butler also made a screenshot of Hilzinger's f...</td>\n",
       "    </tr>\n",
       "    <tr>\n",
       "      <th>1</th>\n",
       "      <td>perk, martyrdom, live grenade, reaction image,...</td>\n",
       "      <td>Martyrdom (Drop a Live Grenade When Killed) re...</td>\n",
       "      <td>On April 12th, 2007, first person shooter Call...</td>\n",
       "      <td>Spread The exact first instance of use of the ...</td>\n",
       "    </tr>\n",
       "    <tr>\n",
       "      <th>2</th>\n",
       "      <td>kylo ren, star wars the rise of skywalker, ada...</td>\n",
       "      <td>Wet Kylo Ren is an image macro series based on...</td>\n",
       "      <td>On October 21st, 2019, the final trailer for t...</td>\n",
       "      <td>Shortly after the trailer's release, some on T...</td>\n",
       "    </tr>\n",
       "    <tr>\n",
       "      <th>3</th>\n",
       "      <td>byob, byow, party, flyer, charge, door</td>\n",
       "      <td>You're Invited is a series of TikTok videos pa...</td>\n",
       "      <td>On October 13th, 2019, TikTok user @coolguycol...</td>\n",
       "      <td>Spread On October 15th, 2019, @moneyxmo upload...</td>\n",
       "    </tr>\n",
       "    <tr>\n",
       "      <th>4</th>\n",
       "      <td>social media campaign, brands, companies, max ...</td>\n",
       "      <td>Companies Posting Their Own Names refers to a ...</td>\n",
       "      <td>On October 18th, 2019, Australian musician and...</td>\n",
       "      <td>Before October 2019, a number of companies and...</td>\n",
       "    </tr>\n",
       "    <tr>\n",
       "      <th>...</th>\n",
       "      <td>...</td>\n",
       "      <td>...</td>\n",
       "      <td>...</td>\n",
       "      <td>...</td>\n",
       "    </tr>\n",
       "    <tr>\n",
       "      <th>4201</th>\n",
       "      <td>youtube poop, audio, harmonizer, remix, scary,...</td>\n",
       "      <td>The \"In G Major\" Youtube Poop fad, or Poopism,...</td>\n",
       "      <td>Chewiki credits Youtube Pooper Gallas as the o...</td>\n",
       "      <td>However, even though Gallers played an influen...</td>\n",
       "    </tr>\n",
       "    <tr>\n",
       "      <th>4202</th>\n",
       "      <td>none...</td>\n",
       "      <td>Blood Diamond Pants is a reference to the gene...</td>\n",
       "      <td>NaN</td>\n",
       "      <td>\"Godspeed\", the forum member who posted the or...</td>\n",
       "    </tr>\n",
       "    <tr>\n",
       "      <th>4203</th>\n",
       "      <td>michael j. fox, joke, image macro, 4chan, cele...</td>\n",
       "      <td>Because of Parkinson's (also known as \"Michael...</td>\n",
       "      <td>Michel J. Fox is an Canadian–American actor an...</td>\n",
       "      <td>The first instance of Michael J. Fox's equatio...</td>\n",
       "    </tr>\n",
       "    <tr>\n",
       "      <th>4204</th>\n",
       "      <td>4chan, parrot, paranoia, paranoid parrot, advi...</td>\n",
       "      <td>Paranoid Parrot is an advice animal image macr...</td>\n",
       "      <td>While the photographer is unknown, the origina...</td>\n",
       "      <td>In 2007, the same image was used to illustrate...</td>\n",
       "    </tr>\n",
       "    <tr>\n",
       "      <th>4205</th>\n",
       "      <td>movie, catchphrase, film, office space, movie ...</td>\n",
       "      <td>NaN</td>\n",
       "      <td>Office Space was a 1999 comedy by Beavis and B...</td>\n",
       "      <td>Milton Waddams (played by actor Stephen Root) ...</td>\n",
       "    </tr>\n",
       "  </tbody>\n",
       "</table>\n",
       "<p>4206 rows × 4 columns</p>\n",
       "</div>"
      ],
      "text/plain": [
       "                                                   tags  \\\n",
       "0     jay-lee hilzinger & maddie flynn, eshayz, davi...   \n",
       "1     perk, martyrdom, live grenade, reaction image,...   \n",
       "2     kylo ren, star wars the rise of skywalker, ada...   \n",
       "3                byob, byow, party, flyer, charge, door   \n",
       "4     social media campaign, brands, companies, max ...   \n",
       "...                                                 ...   \n",
       "4201  youtube poop, audio, harmonizer, remix, scary,...   \n",
       "4202                                            none...   \n",
       "4203  michael j. fox, joke, image macro, 4chan, cele...   \n",
       "4204  4chan, parrot, paranoia, paranoid parrot, advi...   \n",
       "4205  movie, catchphrase, film, office space, movie ...   \n",
       "\n",
       "                                                  about  \\\n",
       "0     Muvvafukka refers to a viral video of two teen...   \n",
       "1     Martyrdom (Drop a Live Grenade When Killed) re...   \n",
       "2     Wet Kylo Ren is an image macro series based on...   \n",
       "3     You're Invited is a series of TikTok videos pa...   \n",
       "4     Companies Posting Their Own Names refers to a ...   \n",
       "...                                                 ...   \n",
       "4201  The \"In G Major\" Youtube Poop fad, or Poopism,...   \n",
       "4202  Blood Diamond Pants is a reference to the gene...   \n",
       "4203  Because of Parkinson's (also known as \"Michael...   \n",
       "4204  Paranoid Parrot is an advice animal image macr...   \n",
       "4205                                                NaN   \n",
       "\n",
       "                                                 origin  \\\n",
       "0     While it appears the original video is deleted...   \n",
       "1     On April 12th, 2007, first person shooter Call...   \n",
       "2     On October 21st, 2019, the final trailer for t...   \n",
       "3     On October 13th, 2019, TikTok user @coolguycol...   \n",
       "4     On October 18th, 2019, Australian musician and...   \n",
       "...                                                 ...   \n",
       "4201  Chewiki credits Youtube Pooper Gallas as the o...   \n",
       "4202                                                NaN   \n",
       "4203  Michel J. Fox is an Canadian–American actor an...   \n",
       "4204  While the photographer is unknown, the origina...   \n",
       "4205  Office Space was a 1999 comedy by Beavis and B...   \n",
       "\n",
       "                                             other_text  \n",
       "0     Butler also made a screenshot of Hilzinger's f...  \n",
       "1     Spread The exact first instance of use of the ...  \n",
       "2     Shortly after the trailer's release, some on T...  \n",
       "3     Spread On October 15th, 2019, @moneyxmo upload...  \n",
       "4     Before October 2019, a number of companies and...  \n",
       "...                                                 ...  \n",
       "4201  However, even though Gallers played an influen...  \n",
       "4202  \"Godspeed\", the forum member who posted the or...  \n",
       "4203  The first instance of Michael J. Fox's equatio...  \n",
       "4204  In 2007, the same image was used to illustrate...  \n",
       "4205  Milton Waddams (played by actor Stephen Root) ...  \n",
       "\n",
       "[4206 rows x 4 columns]"
      ]
     },
     "execution_count": 148,
     "metadata": {},
     "output_type": "execute_result"
    }
   ],
   "source": [
    "memes[['tags', 'about', 'origin', 'other_text']]"
   ]
  },
  {
   "cell_type": "code",
   "execution_count": 150,
   "id": "4c5c1e6e",
   "metadata": {},
   "outputs": [
    {
     "data": {
      "text/plain": [
       "<AxesSubplot:>"
      ]
     },
     "execution_count": 150,
     "metadata": {},
     "output_type": "execute_result"
    },
    {
     "data": {
      "image/png": "[encoded data removed]",
      "text/plain": [
       "<Figure size 432x288 with 1 Axes>"
      ]
     },
     "metadata": {},
     "output_type": "display_data"
    }
   ],
   "source": [
    "memes['tags_len'] = memes.tags.str.len()\n",
    "memes['tags_len'].hist(bins=25)"
   ]
  },
  {
   "cell_type": "markdown",
   "id": "8d380fc0",
   "metadata": {},
   "source": [
    "Установим имя в качестве индекса и удалим все лишние колонки"
   ]
  },
  {
   "cell_type": "code",
   "execution_count": 151,
   "id": "50247c29",
   "metadata": {},
   "outputs": [
    {
     "data": {
      "text/html": [
       "<div>\n",
       "<style scoped>\n",
       "    .dataframe tbody tr th:only-of-type {\n",
       "        vertical-align: middle;\n",
       "    }\n",
       "\n",
       "    .dataframe tbody tr th {\n",
       "        vertical-align: top;\n",
       "    }\n",
       "\n",
       "    .dataframe thead th {\n",
       "        text-align: right;\n",
       "    }\n",
       "</style>\n",
       "<table border=\"1\" class=\"dataframe\">\n",
       "  <thead>\n",
       "    <tr style=\"text-align: right;\">\n",
       "      <th></th>\n",
       "      <th>status</th>\n",
       "      <th>type</th>\n",
       "      <th>origin_year</th>\n",
       "      <th>origin_place</th>\n",
       "      <th>date_added</th>\n",
       "      <th>views</th>\n",
       "      <th>videos</th>\n",
       "      <th>photos</th>\n",
       "      <th>comments</th>\n",
       "      <th>tags</th>\n",
       "      <th>...</th>\n",
       "      <th>Timestamp</th>\n",
       "      <th>Year</th>\n",
       "      <th>Month</th>\n",
       "      <th>Day</th>\n",
       "      <th>Hour</th>\n",
       "      <th>Weekday</th>\n",
       "      <th>days_from_creation</th>\n",
       "      <th>average_views</th>\n",
       "      <th>average_comments</th>\n",
       "      <th>tags_len</th>\n",
       "    </tr>\n",
       "    <tr>\n",
       "      <th>name</th>\n",
       "      <th></th>\n",
       "      <th></th>\n",
       "      <th></th>\n",
       "      <th></th>\n",
       "      <th></th>\n",
       "      <th></th>\n",
       "      <th></th>\n",
       "      <th></th>\n",
       "      <th></th>\n",
       "      <th></th>\n",
       "      <th></th>\n",
       "      <th></th>\n",
       "      <th></th>\n",
       "      <th></th>\n",
       "      <th></th>\n",
       "      <th></th>\n",
       "      <th></th>\n",
       "      <th></th>\n",
       "      <th></th>\n",
       "      <th></th>\n",
       "      <th></th>\n",
       "    </tr>\n",
       "  </thead>\n",
       "  <tbody>\n",
       "    <tr>\n",
       "      <th>Muvvafukka</th>\n",
       "      <td>Submission</td>\n",
       "      <td>Viral Video</td>\n",
       "      <td>2019</td>\n",
       "      <td>Facebook</td>\n",
       "      <td>2019-10-24T04:05:03-04:00</td>\n",
       "      <td>13613</td>\n",
       "      <td>0</td>\n",
       "      <td>7</td>\n",
       "      <td>8</td>\n",
       "      <td>jay-lee hilzinger &amp; maddie flynn, eshayz, davi...</td>\n",
       "      <td>...</td>\n",
       "      <td>2019-10-24 04:05:03-04:00</td>\n",
       "      <td>2019</td>\n",
       "      <td>10</td>\n",
       "      <td>24</td>\n",
       "      <td>4</td>\n",
       "      <td>3</td>\n",
       "      <td>13</td>\n",
       "      <td>972.357143</td>\n",
       "      <td>0.571429</td>\n",
       "      <td>197.0</td>\n",
       "    </tr>\n",
       "    <tr>\n",
       "      <th>Martyrdom (Drop a Live Grenade When Killed)</th>\n",
       "      <td>Submission</td>\n",
       "      <td>Reaction</td>\n",
       "      <td>2007</td>\n",
       "      <td>another</td>\n",
       "      <td>2019-10-23T12:13:13-04:00</td>\n",
       "      <td>13973</td>\n",
       "      <td>0</td>\n",
       "      <td>17</td>\n",
       "      <td>8</td>\n",
       "      <td>perk, martyrdom, live grenade, reaction image,...</td>\n",
       "      <td>...</td>\n",
       "      <td>2019-10-23 12:13:13-04:00</td>\n",
       "      <td>2019</td>\n",
       "      <td>10</td>\n",
       "      <td>23</td>\n",
       "      <td>12</td>\n",
       "      <td>2</td>\n",
       "      <td>14</td>\n",
       "      <td>931.533333</td>\n",
       "      <td>0.533333</td>\n",
       "      <td>102.0</td>\n",
       "    </tr>\n",
       "    <tr>\n",
       "      <th>Wet Kylo Ren</th>\n",
       "      <td>Submission</td>\n",
       "      <td>Image Macro</td>\n",
       "      <td>2019</td>\n",
       "      <td>another</td>\n",
       "      <td>2019-10-23T11:56:19-04:00</td>\n",
       "      <td>5339</td>\n",
       "      <td>0</td>\n",
       "      <td>12</td>\n",
       "      <td>7</td>\n",
       "      <td>kylo ren, star wars the rise of skywalker, ada...</td>\n",
       "      <td>...</td>\n",
       "      <td>2019-10-23 11:56:19-04:00</td>\n",
       "      <td>2019</td>\n",
       "      <td>10</td>\n",
       "      <td>23</td>\n",
       "      <td>11</td>\n",
       "      <td>2</td>\n",
       "      <td>14</td>\n",
       "      <td>355.933333</td>\n",
       "      <td>0.466667</td>\n",
       "      <td>130.0</td>\n",
       "    </tr>\n",
       "    <tr>\n",
       "      <th>You're Invited</th>\n",
       "      <td>Submission</td>\n",
       "      <td>Parody</td>\n",
       "      <td>2019</td>\n",
       "      <td>another</td>\n",
       "      <td>2019-10-23T10:32:04-04:00</td>\n",
       "      <td>2249</td>\n",
       "      <td>0</td>\n",
       "      <td>0</td>\n",
       "      <td>0</td>\n",
       "      <td>byob, byow, party, flyer, charge, door</td>\n",
       "      <td>...</td>\n",
       "      <td>2019-10-23 10:32:04-04:00</td>\n",
       "      <td>2019</td>\n",
       "      <td>10</td>\n",
       "      <td>23</td>\n",
       "      <td>10</td>\n",
       "      <td>2</td>\n",
       "      <td>14</td>\n",
       "      <td>149.933333</td>\n",
       "      <td>0.000000</td>\n",
       "      <td>38.0</td>\n",
       "    </tr>\n",
       "    <tr>\n",
       "      <th>Companies Posting Their Own Names</th>\n",
       "      <td>Submission</td>\n",
       "      <td>Participatory Media</td>\n",
       "      <td>2019</td>\n",
       "      <td>Facebook</td>\n",
       "      <td>2019-10-25T12:42:22-04:00</td>\n",
       "      <td>5662</td>\n",
       "      <td>0</td>\n",
       "      <td>16</td>\n",
       "      <td>33</td>\n",
       "      <td>social media campaign, brands, companies, max ...</td>\n",
       "      <td>...</td>\n",
       "      <td>2019-10-25 12:42:22-04:00</td>\n",
       "      <td>2019</td>\n",
       "      <td>10</td>\n",
       "      <td>25</td>\n",
       "      <td>12</td>\n",
       "      <td>4</td>\n",
       "      <td>12</td>\n",
       "      <td>435.538462</td>\n",
       "      <td>2.538462</td>\n",
       "      <td>200.0</td>\n",
       "    </tr>\n",
       "    <tr>\n",
       "      <th>...</th>\n",
       "      <td>...</td>\n",
       "      <td>...</td>\n",
       "      <td>...</td>\n",
       "      <td>...</td>\n",
       "      <td>...</td>\n",
       "      <td>...</td>\n",
       "      <td>...</td>\n",
       "      <td>...</td>\n",
       "      <td>...</td>\n",
       "      <td>...</td>\n",
       "      <td>...</td>\n",
       "      <td>...</td>\n",
       "      <td>...</td>\n",
       "      <td>...</td>\n",
       "      <td>...</td>\n",
       "      <td>...</td>\n",
       "      <td>...</td>\n",
       "      <td>...</td>\n",
       "      <td>...</td>\n",
       "      <td>...</td>\n",
       "      <td>...</td>\n",
       "    </tr>\n",
       "    <tr>\n",
       "      <th>In G Major</th>\n",
       "      <td>Confirmed</td>\n",
       "      <td>another</td>\n",
       "      <td>2007</td>\n",
       "      <td>YouTube</td>\n",
       "      <td>2018-01-16T05:32:05-05:00</td>\n",
       "      <td>111531</td>\n",
       "      <td>61</td>\n",
       "      <td>2</td>\n",
       "      <td>37</td>\n",
       "      <td>youtube poop, audio, harmonizer, remix, scary,...</td>\n",
       "      <td>...</td>\n",
       "      <td>2018-01-16 05:32:05-05:00</td>\n",
       "      <td>2018</td>\n",
       "      <td>1</td>\n",
       "      <td>16</td>\n",
       "      <td>5</td>\n",
       "      <td>1</td>\n",
       "      <td>659</td>\n",
       "      <td>168.986364</td>\n",
       "      <td>0.056061</td>\n",
       "      <td>50.0</td>\n",
       "    </tr>\n",
       "    <tr>\n",
       "      <th>Blood Diamond Pants</th>\n",
       "      <td>Deadpool</td>\n",
       "      <td>another</td>\n",
       "      <td>2007</td>\n",
       "      <td>another</td>\n",
       "      <td>2010-01-01T02:34:03-05:00</td>\n",
       "      <td>16348</td>\n",
       "      <td>0</td>\n",
       "      <td>0</td>\n",
       "      <td>5</td>\n",
       "      <td>none...</td>\n",
       "      <td>...</td>\n",
       "      <td>2010-01-01 02:34:03-05:00</td>\n",
       "      <td>2010</td>\n",
       "      <td>1</td>\n",
       "      <td>1</td>\n",
       "      <td>2</td>\n",
       "      <td>4</td>\n",
       "      <td>3596</td>\n",
       "      <td>4.544899</td>\n",
       "      <td>0.001390</td>\n",
       "      <td>7.0</td>\n",
       "    </tr>\n",
       "    <tr>\n",
       "      <th>Because of Parkinson's</th>\n",
       "      <td>Confirmed</td>\n",
       "      <td>another</td>\n",
       "      <td>2006</td>\n",
       "      <td>another</td>\n",
       "      <td>2013-09-26T16:26:49-04:00</td>\n",
       "      <td>205323</td>\n",
       "      <td>2</td>\n",
       "      <td>101</td>\n",
       "      <td>61</td>\n",
       "      <td>michael j. fox, joke, image macro, 4chan, cele...</td>\n",
       "      <td>...</td>\n",
       "      <td>2013-09-26 16:26:49-04:00</td>\n",
       "      <td>2013</td>\n",
       "      <td>9</td>\n",
       "      <td>26</td>\n",
       "      <td>16</td>\n",
       "      <td>3</td>\n",
       "      <td>2231</td>\n",
       "      <td>91.990591</td>\n",
       "      <td>0.027330</td>\n",
       "      <td>90.0</td>\n",
       "    </tr>\n",
       "    <tr>\n",
       "      <th>Paranoid Parrot</th>\n",
       "      <td>Confirmed</td>\n",
       "      <td>Image Macro</td>\n",
       "      <td>2009</td>\n",
       "      <td>another</td>\n",
       "      <td>2019-10-31T03:47:02-04:00</td>\n",
       "      <td>416158</td>\n",
       "      <td>2</td>\n",
       "      <td>218</td>\n",
       "      <td>51</td>\n",
       "      <td>4chan, parrot, paranoia, paranoid parrot, advi...</td>\n",
       "      <td>...</td>\n",
       "      <td>2019-10-31 03:47:02-04:00</td>\n",
       "      <td>2019</td>\n",
       "      <td>10</td>\n",
       "      <td>31</td>\n",
       "      <td>3</td>\n",
       "      <td>3</td>\n",
       "      <td>6</td>\n",
       "      <td>59451.142857</td>\n",
       "      <td>7.285714</td>\n",
       "      <td>72.0</td>\n",
       "    </tr>\n",
       "    <tr>\n",
       "      <th>I Believe You Have My Stapler</th>\n",
       "      <td>Confirmed</td>\n",
       "      <td>Pop Culture Reference</td>\n",
       "      <td>2004</td>\n",
       "      <td>another</td>\n",
       "      <td>2018-04-09T16:28:49-04:00</td>\n",
       "      <td>109512</td>\n",
       "      <td>1</td>\n",
       "      <td>25</td>\n",
       "      <td>29</td>\n",
       "      <td>movie, catchphrase, film, office space, movie ...</td>\n",
       "      <td>...</td>\n",
       "      <td>2018-04-09 16:28:49-04:00</td>\n",
       "      <td>2018</td>\n",
       "      <td>4</td>\n",
       "      <td>9</td>\n",
       "      <td>16</td>\n",
       "      <td>0</td>\n",
       "      <td>575</td>\n",
       "      <td>190.125000</td>\n",
       "      <td>0.050347</td>\n",
       "      <td>51.0</td>\n",
       "    </tr>\n",
       "  </tbody>\n",
       "</table>\n",
       "<p>4206 rows × 23 columns</p>\n",
       "</div>"
      ],
      "text/plain": [
       "                                                 status  \\\n",
       "name                                                      \n",
       "Muvvafukka                                   Submission   \n",
       "Martyrdom (Drop a Live Grenade When Killed)  Submission   \n",
       "Wet Kylo Ren                                 Submission   \n",
       "You're Invited                               Submission   \n",
       "Companies Posting Their Own Names            Submission   \n",
       "...                                                 ...   \n",
       "In G Major                                    Confirmed   \n",
       "Blood Diamond Pants                            Deadpool   \n",
       "Because of Parkinson's                        Confirmed   \n",
       "Paranoid Parrot                               Confirmed   \n",
       "I Believe You Have My Stapler                 Confirmed   \n",
       "\n",
       "                                                              type  \\\n",
       "name                                                                 \n",
       "Muvvafukka                                             Viral Video   \n",
       "Martyrdom (Drop a Live Grenade When Killed)               Reaction   \n",
       "Wet Kylo Ren                                           Image Macro   \n",
       "You're Invited                                              Parody   \n",
       "Companies Posting Their Own Names              Participatory Media   \n",
       "...                                                            ...   \n",
       "In G Major                                                 another   \n",
       "Blood Diamond Pants                                        another   \n",
       "Because of Parkinson's                                     another   \n",
       "Paranoid Parrot                                        Image Macro   \n",
       "I Believe You Have My Stapler                Pop Culture Reference   \n",
       "\n",
       "                                             origin_year origin_place  \\\n",
       "name                                                                    \n",
       "Muvvafukka                                          2019     Facebook   \n",
       "Martyrdom (Drop a Live Grenade When Killed)         2007      another   \n",
       "Wet Kylo Ren                                        2019      another   \n",
       "You're Invited                                      2019      another   \n",
       "Companies Posting Their Own Names                   2019     Facebook   \n",
       "...                                                  ...          ...   \n",
       "In G Major                                          2007      YouTube   \n",
       "Blood Diamond Pants                                 2007      another   \n",
       "Because of Parkinson's                              2006      another   \n",
       "Paranoid Parrot                                     2009      another   \n",
       "I Believe You Have My Stapler                       2004      another   \n",
       "\n",
       "                                                            date_added  \\\n",
       "name                                                                     \n",
       "Muvvafukka                                   2019-10-24T04:05:03-04:00   \n",
       "Martyrdom (Drop a Live Grenade When Killed)  2019-10-23T12:13:13-04:00   \n",
       "Wet Kylo Ren                                 2019-10-23T11:56:19-04:00   \n",
       "You're Invited                               2019-10-23T10:32:04-04:00   \n",
       "Companies Posting Their Own Names            2019-10-25T12:42:22-04:00   \n",
       "...                                                                ...   \n",
       "In G Major                                   2018-01-16T05:32:05-05:00   \n",
       "Blood Diamond Pants                          2010-01-01T02:34:03-05:00   \n",
       "Because of Parkinson's                       2013-09-26T16:26:49-04:00   \n",
       "Paranoid Parrot                              2019-10-31T03:47:02-04:00   \n",
       "I Believe You Have My Stapler                2018-04-09T16:28:49-04:00   \n",
       "\n",
       "                                              views  videos  photos  comments  \\\n",
       "name                                                                            \n",
       "Muvvafukka                                    13613       0       7         8   \n",
       "Martyrdom (Drop a Live Grenade When Killed)   13973       0      17         8   \n",
       "Wet Kylo Ren                                   5339       0      12         7   \n",
       "You're Invited                                 2249       0       0         0   \n",
       "Companies Posting Their Own Names              5662       0      16        33   \n",
       "...                                             ...     ...     ...       ...   \n",
       "In G Major                                   111531      61       2        37   \n",
       "Blood Diamond Pants                           16348       0       0         5   \n",
       "Because of Parkinson's                       205323       2     101        61   \n",
       "Paranoid Parrot                              416158       2     218        51   \n",
       "I Believe You Have My Stapler                109512       1      25        29   \n",
       "\n",
       "                                                                                          tags  \\\n",
       "name                                                                                             \n",
       "Muvvafukka                                   jay-lee hilzinger & maddie flynn, eshayz, davi...   \n",
       "Martyrdom (Drop a Live Grenade When Killed)  perk, martyrdom, live grenade, reaction image,...   \n",
       "Wet Kylo Ren                                 kylo ren, star wars the rise of skywalker, ada...   \n",
       "You're Invited                                          byob, byow, party, flyer, charge, door   \n",
       "Companies Posting Their Own Names            social media campaign, brands, companies, max ...   \n",
       "...                                                                                        ...   \n",
       "In G Major                                   youtube poop, audio, harmonizer, remix, scary,...   \n",
       "Blood Diamond Pants                                                                    none...   \n",
       "Because of Parkinson's                       michael j. fox, joke, image macro, 4chan, cele...   \n",
       "Paranoid Parrot                              4chan, parrot, paranoia, paranoid parrot, advi...   \n",
       "I Believe You Have My Stapler                movie, catchphrase, film, office space, movie ...   \n",
       "\n",
       "                                             ...                  Timestamp  \\\n",
       "name                                         ...                              \n",
       "Muvvafukka                                   ...  2019-10-24 04:05:03-04:00   \n",
       "Martyrdom (Drop a Live Grenade When Killed)  ...  2019-10-23 12:13:13-04:00   \n",
       "Wet Kylo Ren                                 ...  2019-10-23 11:56:19-04:00   \n",
       "You're Invited                               ...  2019-10-23 10:32:04-04:00   \n",
       "Companies Posting Their Own Names            ...  2019-10-25 12:42:22-04:00   \n",
       "...                                          ...                        ...   \n",
       "In G Major                                   ...  2018-01-16 05:32:05-05:00   \n",
       "Blood Diamond Pants                          ...  2010-01-01 02:34:03-05:00   \n",
       "Because of Parkinson's                       ...  2013-09-26 16:26:49-04:00   \n",
       "Paranoid Parrot                              ...  2019-10-31 03:47:02-04:00   \n",
       "I Believe You Have My Stapler                ...  2018-04-09 16:28:49-04:00   \n",
       "\n",
       "                                             Year Month Day  Hour  Weekday  \\\n",
       "name                                                                         \n",
       "Muvvafukka                                   2019    10  24     4        3   \n",
       "Martyrdom (Drop a Live Grenade When Killed)  2019    10  23    12        2   \n",
       "Wet Kylo Ren                                 2019    10  23    11        2   \n",
       "You're Invited                               2019    10  23    10        2   \n",
       "Companies Posting Their Own Names            2019    10  25    12        4   \n",
       "...                                           ...   ...  ..   ...      ...   \n",
       "In G Major                                   2018     1  16     5        1   \n",
       "Blood Diamond Pants                          2010     1   1     2        4   \n",
       "Because of Parkinson's                       2013     9  26    16        3   \n",
       "Paranoid Parrot                              2019    10  31     3        3   \n",
       "I Believe You Have My Stapler                2018     4   9    16        0   \n",
       "\n",
       "                                             days_from_creation  \\\n",
       "name                                                              \n",
       "Muvvafukka                                                   13   \n",
       "Martyrdom (Drop a Live Grenade When Killed)                  14   \n",
       "Wet Kylo Ren                                                 14   \n",
       "You're Invited                                               14   \n",
       "Companies Posting Their Own Names                            12   \n",
       "...                                                         ...   \n",
       "In G Major                                                  659   \n",
       "Blood Diamond Pants                                        3596   \n",
       "Because of Parkinson's                                     2231   \n",
       "Paranoid Parrot                                               6   \n",
       "I Believe You Have My Stapler                               575   \n",
       "\n",
       "                                             average_views  average_comments  \\\n",
       "name                                                                           \n",
       "Muvvafukka                                      972.357143          0.571429   \n",
       "Martyrdom (Drop a Live Grenade When Killed)     931.533333          0.533333   \n",
       "Wet Kylo Ren                                    355.933333          0.466667   \n",
       "You're Invited                                  149.933333          0.000000   \n",
       "Companies Posting Their Own Names               435.538462          2.538462   \n",
       "...                                                    ...               ...   \n",
       "In G Major                                      168.986364          0.056061   \n",
       "Blood Diamond Pants                               4.544899          0.001390   \n",
       "Because of Parkinson's                           91.990591          0.027330   \n",
       "Paranoid Parrot                               59451.142857          7.285714   \n",
       "I Believe You Have My Stapler                   190.125000          0.050347   \n",
       "\n",
       "                                             tags_len  \n",
       "name                                                   \n",
       "Muvvafukka                                      197.0  \n",
       "Martyrdom (Drop a Live Grenade When Killed)     102.0  \n",
       "Wet Kylo Ren                                    130.0  \n",
       "You're Invited                                   38.0  \n",
       "Companies Posting Their Own Names               200.0  \n",
       "...                                               ...  \n",
       "In G Major                                       50.0  \n",
       "Blood Diamond Pants                               7.0  \n",
       "Because of Parkinson's                           90.0  \n",
       "Paranoid Parrot                                  72.0  \n",
       "I Believe You Have My Stapler                    51.0  \n",
       "\n",
       "[4206 rows x 23 columns]"
      ]
     },
     "execution_count": 151,
     "metadata": {},
     "output_type": "execute_result"
    }
   ],
   "source": [
    "memes.set_index('name')"
   ]
  },
  {
   "cell_type": "code",
   "execution_count": 154,
   "id": "8ee4ab09",
   "metadata": {},
   "outputs": [
    {
     "ename": "KeyError",
     "evalue": "\"None of ['name'] are in the columns\"",
     "output_type": "error",
     "traceback": [
      "\u001b[1;31m---------------------------------------------------------------------------\u001b[0m",
      "\u001b[1;31mKeyError\u001b[0m                                  Traceback (most recent call last)",
      "\u001b[1;32m~\\AppData\\Local\\Temp/ipykernel_21516/1220968919.py\u001b[0m in \u001b[0;36m<module>\u001b[1;34m\u001b[0m\n\u001b[1;32m----> 1\u001b[1;33m memes.set_index('name', \n\u001b[0m\u001b[0;32m      2\u001b[0m                 inplace=True) # Применить к исходной таблице, а не локально\n",
      "\u001b[1;32m~\\anaconda3\\lib\\site-packages\\pandas\\util\\_decorators.py\u001b[0m in \u001b[0;36mwrapper\u001b[1;34m(*args, **kwargs)\u001b[0m\n\u001b[0;32m    309\u001b[0m                     \u001b[0mstacklevel\u001b[0m\u001b[1;33m=\u001b[0m\u001b[0mstacklevel\u001b[0m\u001b[1;33m,\u001b[0m\u001b[1;33m\u001b[0m\u001b[1;33m\u001b[0m\u001b[0m\n\u001b[0;32m    310\u001b[0m                 )\n\u001b[1;32m--> 311\u001b[1;33m             \u001b[1;32mreturn\u001b[0m \u001b[0mfunc\u001b[0m\u001b[1;33m(\u001b[0m\u001b[1;33m*\u001b[0m\u001b[0margs\u001b[0m\u001b[1;33m,\u001b[0m \u001b[1;33m**\u001b[0m\u001b[0mkwargs\u001b[0m\u001b[1;33m)\u001b[0m\u001b[1;33m\u001b[0m\u001b[1;33m\u001b[0m\u001b[0m\n\u001b[0m\u001b[0;32m    312\u001b[0m \u001b[1;33m\u001b[0m\u001b[0m\n\u001b[0;32m    313\u001b[0m         \u001b[1;32mreturn\u001b[0m \u001b[0mwrapper\u001b[0m\u001b[1;33m\u001b[0m\u001b[1;33m\u001b[0m\u001b[0m\n",
      "\u001b[1;32m~\\anaconda3\\lib\\site-packages\\pandas\\core\\frame.py\u001b[0m in \u001b[0;36mset_index\u001b[1;34m(self, keys, drop, append, inplace, verify_integrity)\u001b[0m\n\u001b[0;32m   5449\u001b[0m \u001b[1;33m\u001b[0m\u001b[0m\n\u001b[0;32m   5450\u001b[0m         \u001b[1;32mif\u001b[0m \u001b[0mmissing\u001b[0m\u001b[1;33m:\u001b[0m\u001b[1;33m\u001b[0m\u001b[1;33m\u001b[0m\u001b[0m\n\u001b[1;32m-> 5451\u001b[1;33m             \u001b[1;32mraise\u001b[0m \u001b[0mKeyError\u001b[0m\u001b[1;33m(\u001b[0m\u001b[1;34mf\"None of {missing} are in the columns\"\u001b[0m\u001b[1;33m)\u001b[0m\u001b[1;33m\u001b[0m\u001b[1;33m\u001b[0m\u001b[0m\n\u001b[0m\u001b[0;32m   5452\u001b[0m \u001b[1;33m\u001b[0m\u001b[0m\n\u001b[0;32m   5453\u001b[0m         \u001b[1;32mif\u001b[0m \u001b[0minplace\u001b[0m\u001b[1;33m:\u001b[0m\u001b[1;33m\u001b[0m\u001b[1;33m\u001b[0m\u001b[0m\n",
      "\u001b[1;31mKeyError\u001b[0m: \"None of ['name'] are in the columns\""
     ]
    }
   ],
   "source": [
    "memes.set_index('name', \n",
    "                inplace=True) # Применить к исходной таблице, а не локально"
   ]
  },
  {
   "cell_type": "code",
   "execution_count": 155,
   "id": "e6eafc41",
   "metadata": {},
   "outputs": [],
   "source": [
    "memes.drop(['tags', 'about', 'origin', 'other_text', 'date_added', 'Timestamp'],\n",
    "           axis=1,\n",
    "           inplace=True\n",
    "          )"
   ]
  },
  {
   "cell_type": "code",
   "execution_count": 156,
   "id": "4efc73ff",
   "metadata": {},
   "outputs": [
    {
     "data": {
      "text/plain": [
       "status                0\n",
       "type                  0\n",
       "origin_year           0\n",
       "origin_place          0\n",
       "views                 0\n",
       "videos                0\n",
       "photos                0\n",
       "comments              0\n",
       "Year                  0\n",
       "Month                 0\n",
       "Day                   0\n",
       "Hour                  0\n",
       "Weekday               0\n",
       "days_from_creation    0\n",
       "average_views         0\n",
       "average_comments      0\n",
       "tags_len              1\n",
       "dtype: int64"
      ]
     },
     "execution_count": 156,
     "metadata": {},
     "output_type": "execute_result"
    }
   ],
   "source": [
    "memes.isnull().sum()"
   ]
  },
  {
   "cell_type": "markdown",
   "id": "47bdb642",
   "metadata": {},
   "source": [
    "Есть один пропуск в длине тэгов. Заполним его"
   ]
  },
  {
   "cell_type": "code",
   "execution_count": 157,
   "id": "162751ce",
   "metadata": {},
   "outputs": [],
   "source": [
    "memes.fillna(0, inplace=True)"
   ]
  },
  {
   "cell_type": "code",
   "execution_count": 158,
   "id": "275299a9",
   "metadata": {},
   "outputs": [
    {
     "data": {
      "text/plain": [
       "(4206, 17)"
      ]
     },
     "execution_count": 158,
     "metadata": {},
     "output_type": "execute_result"
    }
   ],
   "source": [
    "memes.shape"
   ]
  },
  {
   "cell_type": "code",
   "execution_count": 159,
   "id": "44f3f30e",
   "metadata": {},
   "outputs": [],
   "source": [
    "memes.to_csv('memes_prepare.csv', sep='\\t')"
   ]
  },
  {
   "cell_type": "markdown",
   "id": "3e32237c",
   "metadata": {},
   "source": [
    "Посмотрим, что произоёдет с данными, если мы применим ко всем категориальным переменным one hot encoding"
   ]
  },
  {
   "cell_type": "code",
   "execution_count": 160,
   "id": "5ca36221",
   "metadata": {},
   "outputs": [
    {
     "data": {
      "text/plain": [
       "status                 object\n",
       "type                   object\n",
       "origin_year             int32\n",
       "origin_place           object\n",
       "views                   int64\n",
       "videos                  int64\n",
       "photos                  int64\n",
       "comments                int64\n",
       "Year                    int64\n",
       "Month                   int64\n",
       "Day                     int64\n",
       "Hour                    int64\n",
       "Weekday                 int64\n",
       "days_from_creation      int64\n",
       "average_views         float64\n",
       "average_comments      float64\n",
       "tags_len              float64\n",
       "dtype: object"
      ]
     },
     "execution_count": 160,
     "metadata": {},
     "output_type": "execute_result"
    }
   ],
   "source": [
    "memes.dtypes"
   ]
  },
  {
   "cell_type": "code",
   "execution_count": 161,
   "id": "0d40b966",
   "metadata": {},
   "outputs": [
    {
     "data": {
      "text/plain": [
       "(4206, 45)"
      ]
     },
     "execution_count": 161,
     "metadata": {},
     "output_type": "execute_result"
    }
   ],
   "source": [
    "memes_dummy = pd.get_dummies(memes)\n",
    "memes_dummy.shape"
   ]
  },
  {
   "cell_type": "code",
   "execution_count": 162,
   "id": "2397ba7b",
   "metadata": {},
   "outputs": [
    {
     "data": {
      "text/html": [
       "<div>\n",
       "<style scoped>\n",
       "    .dataframe tbody tr th:only-of-type {\n",
       "        vertical-align: middle;\n",
       "    }\n",
       "\n",
       "    .dataframe tbody tr th {\n",
       "        vertical-align: top;\n",
       "    }\n",
       "\n",
       "    .dataframe thead th {\n",
       "        text-align: right;\n",
       "    }\n",
       "</style>\n",
       "<table border=\"1\" class=\"dataframe\">\n",
       "  <thead>\n",
       "    <tr style=\"text-align: right;\">\n",
       "      <th></th>\n",
       "      <th>origin_year</th>\n",
       "      <th>views</th>\n",
       "      <th>videos</th>\n",
       "      <th>photos</th>\n",
       "      <th>comments</th>\n",
       "      <th>Year</th>\n",
       "      <th>Month</th>\n",
       "      <th>Day</th>\n",
       "      <th>Hour</th>\n",
       "      <th>Weekday</th>\n",
       "      <th>...</th>\n",
       "      <th>origin_place_Facebook</th>\n",
       "      <th>origin_place_Instagram</th>\n",
       "      <th>origin_place_Reddit</th>\n",
       "      <th>origin_place_Tumblr</th>\n",
       "      <th>origin_place_Twitter</th>\n",
       "      <th>origin_place_Unknown</th>\n",
       "      <th>origin_place_YouTube</th>\n",
       "      <th>origin_place_Youtube</th>\n",
       "      <th>origin_place_another</th>\n",
       "      <th>origin_place_niconico</th>\n",
       "    </tr>\n",
       "    <tr>\n",
       "      <th>name</th>\n",
       "      <th></th>\n",
       "      <th></th>\n",
       "      <th></th>\n",
       "      <th></th>\n",
       "      <th></th>\n",
       "      <th></th>\n",
       "      <th></th>\n",
       "      <th></th>\n",
       "      <th></th>\n",
       "      <th></th>\n",
       "      <th></th>\n",
       "      <th></th>\n",
       "      <th></th>\n",
       "      <th></th>\n",
       "      <th></th>\n",
       "      <th></th>\n",
       "      <th></th>\n",
       "      <th></th>\n",
       "      <th></th>\n",
       "      <th></th>\n",
       "      <th></th>\n",
       "    </tr>\n",
       "  </thead>\n",
       "  <tbody>\n",
       "    <tr>\n",
       "      <th>Muvvafukka</th>\n",
       "      <td>2019</td>\n",
       "      <td>13613</td>\n",
       "      <td>0</td>\n",
       "      <td>7</td>\n",
       "      <td>8</td>\n",
       "      <td>2019</td>\n",
       "      <td>10</td>\n",
       "      <td>24</td>\n",
       "      <td>4</td>\n",
       "      <td>3</td>\n",
       "      <td>...</td>\n",
       "      <td>1</td>\n",
       "      <td>0</td>\n",
       "      <td>0</td>\n",
       "      <td>0</td>\n",
       "      <td>0</td>\n",
       "      <td>0</td>\n",
       "      <td>0</td>\n",
       "      <td>0</td>\n",
       "      <td>0</td>\n",
       "      <td>0</td>\n",
       "    </tr>\n",
       "    <tr>\n",
       "      <th>Martyrdom (Drop a Live Grenade When Killed)</th>\n",
       "      <td>2007</td>\n",
       "      <td>13973</td>\n",
       "      <td>0</td>\n",
       "      <td>17</td>\n",
       "      <td>8</td>\n",
       "      <td>2019</td>\n",
       "      <td>10</td>\n",
       "      <td>23</td>\n",
       "      <td>12</td>\n",
       "      <td>2</td>\n",
       "      <td>...</td>\n",
       "      <td>0</td>\n",
       "      <td>0</td>\n",
       "      <td>0</td>\n",
       "      <td>0</td>\n",
       "      <td>0</td>\n",
       "      <td>0</td>\n",
       "      <td>0</td>\n",
       "      <td>0</td>\n",
       "      <td>1</td>\n",
       "      <td>0</td>\n",
       "    </tr>\n",
       "    <tr>\n",
       "      <th>Wet Kylo Ren</th>\n",
       "      <td>2019</td>\n",
       "      <td>5339</td>\n",
       "      <td>0</td>\n",
       "      <td>12</td>\n",
       "      <td>7</td>\n",
       "      <td>2019</td>\n",
       "      <td>10</td>\n",
       "      <td>23</td>\n",
       "      <td>11</td>\n",
       "      <td>2</td>\n",
       "      <td>...</td>\n",
       "      <td>0</td>\n",
       "      <td>0</td>\n",
       "      <td>0</td>\n",
       "      <td>0</td>\n",
       "      <td>0</td>\n",
       "      <td>0</td>\n",
       "      <td>0</td>\n",
       "      <td>0</td>\n",
       "      <td>1</td>\n",
       "      <td>0</td>\n",
       "    </tr>\n",
       "    <tr>\n",
       "      <th>You're Invited</th>\n",
       "      <td>2019</td>\n",
       "      <td>2249</td>\n",
       "      <td>0</td>\n",
       "      <td>0</td>\n",
       "      <td>0</td>\n",
       "      <td>2019</td>\n",
       "      <td>10</td>\n",
       "      <td>23</td>\n",
       "      <td>10</td>\n",
       "      <td>2</td>\n",
       "      <td>...</td>\n",
       "      <td>0</td>\n",
       "      <td>0</td>\n",
       "      <td>0</td>\n",
       "      <td>0</td>\n",
       "      <td>0</td>\n",
       "      <td>0</td>\n",
       "      <td>0</td>\n",
       "      <td>0</td>\n",
       "      <td>1</td>\n",
       "      <td>0</td>\n",
       "    </tr>\n",
       "    <tr>\n",
       "      <th>Companies Posting Their Own Names</th>\n",
       "      <td>2019</td>\n",
       "      <td>5662</td>\n",
       "      <td>0</td>\n",
       "      <td>16</td>\n",
       "      <td>33</td>\n",
       "      <td>2019</td>\n",
       "      <td>10</td>\n",
       "      <td>25</td>\n",
       "      <td>12</td>\n",
       "      <td>4</td>\n",
       "      <td>...</td>\n",
       "      <td>1</td>\n",
       "      <td>0</td>\n",
       "      <td>0</td>\n",
       "      <td>0</td>\n",
       "      <td>0</td>\n",
       "      <td>0</td>\n",
       "      <td>0</td>\n",
       "      <td>0</td>\n",
       "      <td>0</td>\n",
       "      <td>0</td>\n",
       "    </tr>\n",
       "  </tbody>\n",
       "</table>\n",
       "<p>5 rows × 45 columns</p>\n",
       "</div>"
      ],
      "text/plain": [
       "                                             origin_year  views  videos  \\\n",
       "name                                                                      \n",
       "Muvvafukka                                          2019  13613       0   \n",
       "Martyrdom (Drop a Live Grenade When Killed)         2007  13973       0   \n",
       "Wet Kylo Ren                                        2019   5339       0   \n",
       "You're Invited                                      2019   2249       0   \n",
       "Companies Posting Their Own Names                   2019   5662       0   \n",
       "\n",
       "                                             photos  comments  Year  Month  \\\n",
       "name                                                                         \n",
       "Muvvafukka                                        7         8  2019     10   \n",
       "Martyrdom (Drop a Live Grenade When Killed)      17         8  2019     10   \n",
       "Wet Kylo Ren                                     12         7  2019     10   \n",
       "You're Invited                                    0         0  2019     10   \n",
       "Companies Posting Their Own Names                16        33  2019     10   \n",
       "\n",
       "                                             Day  Hour  Weekday  ...  \\\n",
       "name                                                             ...   \n",
       "Muvvafukka                                    24     4        3  ...   \n",
       "Martyrdom (Drop a Live Grenade When Killed)   23    12        2  ...   \n",
       "Wet Kylo Ren                                  23    11        2  ...   \n",
       "You're Invited                                23    10        2  ...   \n",
       "Companies Posting Their Own Names             25    12        4  ...   \n",
       "\n",
       "                                             origin_place_Facebook  \\\n",
       "name                                                                 \n",
       "Muvvafukka                                                       1   \n",
       "Martyrdom (Drop a Live Grenade When Killed)                      0   \n",
       "Wet Kylo Ren                                                     0   \n",
       "You're Invited                                                   0   \n",
       "Companies Posting Their Own Names                                1   \n",
       "\n",
       "                                             origin_place_Instagram  \\\n",
       "name                                                                  \n",
       "Muvvafukka                                                        0   \n",
       "Martyrdom (Drop a Live Grenade When Killed)                       0   \n",
       "Wet Kylo Ren                                                      0   \n",
       "You're Invited                                                    0   \n",
       "Companies Posting Their Own Names                                 0   \n",
       "\n",
       "                                             origin_place_Reddit  \\\n",
       "name                                                               \n",
       "Muvvafukka                                                     0   \n",
       "Martyrdom (Drop a Live Grenade When Killed)                    0   \n",
       "Wet Kylo Ren                                                   0   \n",
       "You're Invited                                                 0   \n",
       "Companies Posting Their Own Names                              0   \n",
       "\n",
       "                                             origin_place_Tumblr  \\\n",
       "name                                                               \n",
       "Muvvafukka                                                     0   \n",
       "Martyrdom (Drop a Live Grenade When Killed)                    0   \n",
       "Wet Kylo Ren                                                   0   \n",
       "You're Invited                                                 0   \n",
       "Companies Posting Their Own Names                              0   \n",
       "\n",
       "                                             origin_place_Twitter  \\\n",
       "name                                                                \n",
       "Muvvafukka                                                      0   \n",
       "Martyrdom (Drop a Live Grenade When Killed)                     0   \n",
       "Wet Kylo Ren                                                    0   \n",
       "You're Invited                                                  0   \n",
       "Companies Posting Their Own Names                               0   \n",
       "\n",
       "                                             origin_place_Unknown  \\\n",
       "name                                                                \n",
       "Muvvafukka                                                      0   \n",
       "Martyrdom (Drop a Live Grenade When Killed)                     0   \n",
       "Wet Kylo Ren                                                    0   \n",
       "You're Invited                                                  0   \n",
       "Companies Posting Their Own Names                               0   \n",
       "\n",
       "                                             origin_place_YouTube  \\\n",
       "name                                                                \n",
       "Muvvafukka                                                      0   \n",
       "Martyrdom (Drop a Live Grenade When Killed)                     0   \n",
       "Wet Kylo Ren                                                    0   \n",
       "You're Invited                                                  0   \n",
       "Companies Posting Their Own Names                               0   \n",
       "\n",
       "                                             origin_place_Youtube  \\\n",
       "name                                                                \n",
       "Muvvafukka                                                      0   \n",
       "Martyrdom (Drop a Live Grenade When Killed)                     0   \n",
       "Wet Kylo Ren                                                    0   \n",
       "You're Invited                                                  0   \n",
       "Companies Posting Their Own Names                               0   \n",
       "\n",
       "                                             origin_place_another  \\\n",
       "name                                                                \n",
       "Muvvafukka                                                      0   \n",
       "Martyrdom (Drop a Live Grenade When Killed)                     1   \n",
       "Wet Kylo Ren                                                    1   \n",
       "You're Invited                                                  1   \n",
       "Companies Posting Their Own Names                               0   \n",
       "\n",
       "                                             origin_place_niconico  \n",
       "name                                                                \n",
       "Muvvafukka                                                       0  \n",
       "Martyrdom (Drop a Live Grenade When Killed)                      0  \n",
       "Wet Kylo Ren                                                     0  \n",
       "You're Invited                                                   0  \n",
       "Companies Posting Their Own Names                                0  \n",
       "\n",
       "[5 rows x 45 columns]"
      ]
     },
     "execution_count": 162,
     "metadata": {},
     "output_type": "execute_result"
    }
   ],
   "source": [
    "memes_dummy.head()"
   ]
  },
  {
   "cell_type": "markdown",
   "id": "187cf60c",
   "metadata": {},
   "source": [
    "## 5. Больше графиков"
   ]
  },
  {
   "cell_type": "markdown",
   "id": "0ef3c505",
   "metadata": {},
   "source": [
    "Предположим, что в качестве целевой переменной (её мы бы хотели предсказывать) нас интересует среднее число просмотров мема. Давайте изучим эту переменную более подробно"
   ]
  },
  {
   "cell_type": "markdown",
   "id": "5113d64a",
   "metadata": {},
   "source": [
    "Посмотрим как она взаимосвязана со статусом мема"
   ]
  },
  {
   "cell_type": "code",
   "execution_count": 163,
   "id": "ce2833f5",
   "metadata": {},
   "outputs": [
    {
     "name": "stderr",
     "output_type": "stream",
     "text": [
      "C:\\Users\\misha\\anaconda3\\lib\\site-packages\\seaborn\\_decorators.py:36: FutureWarning: Pass the following variables as keyword args: x, y. From version 0.12, the only valid positional argument will be `data`, and passing other arguments without an explicit keyword will result in an error or misinterpretation.\n",
      "  warnings.warn(\n"
     ]
    },
    {
     "data": {
      "image/png": "[encoded data removed]",
      "text/plain": [
       "<Figure size 720x360 with 1 Axes>"
      ]
     },
     "metadata": {},
     "output_type": "display_data"
    }
   ],
   "source": [
    "plt.figure(figsize=(10,5))\n",
    "sns.boxplot(np.log(memes.average_views), memes.status)\n",
    "plt.title('Log average views')\n",
    "plt.show()"
   ]
  },
  {
   "cell_type": "markdown",
   "id": "7a9f7677",
   "metadata": {},
   "source": [
    "Посмотрим как число просмотров ведёт себя в зависимости от часа добавления мема."
   ]
  },
  {
   "cell_type": "code",
   "execution_count": 164,
   "id": "b4f85bdb",
   "metadata": {},
   "outputs": [],
   "source": [
    "memes['log_average_views'] = np.log(memes.average_views)"
   ]
  },
  {
   "cell_type": "code",
   "execution_count": 165,
   "id": "ffcbdf4d",
   "metadata": {},
   "outputs": [
    {
     "data": {
      "image/png": "[encoded data removed]",
      "text/plain": [
       "<Figure size 720x432 with 1 Axes>"
      ]
     },
     "metadata": {},
     "output_type": "display_data"
    }
   ],
   "source": [
    "memes.boxplot(column='log_average_views', by='Hour', figsize=(10,6))\n",
    "plt.show()"
   ]
  },
  {
   "cell_type": "markdown",
   "id": "70c8b186",
   "metadata": {},
   "source": [
    "Как ведёт себя среднее число просмотров в зависимости от дня недели, когда был добавлен мем"
   ]
  },
  {
   "cell_type": "code",
   "execution_count": 166,
   "id": "751f1ea2",
   "metadata": {},
   "outputs": [
    {
     "data": {
      "image/png": "[encoded data removed]",
      "text/plain": [
       "<Figure size 720x432 with 1 Axes>"
      ]
     },
     "metadata": {},
     "output_type": "display_data"
    }
   ],
   "source": [
    "memes.boxplot(column=\"log_average_views\", by='Weekday', figsize=(10,6))\n",
    "plt.show()"
   ]
  },
  {
   "cell_type": "code",
   "execution_count": 168,
   "id": "02c255bf",
   "metadata": {},
   "outputs": [
    {
     "data": {
      "image/png": "[encoded data removed]",
      "text/plain": [
       "<Figure size 720x504 with 1 Axes>"
      ]
     },
     "metadata": {},
     "output_type": "display_data"
    }
   ],
   "source": [
    "plt.figure(figsize=(10,7))\n",
    "sns.violinplot(x='Weekday', y='log_average_views', data=memes, inner=\"quartile\")\n",
    "plt.title('Violinplot')\n",
    "plt.show()"
   ]
  },
  {
   "cell_type": "markdown",
   "id": "c3121369",
   "metadata": {},
   "source": [
    "Добавим дополнительное разбиение по статусу мема."
   ]
  },
  {
   "cell_type": "code",
   "execution_count": 169,
   "id": "cf7a1219",
   "metadata": {},
   "outputs": [
    {
     "data": {
      "image/png": "[encoded data removed]",
      "text/plain": [
       "<Figure size 720x504 with 1 Axes>"
      ]
     },
     "metadata": {},
     "output_type": "display_data"
    }
   ],
   "source": [
    "plt.figure(figsize=(10, 7))\n",
    "\n",
    "memes['is_confirmed'] = memes.status=='Confirmed'\n",
    "\n",
    "sns.violinplot(x='Weekday',\n",
    "               y='log_average_views',\n",
    "               hue='is_confirmed',\n",
    "               data=memes,\n",
    "               split=True,\n",
    "               palette='Set1',\n",
    "               inner='quartile'\n",
    ")\n",
    "\n",
    "plt.show()"
   ]
  },
  {
   "cell_type": "markdown",
   "id": "087456ed",
   "metadata": {},
   "source": [
    "Посмотрим на корреляции между переменными внутри данных"
   ]
  },
  {
   "cell_type": "code",
   "execution_count": 170,
   "id": "456c8413",
   "metadata": {},
   "outputs": [
    {
     "data": {
      "text/plain": [
       "<AxesSubplot:>"
      ]
     },
     "execution_count": 170,
     "metadata": {},
     "output_type": "execute_result"
    },
    {
     "data": {
      "image/png": "[encoded data removed]",
      "text/plain": [
       "<Figure size 864x864 with 2 Axes>"
      ]
     },
     "metadata": {},
     "output_type": "display_data"
    }
   ],
   "source": [
    "plt.subplots(figsize=(12, 12))\n",
    "\n",
    "sns.heatmap(memes.corr(),\n",
    "            square=True,\n",
    "            annot=True,\n",
    "            fmt='.1f',\n",
    "            linewidths=0.1,\n",
    "            cmap='RdBu'\n",
    ")"
   ]
  },
  {
   "cell_type": "code",
   "execution_count": 171,
   "id": "7763be4e",
   "metadata": {},
   "outputs": [
    {
     "name": "stderr",
     "output_type": "stream",
     "text": [
      "C:\\Users\\misha\\anaconda3\\lib\\site-packages\\pandas\\core\\arraylike.py:364: RuntimeWarning: divide by zero encountered in log\n",
      "  result = getattr(ufunc, method)(*inputs, **kwargs)\n"
     ]
    },
    {
     "data": {
      "image/png": "[encoded data removed]",
      "text/plain": [
       "<Figure size 720x720 with 1 Axes>"
      ]
     },
     "metadata": {},
     "output_type": "display_data"
    }
   ],
   "source": [
    "plt.figure(figsize=(10,10))\n",
    "plt.scatter(np.log(memes.average_comments), np.log(memes.average_views))\n",
    "plt.title('Average comments vs Average views')\n",
    "plt.ylabel('Log average views')\n",
    "plt.xlabel('Log average comments')\n",
    "plt.show()"
   ]
  },
  {
   "cell_type": "markdown",
   "id": "0a960cb0",
   "metadata": {},
   "source": [
    "Нелинейная взаимосвязь превращается в линейную при логарифимировании (гиперболическая взаимосвзязь)"
   ]
  },
  {
   "cell_type": "markdown",
   "id": "dd6d3b52",
   "metadata": {},
   "source": [
    "Если мем оказался подствержденным, происходит качественные сдвиг в числе просмотров"
   ]
  },
  {
   "cell_type": "code",
   "execution_count": null,
   "id": "6f38c409",
   "metadata": {},
   "outputs": [],
   "source": []
  }
 ],
 "metadata": {
  "kernelspec": {
   "display_name": "Python 3 (ipykernel)",
   "language": "python",
   "name": "python3"
  },
  "language_info": {
   "codemirror_mode": {
    "name": "ipython",
    "version": 3
   },
   "file_extension": ".py",
   "mimetype": "text/x-python",
   "name": "python",
   "nbconvert_exporter": "python",
   "pygments_lexer": "ipython3",
   "version": "3.9.7"
  }
 },
 "nbformat": 4,
 "nbformat_minor": 5
}
