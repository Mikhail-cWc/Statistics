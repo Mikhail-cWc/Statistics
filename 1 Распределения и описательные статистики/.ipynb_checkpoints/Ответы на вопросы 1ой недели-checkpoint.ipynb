{
 "cells": [
  {
   "cell_type": "markdown",
   "id": "1822598e",
   "metadata": {},
   "source": [
    "# Попробуем искать по данным ответы на свои вопросы"
   ]
  },
  {
   "cell_type": "code",
   "execution_count": 2,
   "id": "cef8ea45",
   "metadata": {},
   "outputs": [],
   "source": [
    "import numpy as np\n",
    "import pandas as pd\n",
    "from scipy import stats\n",
    "\n",
    "import matplotlib.pyplot as plt\n",
    "import seaborn as sns\n",
    "\n",
    "plt.style.use(\"ggplot\")"
   ]
  },
  {
   "cell_type": "markdown",
   "id": "b3b868fd",
   "metadata": {},
   "source": [
    "## Данные"
   ]
  },
  {
   "cell_type": "code",
   "execution_count": 52,
   "id": "50b80954",
   "metadata": {},
   "outputs": [
    {
     "data": {
      "text/html": [
       "<div>\n",
       "<style scoped>\n",
       "    .dataframe tbody tr th:only-of-type {\n",
       "        vertical-align: middle;\n",
       "    }\n",
       "\n",
       "    .dataframe tbody tr th {\n",
       "        vertical-align: top;\n",
       "    }\n",
       "\n",
       "    .dataframe thead th {\n",
       "        text-align: right;\n",
       "    }\n",
       "</style>\n",
       "<table border=\"1\" class=\"dataframe\">\n",
       "  <thead>\n",
       "    <tr style=\"text-align: right;\">\n",
       "      <th></th>\n",
       "      <th>title</th>\n",
       "      <th>commentCount</th>\n",
       "      <th>dislikeCount</th>\n",
       "      <th>likeCount</th>\n",
       "      <th>music_style</th>\n",
       "      <th>performer</th>\n",
       "      <th>viewCount</th>\n",
       "      <th>commentators_uniq</th>\n",
       "      <th>comments_obscene_cnt</th>\n",
       "      <th>video_age</th>\n",
       "    </tr>\n",
       "  </thead>\n",
       "  <tbody>\n",
       "    <tr>\n",
       "      <th>0</th>\n",
       "      <td>\"#2Маши \"Свободные линии\"</td>\n",
       "      <td>34.0</td>\n",
       "      <td>43.0</td>\n",
       "      <td>1402.0</td>\n",
       "      <td>popsa</td>\n",
       "      <td>2маши</td>\n",
       "      <td>214301.0</td>\n",
       "      <td>24.0</td>\n",
       "      <td>0.0</td>\n",
       "      <td>1141</td>\n",
       "    </tr>\n",
       "    <tr>\n",
       "      <th>1</th>\n",
       "      <td>\"ALARM\" СЕРГЕЙ ЛАЗАРЕВ ( SERGEY LAZAREV )</td>\n",
       "      <td>NaN</td>\n",
       "      <td>690.0</td>\n",
       "      <td>10532.0</td>\n",
       "      <td>popsa</td>\n",
       "      <td>лазарев</td>\n",
       "      <td>2221419.0</td>\n",
       "      <td>NaN</td>\n",
       "      <td>NaN</td>\n",
       "      <td>3217</td>\n",
       "    </tr>\n",
       "    <tr>\n",
       "      <th>2</th>\n",
       "      <td>\"EARTH SONG\"  SERGEY LAZAREV. DEDICATED TO MIC...</td>\n",
       "      <td>26.0</td>\n",
       "      <td>10.0</td>\n",
       "      <td>269.0</td>\n",
       "      <td>popsa</td>\n",
       "      <td>лазарев</td>\n",
       "      <td>40327.0</td>\n",
       "      <td>23.0</td>\n",
       "      <td>0.0</td>\n",
       "      <td>3546</td>\n",
       "    </tr>\n",
       "    <tr>\n",
       "      <th>3</th>\n",
       "      <td>\"Earth song\" премия МУЗ-тВ 2010 (LIVE)</td>\n",
       "      <td>12.0</td>\n",
       "      <td>7.0</td>\n",
       "      <td>163.0</td>\n",
       "      <td>popsa</td>\n",
       "      <td>лазарев</td>\n",
       "      <td>11907.0</td>\n",
       "      <td>11.0</td>\n",
       "      <td>0.0</td>\n",
       "      <td>3189</td>\n",
       "    </tr>\n",
       "    <tr>\n",
       "      <th>4</th>\n",
       "      <td>\"FAKE\" СЕРГЕЙ ЛАЗАРЕВ (SERGEY)</td>\n",
       "      <td>46.0</td>\n",
       "      <td>19.0</td>\n",
       "      <td>597.0</td>\n",
       "      <td>popsa</td>\n",
       "      <td>лазарев</td>\n",
       "      <td>91483.0</td>\n",
       "      <td>33.0</td>\n",
       "      <td>1.0</td>\n",
       "      <td>3361</td>\n",
       "    </tr>\n",
       "  </tbody>\n",
       "</table>\n",
       "</div>"
      ],
      "text/plain": [
       "                                               title  commentCount  \\\n",
       "0                          \"#2Маши \"Свободные линии\"          34.0   \n",
       "1          \"ALARM\" СЕРГЕЙ ЛАЗАРЕВ ( SERGEY LAZAREV )           NaN   \n",
       "2  \"EARTH SONG\"  SERGEY LAZAREV. DEDICATED TO MIC...          26.0   \n",
       "3             \"Earth song\" премия МУЗ-тВ 2010 (LIVE)          12.0   \n",
       "4                     \"FAKE\" СЕРГЕЙ ЛАЗАРЕВ (SERGEY)          46.0   \n",
       "\n",
       "   dislikeCount  likeCount music_style performer  viewCount  \\\n",
       "0          43.0     1402.0       popsa     2маши   214301.0   \n",
       "1         690.0    10532.0       popsa   лазарев  2221419.0   \n",
       "2          10.0      269.0       popsa   лазарев    40327.0   \n",
       "3           7.0      163.0       popsa   лазарев    11907.0   \n",
       "4          19.0      597.0       popsa   лазарев    91483.0   \n",
       "\n",
       "   commentators_uniq  comments_obscene_cnt  video_age  \n",
       "0               24.0                   0.0       1141  \n",
       "1                NaN                   NaN       3217  \n",
       "2               23.0                   0.0       3546  \n",
       "3               11.0                   0.0       3189  \n",
       "4               33.0                   1.0       3361  "
      ]
     },
     "execution_count": 52,
     "metadata": {},
     "output_type": "execute_result"
    }
   ],
   "source": [
    "df = pd.read_csv(\"youtube_data_short.csv\", sep=\"\\t\")\n",
    "df.head()"
   ]
  },
  {
   "cell_type": "markdown",
   "id": "555ffc8b",
   "metadata": {},
   "source": [
    "## Ответы на вопросы"
   ]
  },
  {
   "cell_type": "markdown",
   "id": "45f14102",
   "metadata": {},
   "source": [
    "- Сколько всего наблюдений в таблице?"
   ]
  },
  {
   "cell_type": "code",
   "execution_count": 8,
   "id": "0175b509",
   "metadata": {},
   "outputs": [
    {
     "data": {
      "text/plain": [
       "(19124, 10)"
      ]
     },
     "execution_count": 8,
     "metadata": {},
     "output_type": "execute_result"
    }
   ],
   "source": [
    "df.shape"
   ]
  },
  {
   "cell_type": "code",
   "execution_count": 9,
   "id": "00612baa",
   "metadata": {},
   "outputs": [
    {
     "data": {
      "text/plain": [
       "191240"
      ]
     },
     "execution_count": 9,
     "metadata": {},
     "output_type": "execute_result"
    }
   ],
   "source": [
    "df.size"
   ]
  },
  {
   "cell_type": "markdown",
   "id": "b0606b2b",
   "metadata": {},
   "source": [
    "- Сколько уникальных исполнителей встречается в данных"
   ]
  },
  {
   "cell_type": "code",
   "execution_count": 14,
   "id": "c4cfe624",
   "metadata": {},
   "outputs": [
    {
     "data": {
      "text/plain": [
       "111"
      ]
     },
     "execution_count": 14,
     "metadata": {},
     "output_type": "execute_result"
    }
   ],
   "source": [
    "len(df.performer.unique())"
   ]
  },
  {
   "cell_type": "code",
   "execution_count": 15,
   "id": "9725ed29",
   "metadata": {},
   "outputs": [
    {
     "data": {
      "text/plain": [
       "(111,)"
      ]
     },
     "execution_count": 15,
     "metadata": {},
     "output_type": "execute_result"
    }
   ],
   "source": [
    "df.performer.unique().shape # или size"
   ]
  },
  {
   "cell_type": "markdown",
   "id": "00e01167",
   "metadata": {},
   "source": [
    "- Выведите троих исполнителей, у которых в данных больше всего клипов"
   ]
  },
  {
   "cell_type": "code",
   "execution_count": 24,
   "id": "bec6614f",
   "metadata": {},
   "outputs": [
    {
     "data": {
      "text/plain": [
       "Index(['николаев', 'валерия', 'михайлов'], dtype='object')"
      ]
     },
     "execution_count": 24,
     "metadata": {},
     "output_type": "execute_result"
    }
   ],
   "source": [
    "df.performer.value_counts()[0:3].index"
   ]
  },
  {
   "cell_type": "code",
   "execution_count": 25,
   "id": "77420ee1",
   "metadata": {},
   "outputs": [
    {
     "data": {
      "text/plain": [
       "array([566, 525, 516], dtype=int64)"
      ]
     },
     "execution_count": 25,
     "metadata": {},
     "output_type": "execute_result"
    }
   ],
   "source": [
    "df.performer.value_counts()[0:3].values"
   ]
  },
  {
   "cell_type": "code",
   "execution_count": 26,
   "id": "ee755637",
   "metadata": {},
   "outputs": [
    {
     "data": {
      "text/plain": [
       "['николаев', 'валерия', 'михайлов']"
      ]
     },
     "execution_count": 26,
     "metadata": {},
     "output_type": "execute_result"
    }
   ],
   "source": [
    "list(df.performer.value_counts()[0:3].index)"
   ]
  },
  {
   "cell_type": "markdown",
   "id": "49863922",
   "metadata": {},
   "source": [
    "- Какая доля клипов приходится на рэп?"
   ]
  },
  {
   "cell_type": "code",
   "execution_count": 27,
   "id": "33f8e231",
   "metadata": {},
   "outputs": [
    {
     "data": {
      "text/plain": [
       "0.10604476051035348"
      ]
     },
     "execution_count": 27,
     "metadata": {},
     "output_type": "execute_result"
    }
   ],
   "source": [
    "(df.music_style == \"rap\").mean() # 10%"
   ]
  },
  {
   "cell_type": "markdown",
   "id": "aa3091f0",
   "metadata": {},
   "source": [
    "- Какая доля приходится на жанры?"
   ]
  },
  {
   "cell_type": "code",
   "execution_count": 28,
   "id": "9d0970a8",
   "metadata": {},
   "outputs": [
    {
     "data": {
      "text/plain": [
       "rock       0.307885\n",
       "estrada    0.217057\n",
       "popsa      0.174597\n",
       "shanson    0.107770\n",
       "rap        0.106045\n",
       "indi       0.071063\n",
       "classic    0.015583\n",
       "Name: music_style, dtype: float64"
      ]
     },
     "execution_count": 28,
     "metadata": {},
     "output_type": "execute_result"
    }
   ],
   "source": [
    "df.music_style.value_counts()/df.shape[0]"
   ]
  },
  {
   "cell_type": "code",
   "execution_count": 31,
   "id": "6f79049e",
   "metadata": {},
   "outputs": [
    {
     "data": {
      "text/plain": [
       "<AxesSubplot:>"
      ]
     },
     "execution_count": 31,
     "metadata": {},
     "output_type": "execute_result"
    },
    {
     "data": {
      "image/png": "[encoded data removed]",
      "text/plain": [
       "<Figure size 432x288 with 1 Axes>"
      ]
     },
     "metadata": {},
     "output_type": "display_data"
    }
   ],
   "source": [
    "y = 100*(df.music_style.value_counts()/df.shape[0])\n",
    "y.plot(kind=\"bar\")"
   ]
  },
  {
   "cell_type": "markdown",
   "id": "b9da40bc",
   "metadata": {},
   "source": [
    "- Сколько исполнителей пишут свою музыку сразу в нескольких жанрах?"
   ]
  },
  {
   "cell_type": "code",
   "execution_count": 39,
   "id": "58aeae25",
   "metadata": {},
   "outputs": [
    {
     "data": {
      "text/plain": [
       "0"
      ]
     },
     "execution_count": 39,
     "metadata": {},
     "output_type": "execute_result"
    }
   ],
   "source": [
    "df_agg = df.groupby(\"performer\")[\"music_style\"].nunique()\n",
    "(df_agg > 1).sum()"
   ]
  },
  {
   "cell_type": "markdown",
   "id": "ba83fc76",
   "metadata": {},
   "source": [
    "- Сколько в среднем просмотров под видео с likeCount > 100000 и commentators_uniq > 50"
   ]
  },
  {
   "cell_type": "code",
   "execution_count": 50,
   "id": "4a64f0d5",
   "metadata": {},
   "outputs": [],
   "source": [
    "df_restricted = df[(df.likeCount > 100000)&(df.commentators_uniq > 50)]"
   ]
  },
  {
   "cell_type": "code",
   "execution_count": 53,
   "id": "b7672d30",
   "metadata": {},
   "outputs": [
    {
     "data": {
      "text/plain": [
       "(19124, 10)"
      ]
     },
     "execution_count": 53,
     "metadata": {},
     "output_type": "execute_result"
    }
   ],
   "source": [
    "df.shape"
   ]
  },
  {
   "cell_type": "code",
   "execution_count": 54,
   "id": "dbca11a0",
   "metadata": {},
   "outputs": [
    {
     "data": {
      "text/plain": [
       "(214, 10)"
      ]
     },
     "execution_count": 54,
     "metadata": {},
     "output_type": "execute_result"
    }
   ],
   "source": [
    "df_restricted.shape"
   ]
  },
  {
   "cell_type": "code",
   "execution_count": 55,
   "id": "8c4ee39f",
   "metadata": {},
   "outputs": [
    {
     "data": {
      "text/plain": [
       "39326558.901869155"
      ]
     },
     "execution_count": 55,
     "metadata": {},
     "output_type": "execute_result"
    }
   ],
   "source": [
    "df_restricted.viewCount.mean()"
   ]
  },
  {
   "cell_type": "markdown",
   "id": "340103a0",
   "metadata": {},
   "source": [
    "- Выведите 5% самых популярных исполнителей. В качестве меры популярности используйте разность между медианным числом лайков и дизлайков. Оценку популярности стройте только по исполнителям, собравшим в сумме больше 100000 лайков"
   ]
  },
  {
   "cell_type": "code",
   "execution_count": 60,
   "id": "9c3fd369",
   "metadata": {},
   "outputs": [],
   "source": [
    "df_r = df[df.likeCount > 100000] \n",
    "df_agg = df_r.groupby(\"performer\")[[\"likeCount\",\"dislikeCount\"]].median()"
   ]
  },
  {
   "cell_type": "code",
   "execution_count": 61,
   "id": "5dbee106",
   "metadata": {},
   "outputs": [],
   "source": [
    "df_agg[\"popularity\"] = df_agg[\"likeCount\"] - df_agg[\"dislikeCount\"]"
   ]
  },
  {
   "cell_type": "code",
   "execution_count": 62,
   "id": "daeec111",
   "metadata": {},
   "outputs": [
    {
     "data": {
      "text/html": [
       "<div>\n",
       "<style scoped>\n",
       "    .dataframe tbody tr th:only-of-type {\n",
       "        vertical-align: middle;\n",
       "    }\n",
       "\n",
       "    .dataframe tbody tr th {\n",
       "        vertical-align: top;\n",
       "    }\n",
       "\n",
       "    .dataframe thead th {\n",
       "        text-align: right;\n",
       "    }\n",
       "</style>\n",
       "<table border=\"1\" class=\"dataframe\">\n",
       "  <thead>\n",
       "    <tr style=\"text-align: right;\">\n",
       "      <th></th>\n",
       "      <th>likeCount</th>\n",
       "      <th>dislikeCount</th>\n",
       "      <th>popularity</th>\n",
       "    </tr>\n",
       "    <tr>\n",
       "      <th>performer</th>\n",
       "      <th></th>\n",
       "      <th></th>\n",
       "      <th></th>\n",
       "    </tr>\n",
       "  </thead>\n",
       "  <tbody>\n",
       "    <tr>\n",
       "      <th>2маши</th>\n",
       "      <td>212909.0</td>\n",
       "      <td>24583.0</td>\n",
       "      <td>188326.0</td>\n",
       "    </tr>\n",
       "    <tr>\n",
       "      <th>classical_channel</th>\n",
       "      <td>271070.5</td>\n",
       "      <td>10307.5</td>\n",
       "      <td>260763.0</td>\n",
       "    </tr>\n",
       "    <tr>\n",
       "      <th>face</th>\n",
       "      <td>405493.0</td>\n",
       "      <td>54433.0</td>\n",
       "      <td>351060.0</td>\n",
       "    </tr>\n",
       "    <tr>\n",
       "      <th>feduk</th>\n",
       "      <td>381360.0</td>\n",
       "      <td>44912.0</td>\n",
       "      <td>336448.0</td>\n",
       "    </tr>\n",
       "    <tr>\n",
       "      <th>gazgolder</th>\n",
       "      <td>192971.0</td>\n",
       "      <td>16075.0</td>\n",
       "      <td>176896.0</td>\n",
       "    </tr>\n",
       "  </tbody>\n",
       "</table>\n",
       "</div>"
      ],
      "text/plain": [
       "                   likeCount  dislikeCount  popularity\n",
       "performer                                             \n",
       "2маши               212909.0       24583.0    188326.0\n",
       "classical_channel   271070.5       10307.5    260763.0\n",
       "face                405493.0       54433.0    351060.0\n",
       "feduk               381360.0       44912.0    336448.0\n",
       "gazgolder           192971.0       16075.0    176896.0"
      ]
     },
     "execution_count": 62,
     "metadata": {},
     "output_type": "execute_result"
    }
   ],
   "source": [
    "df_agg.head()"
   ]
  },
  {
   "cell_type": "code",
   "execution_count": 65,
   "id": "480f8f3b",
   "metadata": {},
   "outputs": [],
   "source": [
    "q = df_agg.popularity.quantile(0.95)"
   ]
  },
  {
   "cell_type": "code",
   "execution_count": 69,
   "id": "061908d4",
   "metadata": {},
   "outputs": [
    {
     "data": {
      "text/plain": [
       "performer\n",
       "лсп                337350.0\n",
       "face               351060.0\n",
       "miyagi&эндшпиль    701683.0\n",
       "Name: popularity, dtype: float64"
      ]
     },
     "execution_count": 69,
     "metadata": {},
     "output_type": "execute_result"
    }
   ],
   "source": [
    "df_agg[df_agg.popularity > q][\"popularity\"].sort_values()"
   ]
  }
 ],
 "metadata": {
  "kernelspec": {
   "display_name": "Python 3 (ipykernel)",
   "language": "python",
   "name": "python3"
  },
  "language_info": {
   "codemirror_mode": {
    "name": "ipython",
    "version": 3
   },
   "file_extension": ".py",
   "mimetype": "text/x-python",
   "name": "python",
   "nbconvert_exporter": "python",
   "pygments_lexer": "ipython3",
   "version": "3.9.7"
  }
 },
 "nbformat": 4,
 "nbformat_minor": 5
}
