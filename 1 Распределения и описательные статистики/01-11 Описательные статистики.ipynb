{
 "cells": [
  {
   "cell_type": "markdown",
   "id": "5d75bcc0",
   "metadata": {},
   "source": [
    "# Описательные статистики"
   ]
  },
  {
   "cell_type": "code",
   "execution_count": 1,
   "id": "079308ce",
   "metadata": {},
   "outputs": [],
   "source": [
    "import pandas as pd\n",
    "import numpy as np\n",
    "from scipy import stats\n",
    "\n",
    "import matplotlib.pyplot as plt\n",
    "import seaborn as sns\n",
    "\n",
    "plt.style.use(\"ggplot\")"
   ]
  },
  {
   "cell_type": "markdown",
   "id": "f6add9a7",
   "metadata": {},
   "source": [
    "## Данные"
   ]
  },
  {
   "cell_type": "code",
   "execution_count": 2,
   "id": "3e4ebd42",
   "metadata": {},
   "outputs": [],
   "source": [
    "df = pd.read_csv(\"youtube_data_short.csv\", sep = \"\\t\")"
   ]
  },
  {
   "cell_type": "code",
   "execution_count": 3,
   "id": "29ef55ab",
   "metadata": {},
   "outputs": [
    {
     "data": {
      "text/html": [
       "<div>\n",
       "<style scoped>\n",
       "    .dataframe tbody tr th:only-of-type {\n",
       "        vertical-align: middle;\n",
       "    }\n",
       "\n",
       "    .dataframe tbody tr th {\n",
       "        vertical-align: top;\n",
       "    }\n",
       "\n",
       "    .dataframe thead th {\n",
       "        text-align: right;\n",
       "    }\n",
       "</style>\n",
       "<table border=\"1\" class=\"dataframe\">\n",
       "  <thead>\n",
       "    <tr style=\"text-align: right;\">\n",
       "      <th></th>\n",
       "      <th>title</th>\n",
       "      <th>commentCount</th>\n",
       "      <th>dislikeCount</th>\n",
       "      <th>likeCount</th>\n",
       "      <th>music_style</th>\n",
       "      <th>performer</th>\n",
       "      <th>viewCount</th>\n",
       "      <th>commentators_uniq</th>\n",
       "      <th>comments_obscene_cnt</th>\n",
       "      <th>video_age</th>\n",
       "    </tr>\n",
       "  </thead>\n",
       "  <tbody>\n",
       "    <tr>\n",
       "      <th>0</th>\n",
       "      <td>\"#2Маши \"Свободные линии\"</td>\n",
       "      <td>34.0</td>\n",
       "      <td>43.0</td>\n",
       "      <td>1402.0</td>\n",
       "      <td>popsa</td>\n",
       "      <td>2маши</td>\n",
       "      <td>214301.0</td>\n",
       "      <td>24.0</td>\n",
       "      <td>0.0</td>\n",
       "      <td>1141</td>\n",
       "    </tr>\n",
       "    <tr>\n",
       "      <th>1</th>\n",
       "      <td>\"ALARM\" СЕРГЕЙ ЛАЗАРЕВ ( SERGEY LAZAREV )</td>\n",
       "      <td>NaN</td>\n",
       "      <td>690.0</td>\n",
       "      <td>10532.0</td>\n",
       "      <td>popsa</td>\n",
       "      <td>лазарев</td>\n",
       "      <td>2221419.0</td>\n",
       "      <td>NaN</td>\n",
       "      <td>NaN</td>\n",
       "      <td>3217</td>\n",
       "    </tr>\n",
       "    <tr>\n",
       "      <th>2</th>\n",
       "      <td>\"EARTH SONG\"  SERGEY LAZAREV. DEDICATED TO MIC...</td>\n",
       "      <td>26.0</td>\n",
       "      <td>10.0</td>\n",
       "      <td>269.0</td>\n",
       "      <td>popsa</td>\n",
       "      <td>лазарев</td>\n",
       "      <td>40327.0</td>\n",
       "      <td>23.0</td>\n",
       "      <td>0.0</td>\n",
       "      <td>3546</td>\n",
       "    </tr>\n",
       "    <tr>\n",
       "      <th>3</th>\n",
       "      <td>\"Earth song\" премия МУЗ-тВ 2010 (LIVE)</td>\n",
       "      <td>12.0</td>\n",
       "      <td>7.0</td>\n",
       "      <td>163.0</td>\n",
       "      <td>popsa</td>\n",
       "      <td>лазарев</td>\n",
       "      <td>11907.0</td>\n",
       "      <td>11.0</td>\n",
       "      <td>0.0</td>\n",
       "      <td>3189</td>\n",
       "    </tr>\n",
       "    <tr>\n",
       "      <th>4</th>\n",
       "      <td>\"FAKE\" СЕРГЕЙ ЛАЗАРЕВ (SERGEY)</td>\n",
       "      <td>46.0</td>\n",
       "      <td>19.0</td>\n",
       "      <td>597.0</td>\n",
       "      <td>popsa</td>\n",
       "      <td>лазарев</td>\n",
       "      <td>91483.0</td>\n",
       "      <td>33.0</td>\n",
       "      <td>1.0</td>\n",
       "      <td>3361</td>\n",
       "    </tr>\n",
       "  </tbody>\n",
       "</table>\n",
       "</div>"
      ],
      "text/plain": [
       "                                               title  commentCount  \\\n",
       "0                          \"#2Маши \"Свободные линии\"          34.0   \n",
       "1          \"ALARM\" СЕРГЕЙ ЛАЗАРЕВ ( SERGEY LAZAREV )           NaN   \n",
       "2  \"EARTH SONG\"  SERGEY LAZAREV. DEDICATED TO MIC...          26.0   \n",
       "3             \"Earth song\" премия МУЗ-тВ 2010 (LIVE)          12.0   \n",
       "4                     \"FAKE\" СЕРГЕЙ ЛАЗАРЕВ (SERGEY)          46.0   \n",
       "\n",
       "   dislikeCount  likeCount music_style performer  viewCount  \\\n",
       "0          43.0     1402.0       popsa     2маши   214301.0   \n",
       "1         690.0    10532.0       popsa   лазарев  2221419.0   \n",
       "2          10.0      269.0       popsa   лазарев    40327.0   \n",
       "3           7.0      163.0       popsa   лазарев    11907.0   \n",
       "4          19.0      597.0       popsa   лазарев    91483.0   \n",
       "\n",
       "   commentators_uniq  comments_obscene_cnt  video_age  \n",
       "0               24.0                   0.0       1141  \n",
       "1                NaN                   NaN       3217  \n",
       "2               23.0                   0.0       3546  \n",
       "3               11.0                   0.0       3189  \n",
       "4               33.0                   1.0       3361  "
      ]
     },
     "execution_count": 3,
     "metadata": {},
     "output_type": "execute_result"
    }
   ],
   "source": [
    "df.head()"
   ]
  },
  {
   "cell_type": "code",
   "execution_count": 4,
   "id": "458ef194",
   "metadata": {},
   "outputs": [
    {
     "data": {
      "text/plain": [
       "title                    object\n",
       "commentCount            float64\n",
       "dislikeCount            float64\n",
       "likeCount               float64\n",
       "music_style              object\n",
       "performer                object\n",
       "viewCount               float64\n",
       "commentators_uniq       float64\n",
       "comments_obscene_cnt    float64\n",
       "video_age                 int64\n",
       "dtype: object"
      ]
     },
     "execution_count": 4,
     "metadata": {},
     "output_type": "execute_result"
    }
   ],
   "source": [
    "df.dtypes"
   ]
  },
  {
   "cell_type": "markdown",
   "id": "1518563e",
   "metadata": {},
   "source": [
    " - title - Название видео\n",
    " - commentCount - Число комментариев\n",
    " - dislikeCount - Число дизлайков\n",
    " - likeCount - Число лайков\n",
    " - music_style - Музыкальный стиль\n",
    " - performer - Исполнитель\n",
    " - viewCount - Число просмотров\n",
    " - commentators_uniq - Число уникальных комментариев\n",
    " - comments-obscene_cnt - Число комментариев\n",
    " - video_age - Возраст видео в днях\n",
    " "
   ]
  },
  {
   "cell_type": "markdown",
   "id": "2aa92d14",
   "metadata": {},
   "source": [
    "## Описательные статистики"
   ]
  },
  {
   "cell_type": "code",
   "execution_count": 5,
   "id": "835ed58e",
   "metadata": {},
   "outputs": [
    {
     "data": {
      "text/plain": [
       "0         1402.0\n",
       "1        10532.0\n",
       "2          269.0\n",
       "3          163.0\n",
       "4          597.0\n",
       "          ...   \n",
       "19119       11.0\n",
       "19120     1837.0\n",
       "19121    30603.0\n",
       "19122      260.0\n",
       "19123       22.0\n",
       "Name: likeCount, Length: 19124, dtype: float64"
      ]
     },
     "execution_count": 5,
     "metadata": {},
     "output_type": "execute_result"
    }
   ],
   "source": [
    "df.likeCount"
   ]
  },
  {
   "cell_type": "code",
   "execution_count": 8,
   "id": "f3f42e10",
   "metadata": {},
   "outputs": [
    {
     "data": {
      "text/plain": [
       "nan"
      ]
     },
     "execution_count": 8,
     "metadata": {},
     "output_type": "execute_result"
    }
   ],
   "source": [
    "np.mean(df.likeCount.values, ) # Есть пропуски"
   ]
  },
  {
   "cell_type": "markdown",
   "id": "4ffde879",
   "metadata": {},
   "source": [
    "### Максимальное и минимальное значение"
   ]
  },
  {
   "cell_type": "code",
   "execution_count": 9,
   "id": "140a02f7",
   "metadata": {},
   "outputs": [
    {
     "data": {
      "text/plain": [
       "1686810.0"
      ]
     },
     "execution_count": 9,
     "metadata": {},
     "output_type": "execute_result"
    }
   ],
   "source": [
    "df.likeCount.max()"
   ]
  },
  {
   "cell_type": "code",
   "execution_count": 10,
   "id": "540ad74a",
   "metadata": {},
   "outputs": [
    {
     "data": {
      "text/plain": [
       "0.0"
      ]
     },
     "execution_count": 10,
     "metadata": {},
     "output_type": "execute_result"
    }
   ],
   "source": [
    "df[\"likeCount\"].min()"
   ]
  },
  {
   "cell_type": "code",
   "execution_count": 12,
   "id": "95190a7d",
   "metadata": {},
   "outputs": [
    {
     "data": {
      "text/html": [
       "<div>\n",
       "<style scoped>\n",
       "    .dataframe tbody tr th:only-of-type {\n",
       "        vertical-align: middle;\n",
       "    }\n",
       "\n",
       "    .dataframe tbody tr th {\n",
       "        vertical-align: top;\n",
       "    }\n",
       "\n",
       "    .dataframe thead th {\n",
       "        text-align: right;\n",
       "    }\n",
       "</style>\n",
       "<table border=\"1\" class=\"dataframe\">\n",
       "  <thead>\n",
       "    <tr style=\"text-align: right;\">\n",
       "      <th></th>\n",
       "      <th>title</th>\n",
       "      <th>commentCount</th>\n",
       "      <th>dislikeCount</th>\n",
       "      <th>likeCount</th>\n",
       "      <th>music_style</th>\n",
       "      <th>performer</th>\n",
       "      <th>viewCount</th>\n",
       "      <th>commentators_uniq</th>\n",
       "      <th>comments_obscene_cnt</th>\n",
       "      <th>video_age</th>\n",
       "    </tr>\n",
       "  </thead>\n",
       "  <tbody>\n",
       "    <tr>\n",
       "      <th>18649</th>\n",
       "      <td>Элджей &amp; Feduk - Розовое вино</td>\n",
       "      <td>191702.0</td>\n",
       "      <td>151772.0</td>\n",
       "      <td>1686810.0</td>\n",
       "      <td>rap</td>\n",
       "      <td>feduk</td>\n",
       "      <td>208753182.0</td>\n",
       "      <td>3702.0</td>\n",
       "      <td>183.0</td>\n",
       "      <td>485</td>\n",
       "    </tr>\n",
       "  </tbody>\n",
       "</table>\n",
       "</div>"
      ],
      "text/plain": [
       "                               title  commentCount  dislikeCount  likeCount  \\\n",
       "18649  Элджей & Feduk - Розовое вино      191702.0      151772.0  1686810.0   \n",
       "\n",
       "      music_style performer    viewCount  commentators_uniq  \\\n",
       "18649         rap     feduk  208753182.0             3702.0   \n",
       "\n",
       "       comments_obscene_cnt  video_age  \n",
       "18649                 183.0        485  "
      ]
     },
     "execution_count": 12,
     "metadata": {},
     "output_type": "execute_result"
    }
   ],
   "source": [
    "# Видео с максимальным числом лайков\n",
    "mx = df.likeCount.max()\n",
    "df[df.likeCount == mx]"
   ]
  },
  {
   "cell_type": "markdown",
   "id": "49fb88fc",
   "metadata": {},
   "source": [
    "### Меры центральной тенденции"
   ]
  },
  {
   "cell_type": "code",
   "execution_count": 14,
   "id": "23e4231d",
   "metadata": {},
   "outputs": [
    {
     "data": {
      "text/plain": [
       "5735.014482758621"
      ]
     },
     "execution_count": 14,
     "metadata": {},
     "output_type": "execute_result"
    }
   ],
   "source": [
    "df.likeCount.mean() # Среднее"
   ]
  },
  {
   "cell_type": "code",
   "execution_count": 16,
   "id": "8c79a251",
   "metadata": {},
   "outputs": [
    {
     "data": {
      "text/plain": [
       "100.0"
      ]
     },
     "execution_count": 16,
     "metadata": {},
     "output_type": "execute_result"
    }
   ],
   "source": [
    "df.likeCount.median() # Медиана"
   ]
  },
  {
   "cell_type": "code",
   "execution_count": 84,
   "id": "f4f48609",
   "metadata": {},
   "outputs": [
    {
     "data": {
      "text/plain": [
       "<AxesSubplot:>"
      ]
     },
     "execution_count": 84,
     "metadata": {},
     "output_type": "execute_result"
    },
    {
     "data": {
      "image/png": "[encoded data removed]",
      "text/plain": [
       "<Figure size 432x288 with 1 Axes>"
      ]
     },
     "metadata": {},
     "output_type": "display_data"
    }
   ],
   "source": [
    "df.likeCount.hist(bins=50)"
   ]
  },
  {
   "cell_type": "markdown",
   "id": "492ecb57",
   "metadata": {},
   "source": [
    "Чтобы лучше разглядеть хвост, можно использовать логарифмическую шкалу"
   ]
  },
  {
   "cell_type": "code",
   "execution_count": 20,
   "id": "a25c4488",
   "metadata": {},
   "outputs": [
    {
     "data": {
      "text/plain": [
       "<AxesSubplot:>"
      ]
     },
     "execution_count": 20,
     "metadata": {},
     "output_type": "execute_result"
    },
    {
     "data": {
      "image/png": "[encoded data removed]",
      "text/plain": [
       "<Figure size 432x288 with 1 Axes>"
      ]
     },
     "metadata": {},
     "output_type": "display_data"
    }
   ],
   "source": [
    "df.likeCount.hist(bins=50, log=True)"
   ]
  },
  {
   "cell_type": "markdown",
   "id": "e619f86d",
   "metadata": {},
   "source": [
    "!!!Среднее значение чувствительно к выбросам, а медиана нет!!!"
   ]
  },
  {
   "cell_type": "markdown",
   "id": "c9d5d91c",
   "metadata": {},
   "source": [
    "### Меры разброса"
   ]
  },
  {
   "cell_type": "code",
   "execution_count": 21,
   "id": "c863eb51",
   "metadata": {},
   "outputs": [
    {
     "data": {
      "text/plain": [
       "1513365309.7446747"
      ]
     },
     "execution_count": 21,
     "metadata": {},
     "output_type": "execute_result"
    }
   ],
   "source": [
    "df.likeCount.var(ddof=0) # Дисперсия, variance"
   ]
  },
  {
   "cell_type": "code",
   "execution_count": 22,
   "id": "f5afdfcd",
   "metadata": {},
   "outputs": [
    {
     "data": {
      "text/plain": [
       "1513445598.635849"
      ]
     },
     "execution_count": 22,
     "metadata": {},
     "output_type": "execute_result"
    }
   ],
   "source": [
    "df.likeCount.var(ddof=1) # Несмещенный вариант"
   ]
  },
  {
   "cell_type": "code",
   "execution_count": 23,
   "id": "60424621",
   "metadata": {},
   "outputs": [
    {
     "data": {
      "text/plain": [
       "38901.99621799214"
      ]
     },
     "execution_count": 23,
     "metadata": {},
     "output_type": "execute_result"
    }
   ],
   "source": [
    "df.likeCount.std(ddof=0) # Стандартное отклонение"
   ]
  },
  {
   "cell_type": "code",
   "execution_count": 24,
   "id": "a840a52b",
   "metadata": {},
   "outputs": [
    {
     "data": {
      "text/plain": [
       "38903.02814223912"
      ]
     },
     "execution_count": 24,
     "metadata": {},
     "output_type": "execute_result"
    }
   ],
   "source": [
    "df.likeCount.std(ddof=1) # Несмещенный вариант"
   ]
  },
  {
   "cell_type": "markdown",
   "id": "7ffc3c4b",
   "metadata": {},
   "source": [
    "### Квантили"
   ]
  },
  {
   "cell_type": "code",
   "execution_count": 25,
   "id": "0da8e7fa",
   "metadata": {},
   "outputs": [
    {
     "data": {
      "text/plain": [
       "128146.6499999979"
      ]
     },
     "execution_count": 25,
     "metadata": {},
     "output_type": "execute_result"
    }
   ],
   "source": [
    "df.likeCount.quantile(0.99)"
   ]
  },
  {
   "cell_type": "markdown",
   "id": "dec9bbb5",
   "metadata": {},
   "source": [
    "Выходит, что у 99% видео из выборки меньше 128146 лайков, а у 1% видео - больше"
   ]
  },
  {
   "cell_type": "code",
   "execution_count": 27,
   "id": "a296a45c",
   "metadata": {},
   "outputs": [],
   "source": [
    "q = df.likeCount.quantile(0.99)"
   ]
  },
  {
   "cell_type": "code",
   "execution_count": 33,
   "id": "85e7e1df",
   "metadata": {},
   "outputs": [
    {
     "data": {
      "text/plain": [
       "186      popsa\n",
       "205      popsa\n",
       "288        rap\n",
       "305      popsa\n",
       "306      popsa\n",
       "         ...  \n",
       "18672      rap\n",
       "18680      rap\n",
       "18692      rap\n",
       "18693      rap\n",
       "18698      rap\n",
       "Name: music_style, Length: 189, dtype: object"
      ]
     },
     "execution_count": 33,
     "metadata": {},
     "output_type": "execute_result"
    }
   ],
   "source": [
    "x = df[df.likeCount > q].music_style # Оставить только music_style\n",
    "x"
   ]
  },
  {
   "cell_type": "code",
   "execution_count": 34,
   "id": "1ace9620",
   "metadata": {},
   "outputs": [
    {
     "data": {
      "text/plain": [
       "rap        108\n",
       "popsa       36\n",
       "rock        19\n",
       "classic     18\n",
       "indi         7\n",
       "estrada      1\n",
       "Name: music_style, dtype: int64"
      ]
     },
     "execution_count": 34,
     "metadata": {},
     "output_type": "execute_result"
    }
   ],
   "source": [
    "x.value_counts() # Тот самый 1% видео и распределение по жанрам"
   ]
  },
  {
   "cell_type": "markdown",
   "id": "75e5b81b",
   "metadata": {},
   "source": [
    "### Метод describe"
   ]
  },
  {
   "cell_type": "markdown",
   "id": "446f63de",
   "metadata": {},
   "source": [
    "Считает сразу всё"
   ]
  },
  {
   "cell_type": "code",
   "execution_count": 35,
   "id": "30465e8d",
   "metadata": {},
   "outputs": [
    {
     "data": {
      "text/html": [
       "<div>\n",
       "<style scoped>\n",
       "    .dataframe tbody tr th:only-of-type {\n",
       "        vertical-align: middle;\n",
       "    }\n",
       "\n",
       "    .dataframe tbody tr th {\n",
       "        vertical-align: top;\n",
       "    }\n",
       "\n",
       "    .dataframe thead th {\n",
       "        text-align: right;\n",
       "    }\n",
       "</style>\n",
       "<table border=\"1\" class=\"dataframe\">\n",
       "  <thead>\n",
       "    <tr style=\"text-align: right;\">\n",
       "      <th></th>\n",
       "      <th>commentCount</th>\n",
       "      <th>dislikeCount</th>\n",
       "      <th>likeCount</th>\n",
       "      <th>viewCount</th>\n",
       "      <th>commentators_uniq</th>\n",
       "      <th>comments_obscene_cnt</th>\n",
       "      <th>video_age</th>\n",
       "    </tr>\n",
       "  </thead>\n",
       "  <tbody>\n",
       "    <tr>\n",
       "      <th>count</th>\n",
       "      <td>18914.000000</td>\n",
       "      <td>18850.000000</td>\n",
       "      <td>1.885000e+04</td>\n",
       "      <td>1.912300e+04</td>\n",
       "      <td>12314.000000</td>\n",
       "      <td>12314.000000</td>\n",
       "      <td>19124.000000</td>\n",
       "    </tr>\n",
       "    <tr>\n",
       "      <th>mean</th>\n",
       "      <td>394.026065</td>\n",
       "      <td>745.344297</td>\n",
       "      <td>5.735014e+03</td>\n",
       "      <td>8.436486e+05</td>\n",
       "      <td>131.594608</td>\n",
       "      <td>8.952899</td>\n",
       "      <td>1389.772642</td>\n",
       "    </tr>\n",
       "    <tr>\n",
       "      <th>std</th>\n",
       "      <td>4200.463284</td>\n",
       "      <td>9339.777800</td>\n",
       "      <td>3.890303e+04</td>\n",
       "      <td>6.382348e+06</td>\n",
       "      <td>333.584804</td>\n",
       "      <td>37.887947</td>\n",
       "      <td>1054.261698</td>\n",
       "    </tr>\n",
       "    <tr>\n",
       "      <th>min</th>\n",
       "      <td>0.000000</td>\n",
       "      <td>0.000000</td>\n",
       "      <td>0.000000e+00</td>\n",
       "      <td>0.000000e+00</td>\n",
       "      <td>1.000000</td>\n",
       "      <td>0.000000</td>\n",
       "      <td>0.000000</td>\n",
       "    </tr>\n",
       "    <tr>\n",
       "      <th>25%</th>\n",
       "      <td>0.000000</td>\n",
       "      <td>1.000000</td>\n",
       "      <td>1.800000e+01</td>\n",
       "      <td>1.915000e+03</td>\n",
       "      <td>4.000000</td>\n",
       "      <td>0.000000</td>\n",
       "      <td>378.000000</td>\n",
       "    </tr>\n",
       "    <tr>\n",
       "      <th>50%</th>\n",
       "      <td>5.000000</td>\n",
       "      <td>5.000000</td>\n",
       "      <td>1.000000e+02</td>\n",
       "      <td>1.135300e+04</td>\n",
       "      <td>13.000000</td>\n",
       "      <td>0.000000</td>\n",
       "      <td>1213.000000</td>\n",
       "    </tr>\n",
       "    <tr>\n",
       "      <th>75%</th>\n",
       "      <td>35.000000</td>\n",
       "      <td>38.000000</td>\n",
       "      <td>6.367500e+02</td>\n",
       "      <td>8.180900e+04</td>\n",
       "      <td>61.000000</td>\n",
       "      <td>2.000000</td>\n",
       "      <td>2218.000000</td>\n",
       "    </tr>\n",
       "    <tr>\n",
       "      <th>max</th>\n",
       "      <td>303077.000000</td>\n",
       "      <td>640698.000000</td>\n",
       "      <td>1.686810e+06</td>\n",
       "      <td>2.720477e+08</td>\n",
       "      <td>3702.000000</td>\n",
       "      <td>693.000000</td>\n",
       "      <td>4574.000000</td>\n",
       "    </tr>\n",
       "  </tbody>\n",
       "</table>\n",
       "</div>"
      ],
      "text/plain": [
       "        commentCount   dislikeCount     likeCount     viewCount  \\\n",
       "count   18914.000000   18850.000000  1.885000e+04  1.912300e+04   \n",
       "mean      394.026065     745.344297  5.735014e+03  8.436486e+05   \n",
       "std      4200.463284    9339.777800  3.890303e+04  6.382348e+06   \n",
       "min         0.000000       0.000000  0.000000e+00  0.000000e+00   \n",
       "25%         0.000000       1.000000  1.800000e+01  1.915000e+03   \n",
       "50%         5.000000       5.000000  1.000000e+02  1.135300e+04   \n",
       "75%        35.000000      38.000000  6.367500e+02  8.180900e+04   \n",
       "max    303077.000000  640698.000000  1.686810e+06  2.720477e+08   \n",
       "\n",
       "       commentators_uniq  comments_obscene_cnt     video_age  \n",
       "count       12314.000000          12314.000000  19124.000000  \n",
       "mean          131.594608              8.952899   1389.772642  \n",
       "std           333.584804             37.887947   1054.261698  \n",
       "min             1.000000              0.000000      0.000000  \n",
       "25%             4.000000              0.000000    378.000000  \n",
       "50%            13.000000              0.000000   1213.000000  \n",
       "75%            61.000000              2.000000   2218.000000  \n",
       "max          3702.000000            693.000000   4574.000000  "
      ]
     },
     "execution_count": 35,
     "metadata": {},
     "output_type": "execute_result"
    }
   ],
   "source": [
    "df.describe()"
   ]
  },
  {
   "cell_type": "code",
   "execution_count": 36,
   "id": "bda1ab3d",
   "metadata": {},
   "outputs": [
    {
     "data": {
      "text/html": [
       "<div>\n",
       "<style scoped>\n",
       "    .dataframe tbody tr th:only-of-type {\n",
       "        vertical-align: middle;\n",
       "    }\n",
       "\n",
       "    .dataframe tbody tr th {\n",
       "        vertical-align: top;\n",
       "    }\n",
       "\n",
       "    .dataframe thead th {\n",
       "        text-align: right;\n",
       "    }\n",
       "</style>\n",
       "<table border=\"1\" class=\"dataframe\">\n",
       "  <thead>\n",
       "    <tr style=\"text-align: right;\">\n",
       "      <th></th>\n",
       "      <th>title</th>\n",
       "      <th>music_style</th>\n",
       "      <th>performer</th>\n",
       "    </tr>\n",
       "  </thead>\n",
       "  <tbody>\n",
       "    <tr>\n",
       "      <th>count</th>\n",
       "      <td>19124</td>\n",
       "      <td>19124</td>\n",
       "      <td>19124</td>\n",
       "    </tr>\n",
       "    <tr>\n",
       "      <th>unique</th>\n",
       "      <td>18029</td>\n",
       "      <td>7</td>\n",
       "      <td>111</td>\n",
       "    </tr>\n",
       "    <tr>\n",
       "      <th>top</th>\n",
       "      <td>Алексей Кортнев и Валдис Пельш в проекте «Две ...</td>\n",
       "      <td>rock</td>\n",
       "      <td>николаев</td>\n",
       "    </tr>\n",
       "    <tr>\n",
       "      <th>freq</th>\n",
       "      <td>11</td>\n",
       "      <td>5888</td>\n",
       "      <td>566</td>\n",
       "    </tr>\n",
       "  </tbody>\n",
       "</table>\n",
       "</div>"
      ],
      "text/plain": [
       "                                                    title music_style  \\\n",
       "count                                               19124       19124   \n",
       "unique                                              18029           7   \n",
       "top     Алексей Кортнев и Валдис Пельш в проекте «Две ...        rock   \n",
       "freq                                                   11        5888   \n",
       "\n",
       "       performer  \n",
       "count      19124  \n",
       "unique       111  \n",
       "top     николаев  \n",
       "freq         566  "
      ]
     },
     "execution_count": 36,
     "metadata": {},
     "output_type": "execute_result"
    }
   ],
   "source": [
    "df.describe(include=\"object\")"
   ]
  },
  {
   "cell_type": "markdown",
   "id": "ed8c4802",
   "metadata": {},
   "source": [
    "## Группировка"
   ]
  },
  {
   "cell_type": "markdown",
   "id": "17acdb14",
   "metadata": {},
   "source": [
    "Метод groupby"
   ]
  },
  {
   "cell_type": "code",
   "execution_count": 40,
   "id": "6caf6f9c",
   "metadata": {},
   "outputs": [
    {
     "data": {
      "text/plain": [
       "music_style\n",
       "classic    28663.333333\n",
       "estrada      938.686662\n",
       "indi        2471.842299\n",
       "popsa       7492.273792\n",
       "rap        26802.456253\n",
       "rock        2132.887061\n",
       "shanson      440.390564\n",
       "Name: likeCount, dtype: float64"
      ]
     },
     "execution_count": 40,
     "metadata": {},
     "output_type": "execute_result"
    }
   ],
   "source": [
    "df.groupby(\"music_style\").likeCount.mean()\n",
    "# Группировка по стилю музыки и печать среднего значения"
   ]
  },
  {
   "cell_type": "markdown",
   "id": "0972a6d5",
   "metadata": {},
   "source": [
    "Можно делать groupby по нескольким колонкам, получать результаты по нескольким колонкам и даже применять несколько функций за раз"
   ]
  },
  {
   "cell_type": "code",
   "execution_count": 43,
   "id": "78b2147a",
   "metadata": {},
   "outputs": [
    {
     "data": {
      "text/html": [
       "<div>\n",
       "<style scoped>\n",
       "    .dataframe tbody tr th:only-of-type {\n",
       "        vertical-align: middle;\n",
       "    }\n",
       "\n",
       "    .dataframe tbody tr th {\n",
       "        vertical-align: top;\n",
       "    }\n",
       "\n",
       "    .dataframe thead tr th {\n",
       "        text-align: left;\n",
       "    }\n",
       "\n",
       "    .dataframe thead tr:last-of-type th {\n",
       "        text-align: right;\n",
       "    }\n",
       "</style>\n",
       "<table border=\"1\" class=\"dataframe\">\n",
       "  <thead>\n",
       "    <tr>\n",
       "      <th></th>\n",
       "      <th colspan=\"3\" halign=\"left\">likeCount</th>\n",
       "      <th colspan=\"3\" halign=\"left\">dislikeCount</th>\n",
       "    </tr>\n",
       "    <tr>\n",
       "      <th></th>\n",
       "      <th>mean</th>\n",
       "      <th>count</th>\n",
       "      <th>median</th>\n",
       "      <th>mean</th>\n",
       "      <th>count</th>\n",
       "      <th>median</th>\n",
       "    </tr>\n",
       "    <tr>\n",
       "      <th>music_style</th>\n",
       "      <th></th>\n",
       "      <th></th>\n",
       "      <th></th>\n",
       "      <th></th>\n",
       "      <th></th>\n",
       "      <th></th>\n",
       "    </tr>\n",
       "  </thead>\n",
       "  <tbody>\n",
       "    <tr>\n",
       "      <th>classic</th>\n",
       "      <td>28663.333333</td>\n",
       "      <td>297</td>\n",
       "      <td>536.0</td>\n",
       "      <td>1236.228956</td>\n",
       "      <td>297</td>\n",
       "      <td>18.0</td>\n",
       "    </tr>\n",
       "    <tr>\n",
       "      <th>estrada</th>\n",
       "      <td>938.686662</td>\n",
       "      <td>3951</td>\n",
       "      <td>47.0</td>\n",
       "      <td>173.565933</td>\n",
       "      <td>3951</td>\n",
       "      <td>3.0</td>\n",
       "    </tr>\n",
       "    <tr>\n",
       "      <th>indi</th>\n",
       "      <td>2471.842299</td>\n",
       "      <td>1357</td>\n",
       "      <td>37.0</td>\n",
       "      <td>220.419307</td>\n",
       "      <td>1357</td>\n",
       "      <td>2.0</td>\n",
       "    </tr>\n",
       "    <tr>\n",
       "      <th>popsa</th>\n",
       "      <td>7492.273792</td>\n",
       "      <td>3331</td>\n",
       "      <td>323.0</td>\n",
       "      <td>790.161513</td>\n",
       "      <td>3331</td>\n",
       "      <td>15.0</td>\n",
       "    </tr>\n",
       "    <tr>\n",
       "      <th>rap</th>\n",
       "      <td>26802.456253</td>\n",
       "      <td>2023</td>\n",
       "      <td>2656.0</td>\n",
       "      <td>4099.575383</td>\n",
       "      <td>2023</td>\n",
       "      <td>154.0</td>\n",
       "    </tr>\n",
       "    <tr>\n",
       "      <th>rock</th>\n",
       "      <td>2132.887061</td>\n",
       "      <td>5835</td>\n",
       "      <td>80.0</td>\n",
       "      <td>287.698201</td>\n",
       "      <td>5835</td>\n",
       "      <td>3.0</td>\n",
       "    </tr>\n",
       "    <tr>\n",
       "      <th>shanson</th>\n",
       "      <td>440.390564</td>\n",
       "      <td>2056</td>\n",
       "      <td>17.0</td>\n",
       "      <td>45.488327</td>\n",
       "      <td>2056</td>\n",
       "      <td>1.0</td>\n",
       "    </tr>\n",
       "  </tbody>\n",
       "</table>\n",
       "</div>"
      ],
      "text/plain": [
       "                likeCount               dislikeCount             \n",
       "                     mean count  median         mean count median\n",
       "music_style                                                      \n",
       "classic      28663.333333   297   536.0  1236.228956   297   18.0\n",
       "estrada        938.686662  3951    47.0   173.565933  3951    3.0\n",
       "indi          2471.842299  1357    37.0   220.419307  1357    2.0\n",
       "popsa         7492.273792  3331   323.0   790.161513  3331   15.0\n",
       "rap          26802.456253  2023  2656.0  4099.575383  2023  154.0\n",
       "rock          2132.887061  5835    80.0   287.698201  5835    3.0\n",
       "shanson        440.390564  2056    17.0    45.488327  2056    1.0"
      ]
     },
     "execution_count": 43,
     "metadata": {},
     "output_type": "execute_result"
    }
   ],
   "source": [
    "df.groupby(\"music_style\")[[\"likeCount\",\"dislikeCount\"]].agg([\"mean\",\"count\", \"median\"])"
   ]
  },
  {
   "cell_type": "code",
   "execution_count": 44,
   "id": "6a63ba82",
   "metadata": {},
   "outputs": [
    {
     "data": {
      "text/plain": [
       "1    12314\n",
       "0     6810\n",
       "Name: is_comment, dtype: int64"
      ]
     },
     "execution_count": 44,
     "metadata": {},
     "output_type": "execute_result"
    }
   ],
   "source": [
    "df[\"is_comment\"] = 1*(df[\"commentators_uniq\"] > 0)\n",
    "df[\"is_comment\"].value_counts()"
   ]
  },
  {
   "cell_type": "code",
   "execution_count": 45,
   "id": "7739f71a",
   "metadata": {},
   "outputs": [
    {
     "data": {
      "text/html": [
       "<div>\n",
       "<style scoped>\n",
       "    .dataframe tbody tr th:only-of-type {\n",
       "        vertical-align: middle;\n",
       "    }\n",
       "\n",
       "    .dataframe tbody tr th {\n",
       "        vertical-align: top;\n",
       "    }\n",
       "\n",
       "    .dataframe thead tr th {\n",
       "        text-align: left;\n",
       "    }\n",
       "\n",
       "    .dataframe thead tr:last-of-type th {\n",
       "        text-align: right;\n",
       "    }\n",
       "</style>\n",
       "<table border=\"1\" class=\"dataframe\">\n",
       "  <thead>\n",
       "    <tr>\n",
       "      <th></th>\n",
       "      <th></th>\n",
       "      <th colspan=\"4\" halign=\"left\">dislikeCount</th>\n",
       "      <th colspan=\"4\" halign=\"left\">likeCount</th>\n",
       "    </tr>\n",
       "    <tr>\n",
       "      <th></th>\n",
       "      <th></th>\n",
       "      <th>mean</th>\n",
       "      <th>max</th>\n",
       "      <th>min</th>\n",
       "      <th>count</th>\n",
       "      <th>mean</th>\n",
       "      <th>max</th>\n",
       "      <th>min</th>\n",
       "      <th>count</th>\n",
       "    </tr>\n",
       "    <tr>\n",
       "      <th>music_style</th>\n",
       "      <th>is_comment</th>\n",
       "      <th></th>\n",
       "      <th></th>\n",
       "      <th></th>\n",
       "      <th></th>\n",
       "      <th></th>\n",
       "      <th></th>\n",
       "      <th></th>\n",
       "      <th></th>\n",
       "    </tr>\n",
       "  </thead>\n",
       "  <tbody>\n",
       "    <tr>\n",
       "      <th rowspan=\"2\" valign=\"top\">classic</th>\n",
       "      <th>0</th>\n",
       "      <td>206.125000</td>\n",
       "      <td>6127.0</td>\n",
       "      <td>0.0</td>\n",
       "      <td>32</td>\n",
       "      <td>8253.218750</td>\n",
       "      <td>250835.0</td>\n",
       "      <td>1.0</td>\n",
       "      <td>32</td>\n",
       "    </tr>\n",
       "    <tr>\n",
       "      <th>1</th>\n",
       "      <td>1360.618868</td>\n",
       "      <td>52892.0</td>\n",
       "      <td>0.0</td>\n",
       "      <td>265</td>\n",
       "      <td>31127.950943</td>\n",
       "      <td>849676.0</td>\n",
       "      <td>9.0</td>\n",
       "      <td>265</td>\n",
       "    </tr>\n",
       "    <tr>\n",
       "      <th rowspan=\"2\" valign=\"top\">estrada</th>\n",
       "      <th>0</th>\n",
       "      <td>9.333543</td>\n",
       "      <td>2584.0</td>\n",
       "      <td>0.0</td>\n",
       "      <td>1589</td>\n",
       "      <td>98.007552</td>\n",
       "      <td>17511.0</td>\n",
       "      <td>0.0</td>\n",
       "      <td>1589</td>\n",
       "    </tr>\n",
       "    <tr>\n",
       "      <th>1</th>\n",
       "      <td>284.050804</td>\n",
       "      <td>348770.0</td>\n",
       "      <td>0.0</td>\n",
       "      <td>2362</td>\n",
       "      <td>1504.240898</td>\n",
       "      <td>377957.0</td>\n",
       "      <td>0.0</td>\n",
       "      <td>2362</td>\n",
       "    </tr>\n",
       "    <tr>\n",
       "      <th rowspan=\"2\" valign=\"top\">indi</th>\n",
       "      <th>0</th>\n",
       "      <td>69.887344</td>\n",
       "      <td>14244.0</td>\n",
       "      <td>0.0</td>\n",
       "      <td>719</td>\n",
       "      <td>1231.396384</td>\n",
       "      <td>389416.0</td>\n",
       "      <td>0.0</td>\n",
       "      <td>719</td>\n",
       "    </tr>\n",
       "    <tr>\n",
       "      <th>1</th>\n",
       "      <td>390.062696</td>\n",
       "      <td>32478.0</td>\n",
       "      <td>0.0</td>\n",
       "      <td>638</td>\n",
       "      <td>3869.774295</td>\n",
       "      <td>218384.0</td>\n",
       "      <td>0.0</td>\n",
       "      <td>638</td>\n",
       "    </tr>\n",
       "    <tr>\n",
       "      <th rowspan=\"2\" valign=\"top\">popsa</th>\n",
       "      <th>0</th>\n",
       "      <td>218.583554</td>\n",
       "      <td>82016.0</td>\n",
       "      <td>0.0</td>\n",
       "      <td>754</td>\n",
       "      <td>1544.502653</td>\n",
       "      <td>222212.0</td>\n",
       "      <td>0.0</td>\n",
       "      <td>754</td>\n",
       "    </tr>\n",
       "    <tr>\n",
       "      <th>1</th>\n",
       "      <td>957.398525</td>\n",
       "      <td>177367.0</td>\n",
       "      <td>0.0</td>\n",
       "      <td>2577</td>\n",
       "      <td>9232.521925</td>\n",
       "      <td>698902.0</td>\n",
       "      <td>0.0</td>\n",
       "      <td>2577</td>\n",
       "    </tr>\n",
       "    <tr>\n",
       "      <th rowspan=\"2\" valign=\"top\">rap</th>\n",
       "      <th>0</th>\n",
       "      <td>3435.579832</td>\n",
       "      <td>194450.0</td>\n",
       "      <td>0.0</td>\n",
       "      <td>238</td>\n",
       "      <td>22701.928571</td>\n",
       "      <td>1297718.0</td>\n",
       "      <td>6.0</td>\n",
       "      <td>238</td>\n",
       "    </tr>\n",
       "    <tr>\n",
       "      <th>1</th>\n",
       "      <td>4188.108123</td>\n",
       "      <td>640698.0</td>\n",
       "      <td>0.0</td>\n",
       "      <td>1785</td>\n",
       "      <td>27349.193277</td>\n",
       "      <td>1686810.0</td>\n",
       "      <td>11.0</td>\n",
       "      <td>1785</td>\n",
       "    </tr>\n",
       "    <tr>\n",
       "      <th rowspan=\"2\" valign=\"top\">rock</th>\n",
       "      <th>0</th>\n",
       "      <td>16.923953</td>\n",
       "      <td>2514.0</td>\n",
       "      <td>0.0</td>\n",
       "      <td>2196</td>\n",
       "      <td>186.520492</td>\n",
       "      <td>40720.0</td>\n",
       "      <td>0.0</td>\n",
       "      <td>2196</td>\n",
       "    </tr>\n",
       "    <tr>\n",
       "      <th>1</th>\n",
       "      <td>451.100302</td>\n",
       "      <td>133644.0</td>\n",
       "      <td>0.0</td>\n",
       "      <td>3639</td>\n",
       "      <td>3307.446276</td>\n",
       "      <td>827118.0</td>\n",
       "      <td>0.0</td>\n",
       "      <td>3639</td>\n",
       "    </tr>\n",
       "    <tr>\n",
       "      <th rowspan=\"2\" valign=\"top\">shanson</th>\n",
       "      <th>0</th>\n",
       "      <td>4.716667</td>\n",
       "      <td>1712.0</td>\n",
       "      <td>0.0</td>\n",
       "      <td>1200</td>\n",
       "      <td>78.508333</td>\n",
       "      <td>29401.0</td>\n",
       "      <td>0.0</td>\n",
       "      <td>1200</td>\n",
       "    </tr>\n",
       "    <tr>\n",
       "      <th>1</th>\n",
       "      <td>102.644860</td>\n",
       "      <td>12906.0</td>\n",
       "      <td>0.0</td>\n",
       "      <td>856</td>\n",
       "      <td>947.702103</td>\n",
       "      <td>85023.0</td>\n",
       "      <td>0.0</td>\n",
       "      <td>856</td>\n",
       "    </tr>\n",
       "  </tbody>\n",
       "</table>\n",
       "</div>"
      ],
      "text/plain": [
       "                       dislikeCount                          likeCount  \\\n",
       "                               mean       max  min count          mean   \n",
       "music_style is_comment                                                   \n",
       "classic     0            206.125000    6127.0  0.0    32   8253.218750   \n",
       "            1           1360.618868   52892.0  0.0   265  31127.950943   \n",
       "estrada     0              9.333543    2584.0  0.0  1589     98.007552   \n",
       "            1            284.050804  348770.0  0.0  2362   1504.240898   \n",
       "indi        0             69.887344   14244.0  0.0   719   1231.396384   \n",
       "            1            390.062696   32478.0  0.0   638   3869.774295   \n",
       "popsa       0            218.583554   82016.0  0.0   754   1544.502653   \n",
       "            1            957.398525  177367.0  0.0  2577   9232.521925   \n",
       "rap         0           3435.579832  194450.0  0.0   238  22701.928571   \n",
       "            1           4188.108123  640698.0  0.0  1785  27349.193277   \n",
       "rock        0             16.923953    2514.0  0.0  2196    186.520492   \n",
       "            1            451.100302  133644.0  0.0  3639   3307.446276   \n",
       "shanson     0              4.716667    1712.0  0.0  1200     78.508333   \n",
       "            1            102.644860   12906.0  0.0   856    947.702103   \n",
       "\n",
       "                                               \n",
       "                              max   min count  \n",
       "music_style is_comment                         \n",
       "classic     0            250835.0   1.0    32  \n",
       "            1            849676.0   9.0   265  \n",
       "estrada     0             17511.0   0.0  1589  \n",
       "            1            377957.0   0.0  2362  \n",
       "indi        0            389416.0   0.0   719  \n",
       "            1            218384.0   0.0   638  \n",
       "popsa       0            222212.0   0.0   754  \n",
       "            1            698902.0   0.0  2577  \n",
       "rap         0           1297718.0   6.0   238  \n",
       "            1           1686810.0  11.0  1785  \n",
       "rock        0             40720.0   0.0  2196  \n",
       "            1            827118.0   0.0  3639  \n",
       "shanson     0             29401.0   0.0  1200  \n",
       "            1             85023.0   0.0   856  "
      ]
     },
     "execution_count": 45,
     "metadata": {},
     "output_type": "execute_result"
    }
   ],
   "source": [
    "df.groupby([\"music_style\",\"is_comment\"])[[\"dislikeCount\",\"likeCount\"]].agg([\"mean\",\"max\",\"min\",\"count\"])"
   ]
  },
  {
   "cell_type": "markdown",
   "id": "5d1c5e2a",
   "metadata": {},
   "source": [
    "## Apply"
   ]
  },
  {
   "cell_type": "markdown",
   "id": "790e6a1d",
   "metadata": {},
   "source": [
    "Можно применять каждому объекту ячейки одну и ту же функцию. Это можно сделать методом apply. Посчитаем число букв в названии каждого клипа из таблицы:"
   ]
  },
  {
   "cell_type": "code",
   "execution_count": 49,
   "id": "03fc4001",
   "metadata": {},
   "outputs": [
    {
     "data": {
      "text/plain": [
       "0        25\n",
       "1        41\n",
       "2        75\n",
       "3        38\n",
       "4        30\n",
       "         ..\n",
       "19119    35\n",
       "19120    88\n",
       "19121    15\n",
       "19122    65\n",
       "19123    63\n",
       "Name: title, Length: 19124, dtype: int64"
      ]
     },
     "execution_count": 49,
     "metadata": {},
     "output_type": "execute_result"
    }
   ],
   "source": [
    "df.title.apply(len) # Для каждого title применяется функция len"
   ]
  },
  {
   "cell_type": "code",
   "execution_count": 50,
   "id": "f32de9f2",
   "metadata": {},
   "outputs": [
    {
     "data": {
      "text/plain": [
       "35.293871574984315"
      ]
     },
     "execution_count": 50,
     "metadata": {},
     "output_type": "execute_result"
    }
   ],
   "source": [
    "df.title.apply(len).mean()"
   ]
  },
  {
   "cell_type": "markdown",
   "id": "76e84d89",
   "metadata": {},
   "source": [
    "Со своими функциями тоже работает"
   ]
  },
  {
   "cell_type": "code",
   "execution_count": 51,
   "id": "55232f6e",
   "metadata": {},
   "outputs": [
    {
     "data": {
      "text/plain": [
       "0        \"\n",
       "1        \"\n",
       "2        \"\n",
       "3        \"\n",
       "4        \"\n",
       "        ..\n",
       "19119    ♫\n",
       "19120    ❤\n",
       "19121    モ\n",
       "19122    舞\n",
       "19123    🎄\n",
       "Name: title, Length: 19124, dtype: object"
      ]
     },
     "execution_count": 51,
     "metadata": {},
     "output_type": "execute_result"
    }
   ],
   "source": [
    "def my_func(name):\n",
    "    return name[0]\n",
    "\n",
    "df.title.apply(my_func)"
   ]
  },
  {
   "cell_type": "markdown",
   "id": "193152ac",
   "metadata": {},
   "source": [
    "Работает и с лямбда-функциями"
   ]
  },
  {
   "cell_type": "code",
   "execution_count": 52,
   "id": "879d3da0",
   "metadata": {},
   "outputs": [
    {
     "data": {
      "text/plain": [
       "0        \"\n",
       "1        \"\n",
       "2        \"\n",
       "3        \"\n",
       "4        \"\n",
       "        ..\n",
       "19119    ♫\n",
       "19120    ❤\n",
       "19121    モ\n",
       "19122    舞\n",
       "19123    🎄\n",
       "Name: title, Length: 19124, dtype: object"
      ]
     },
     "execution_count": 52,
     "metadata": {},
     "output_type": "execute_result"
    }
   ],
   "source": [
    "df.title.apply(lambda name: name[0])"
   ]
  },
  {
   "cell_type": "markdown",
   "id": "7d76e004",
   "metadata": {},
   "source": [
    "## Гистограммы"
   ]
  },
  {
   "cell_type": "code",
   "execution_count": 56,
   "id": "35c25539",
   "metadata": {},
   "outputs": [
    {
     "data": {
      "image/png": "[encoded data removed]",
      "text/plain": [
       "<Figure size 432x288 with 1 Axes>"
      ]
     },
     "metadata": {},
     "output_type": "display_data"
    }
   ],
   "source": [
    "plt.hist(df[\"video_age\"], bins=100);"
   ]
  },
  {
   "cell_type": "markdown",
   "id": "1a8a5373",
   "metadata": {},
   "source": [
    "Можно сгладить распределения"
   ]
  },
  {
   "cell_type": "code",
   "execution_count": 87,
   "id": "1193a947",
   "metadata": {},
   "outputs": [
    {
     "data": {
      "image/png": "[encoded data removed]",
      "text/plain": [
       "<Figure size 432x288 with 1 Axes>"
      ]
     },
     "metadata": {},
     "output_type": "display_data"
    }
   ],
   "source": [
    "df[\"video_age\"].hist(bins=100, density=True)\n",
    "# kde - ядерная оценка плотности\n",
    "df[\"video_age\"].plot(kind=\"kde\", linewidth=3)\n",
    "\n",
    "plt.xlim(0,4000)\n",
    "plt.title(\"Распределение возраста видео\");"
   ]
  },
  {
   "cell_type": "markdown",
   "id": "fcd671f8",
   "metadata": {},
   "source": [
    "Можно построить несколько гистограмм"
   ]
  },
  {
   "cell_type": "code",
   "execution_count": 78,
   "id": "bfa3bd5e",
   "metadata": {},
   "outputs": [
    {
     "data": {
      "text/plain": [
       "<Figure size 1440x504 with 0 Axes>"
      ]
     },
     "metadata": {},
     "output_type": "display_data"
    },
    {
     "data": {
      "image/png": "[encoded data removed]",
      "text/plain": [
       "<Figure size 432x288 with 4 Axes>"
      ]
     },
     "metadata": {},
     "output_type": "display_data"
    }
   ],
   "source": [
    "plt.figure(figsize=(20,7))\n",
    "columns = [\"viewCount\",\"likeCount\",\"dislikeCount\"]\n",
    "df[columns].hist(log=True);"
   ]
  },
  {
   "cell_type": "markdown",
   "id": "3a8241d4",
   "metadata": {},
   "source": [
    "Можно построить гистограммы для логарифмов показателей. Обычно логарифмирование используют для того, чтобы сгладить выбросы и сделать данные более гладкими. Более того, на осноме логарифма можно придумать преобразование которое нормализует данные."
   ]
  },
  {
   "cell_type": "code",
   "execution_count": 70,
   "id": "5cb08a10",
   "metadata": {},
   "outputs": [
    {
     "data": {
      "image/png": "[encoded data removed]",
      "text/plain": [
       "<Figure size 1440x432 with 4 Axes>"
      ]
     },
     "metadata": {},
     "output_type": "display_data"
    }
   ],
   "source": [
    "df[columns].apply(lambda x: np.log(x+1)).hist(bins = 25, figsize=(20,6));"
   ]
  },
  {
   "cell_type": "markdown",
   "id": "f8ef35b5",
   "metadata": {},
   "source": [
    "## Boxplot"
   ]
  },
  {
   "cell_type": "code",
   "execution_count": 75,
   "id": "261bbb58",
   "metadata": {},
   "outputs": [
    {
     "data": {
      "text/html": [
       "<div>\n",
       "<style scoped>\n",
       "    .dataframe tbody tr th:only-of-type {\n",
       "        vertical-align: middle;\n",
       "    }\n",
       "\n",
       "    .dataframe tbody tr th {\n",
       "        vertical-align: top;\n",
       "    }\n",
       "\n",
       "    .dataframe thead th {\n",
       "        text-align: right;\n",
       "    }\n",
       "</style>\n",
       "<table border=\"1\" class=\"dataframe\">\n",
       "  <thead>\n",
       "    <tr style=\"text-align: right;\">\n",
       "      <th></th>\n",
       "      <th>viewCount</th>\n",
       "      <th>likeCount</th>\n",
       "      <th>dislikeCount</th>\n",
       "      <th>music_style</th>\n",
       "    </tr>\n",
       "  </thead>\n",
       "  <tbody>\n",
       "    <tr>\n",
       "      <th>0</th>\n",
       "      <td>12.275142</td>\n",
       "      <td>7.246368</td>\n",
       "      <td>3.784190</td>\n",
       "      <td>popsa</td>\n",
       "    </tr>\n",
       "    <tr>\n",
       "      <th>1</th>\n",
       "      <td>14.613657</td>\n",
       "      <td>9.262268</td>\n",
       "      <td>6.538140</td>\n",
       "      <td>popsa</td>\n",
       "    </tr>\n",
       "    <tr>\n",
       "      <th>2</th>\n",
       "      <td>10.604801</td>\n",
       "      <td>5.598422</td>\n",
       "      <td>2.397895</td>\n",
       "      <td>popsa</td>\n",
       "    </tr>\n",
       "    <tr>\n",
       "      <th>3</th>\n",
       "      <td>9.384966</td>\n",
       "      <td>5.099866</td>\n",
       "      <td>2.079442</td>\n",
       "      <td>popsa</td>\n",
       "    </tr>\n",
       "    <tr>\n",
       "      <th>4</th>\n",
       "      <td>11.423919</td>\n",
       "      <td>6.393591</td>\n",
       "      <td>2.995732</td>\n",
       "      <td>popsa</td>\n",
       "    </tr>\n",
       "  </tbody>\n",
       "</table>\n",
       "</div>"
      ],
      "text/plain": [
       "   viewCount  likeCount  dislikeCount music_style\n",
       "0  12.275142   7.246368      3.784190       popsa\n",
       "1  14.613657   9.262268      6.538140       popsa\n",
       "2  10.604801   5.598422      2.397895       popsa\n",
       "3   9.384966   5.099866      2.079442       popsa\n",
       "4  11.423919   6.393591      2.995732       popsa"
      ]
     },
     "execution_count": 75,
     "metadata": {},
     "output_type": "execute_result"
    }
   ],
   "source": [
    "df_log = df[columns].apply(lambda x: np.log(x+1))\n",
    "df_log[\"music_style\"] = df[\"music_style\"] # Добавили колонку music_style\n",
    "df_log.head()"
   ]
  },
  {
   "cell_type": "code",
   "execution_count": 76,
   "id": "d84689a7",
   "metadata": {},
   "outputs": [
    {
     "data": {
      "image/png": "[encoded data removed]",
      "text/plain": [
       "<Figure size 1008x504 with 1 Axes>"
      ]
     },
     "metadata": {},
     "output_type": "display_data"
    }
   ],
   "source": [
    "plt.figure(figsize = (14,7))\n",
    "\n",
    "sns.boxplot(x=\"music_style\", y=\"likeCount\", data=df_log)\n",
    "\n",
    "plt.xlabel(\"Музыкальный стиль\")\n",
    "plt.ylabel(\"Логарифм числа лайков\");"
   ]
  },
  {
   "cell_type": "markdown",
   "id": "f4222e3b",
   "metadata": {},
   "source": [
    "Можно построить похожую картину под название виалончель. Она отражает то же самое что и boxplot, но выглядит красиво."
   ]
  },
  {
   "cell_type": "code",
   "execution_count": 77,
   "id": "f4ed2241",
   "metadata": {},
   "outputs": [
    {
     "data": {
      "image/png": "[encoded data removed]",
      "text/plain": [
       "<Figure size 1440x504 with 1 Axes>"
      ]
     },
     "metadata": {},
     "output_type": "display_data"
    }
   ],
   "source": [
    "plt.figure(figsize=(20,7))\n",
    "\n",
    "sns.violinplot(x=\"music_style\", y=\"likeCount\", data=df_log,\n",
    "               inner=\"quartile\")\n",
    "\n",
    "plt.xlabel(\"Музыкальный стиль\")\n",
    "plt.ylabel(\"Логарифм числа лайков\");"
   ]
  },
  {
   "cell_type": "code",
   "execution_count": null,
   "id": "3a046ca2",
   "metadata": {},
   "outputs": [],
   "source": []
  }
 ],
 "metadata": {
  "kernelspec": {
   "display_name": "Python 3 (ipykernel)",
   "language": "python",
   "name": "python3"
  },
  "language_info": {
   "codemirror_mode": {
    "name": "ipython",
    "version": 3
   },
   "file_extension": ".py",
   "mimetype": "text/x-python",
   "name": "python",
   "nbconvert_exporter": "python",
   "pygments_lexer": "ipython3",
   "version": "3.9.7"
  }
 },
 "nbformat": 4,
 "nbformat_minor": 5
}
