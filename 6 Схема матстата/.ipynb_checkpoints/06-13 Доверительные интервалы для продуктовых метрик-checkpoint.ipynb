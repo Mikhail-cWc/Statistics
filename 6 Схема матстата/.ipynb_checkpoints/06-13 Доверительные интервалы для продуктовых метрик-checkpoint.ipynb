{
 "cells": [
  {
   "cell_type": "markdown",
   "id": "c49432c0",
   "metadata": {},
   "source": [
    "# Продуктовые метрики"
   ]
  },
  {
   "cell_type": "code",
   "execution_count": 1,
   "id": "5aabbf1f",
   "metadata": {},
   "outputs": [],
   "source": [
    "import pandas as pd\n",
    "import numpy as np\n",
    "\n",
    "from scipy import stats\n",
    "import matplotlib.pyplot as plt\n",
    "\n",
    "plt.style.use('ggplot')"
   ]
  },
  {
   "cell_type": "code",
   "execution_count": 3,
   "id": "031078c7",
   "metadata": {},
   "outputs": [
    {
     "name": "stdout",
     "output_type": "stream",
     "text": [
      "(177973, 5)\n"
     ]
    },
    {
     "name": "stderr",
     "output_type": "stream",
     "text": [
      "C:\\Users\\misha\\anaconda3\\lib\\site-packages\\IPython\\core\\interactiveshell.py:3444: DtypeWarning: Columns (1) have mixed types.Specify dtype option on import or set low_memory=False.\n",
      "  exec(code_obj, self.user_global_ns, self.user_ns)\n"
     ]
    },
    {
     "data": {
      "text/html": [
       "<div>\n",
       "<style scoped>\n",
       "    .dataframe tbody tr th:only-of-type {\n",
       "        vertical-align: middle;\n",
       "    }\n",
       "\n",
       "    .dataframe tbody tr th {\n",
       "        vertical-align: top;\n",
       "    }\n",
       "\n",
       "    .dataframe thead th {\n",
       "        text-align: right;\n",
       "    }\n",
       "</style>\n",
       "<table border=\"1\" class=\"dataframe\">\n",
       "  <thead>\n",
       "    <tr style=\"text-align: right;\">\n",
       "      <th></th>\n",
       "      <th>date</th>\n",
       "      <th>fullVisitorId</th>\n",
       "      <th>browser</th>\n",
       "      <th>deviceCategory</th>\n",
       "      <th>transactionRevenue</th>\n",
       "    </tr>\n",
       "  </thead>\n",
       "  <tbody>\n",
       "    <tr>\n",
       "      <th>0</th>\n",
       "      <td>2016-08-05</td>\n",
       "      <td>377595677869445136</td>\n",
       "      <td>Chrome</td>\n",
       "      <td>desktop</td>\n",
       "      <td>NaN</td>\n",
       "    </tr>\n",
       "    <tr>\n",
       "      <th>1</th>\n",
       "      <td>2016-08-05</td>\n",
       "      <td>7669007915434203149</td>\n",
       "      <td>Chrome</td>\n",
       "      <td>desktop</td>\n",
       "      <td>NaN</td>\n",
       "    </tr>\n",
       "    <tr>\n",
       "      <th>2</th>\n",
       "      <td>2016-08-05</td>\n",
       "      <td>8513048163701118333</td>\n",
       "      <td>Chrome</td>\n",
       "      <td>desktop</td>\n",
       "      <td>NaN</td>\n",
       "    </tr>\n",
       "    <tr>\n",
       "      <th>3</th>\n",
       "      <td>2016-08-05</td>\n",
       "      <td>8678920290726866310</td>\n",
       "      <td>Chrome</td>\n",
       "      <td>desktop</td>\n",
       "      <td>NaN</td>\n",
       "    </tr>\n",
       "    <tr>\n",
       "      <th>4</th>\n",
       "      <td>2016-08-05</td>\n",
       "      <td>6522495992404435523</td>\n",
       "      <td>Chrome</td>\n",
       "      <td>desktop</td>\n",
       "      <td>NaN</td>\n",
       "    </tr>\n",
       "  </tbody>\n",
       "</table>\n",
       "</div>"
      ],
      "text/plain": [
       "        date        fullVisitorId browser deviceCategory  transactionRevenue\n",
       "0 2016-08-05   377595677869445136  Chrome        desktop                 NaN\n",
       "1 2016-08-05  7669007915434203149  Chrome        desktop                 NaN\n",
       "2 2016-08-05  8513048163701118333  Chrome        desktop                 NaN\n",
       "3 2016-08-05  8678920290726866310  Chrome        desktop                 NaN\n",
       "4 2016-08-05  6522495992404435523  Chrome        desktop                 NaN"
      ]
     },
     "execution_count": 3,
     "metadata": {},
     "output_type": "execute_result"
    }
   ],
   "source": [
    "visits = pd.read_csv('marketing_log.csv', sep='\\t')\n",
    "\n",
    "# изменим тип колонки с датой на время\n",
    "visits['date'] = pd.to_datetime(visits['date'], format='%Y-%m-%d')\n",
    "\n",
    "# отсортируем данные по дате\n",
    "visits.sort_values('date', inplace=True)\n",
    "\n",
    "# Сбросим индексирование таблички\n",
    "visits.reset_index(drop=True, inplace=True)\n",
    "\n",
    "print(visits.shape)\n",
    "visits.head()"
   ]
  },
  {
   "cell_type": "markdown",
   "id": "642f2ed2",
   "metadata": {},
   "source": [
    "## 1. Число пользователей"
   ]
  },
  {
   "cell_type": "code",
   "execution_count": 5,
   "id": "00d868be",
   "metadata": {},
   "outputs": [
    {
     "data": {
      "text/html": [
       "<div>\n",
       "<style scoped>\n",
       "    .dataframe tbody tr th:only-of-type {\n",
       "        vertical-align: middle;\n",
       "    }\n",
       "\n",
       "    .dataframe tbody tr th {\n",
       "        vertical-align: top;\n",
       "    }\n",
       "\n",
       "    .dataframe thead th {\n",
       "        text-align: right;\n",
       "    }\n",
       "</style>\n",
       "<table border=\"1\" class=\"dataframe\">\n",
       "  <thead>\n",
       "    <tr style=\"text-align: right;\">\n",
       "      <th></th>\n",
       "      <th>fullVisitorId</th>\n",
       "    </tr>\n",
       "    <tr>\n",
       "      <th>date</th>\n",
       "      <th></th>\n",
       "    </tr>\n",
       "  </thead>\n",
       "  <tbody>\n",
       "    <tr>\n",
       "      <th>2016-08-05</th>\n",
       "      <td>2492</td>\n",
       "    </tr>\n",
       "    <tr>\n",
       "      <th>2016-08-11</th>\n",
       "      <td>2446</td>\n",
       "    </tr>\n",
       "    <tr>\n",
       "      <th>2016-08-16</th>\n",
       "      <td>2619</td>\n",
       "    </tr>\n",
       "    <tr>\n",
       "      <th>2016-08-20</th>\n",
       "      <td>1555</td>\n",
       "    </tr>\n",
       "    <tr>\n",
       "      <th>2016-08-22</th>\n",
       "      <td>2352</td>\n",
       "    </tr>\n",
       "  </tbody>\n",
       "</table>\n",
       "</div>"
      ],
      "text/plain": [
       "            fullVisitorId\n",
       "date                     \n",
       "2016-08-05           2492\n",
       "2016-08-11           2446\n",
       "2016-08-16           2619\n",
       "2016-08-20           1555\n",
       "2016-08-22           2352"
      ]
     },
     "execution_count": 5,
     "metadata": {},
     "output_type": "execute_result"
    }
   ],
   "source": [
    "day = visits.groupby('date').agg({'fullVisitorId': 'nunique'})\n",
    "day.head()"
   ]
  },
  {
   "cell_type": "code",
   "execution_count": 6,
   "id": "dc78b48f",
   "metadata": {},
   "outputs": [
    {
     "data": {
      "text/plain": [
       "<AxesSubplot:xlabel='date'>"
      ]
     },
     "execution_count": 6,
     "metadata": {},
     "output_type": "execute_result"
    },
    {
     "data": {
      "image/png": "[encoded data removed]",
      "text/plain": [
       "<Figure size 864x432 with 1 Axes>"
      ]
     },
     "metadata": {},
     "output_type": "display_data"
    }
   ],
   "source": [
    "day.sort_index().plot(figsize=(12,6))"
   ]
  },
  {
   "cell_type": "markdown",
   "id": "a267a500",
   "metadata": {},
   "source": [
    "# 2. Возвращаемость (retention)\n",
    "\n",
    "Первый показатель, который обычно интересует бизнес это возвращаемость (retention): \n",
    "\n",
    "* `retention_1`  - вернулся ли игрок после **первого** дня с момента посещения магазина?\n",
    "* `retention_7`  - вернулся ли игрок после **седьмого** дня с момента посещения магазина?"
   ]
  },
  {
   "cell_type": "markdown",
   "id": "0349bc0c",
   "metadata": {},
   "source": [
    "Заведём новую колонку: дата первого появления юзера."
   ]
  },
  {
   "cell_type": "code",
   "execution_count": 7,
   "id": "c78242f6",
   "metadata": {},
   "outputs": [
    {
     "data": {
      "text/html": [
       "<div>\n",
       "<style scoped>\n",
       "    .dataframe tbody tr th:only-of-type {\n",
       "        vertical-align: middle;\n",
       "    }\n",
       "\n",
       "    .dataframe tbody tr th {\n",
       "        vertical-align: top;\n",
       "    }\n",
       "\n",
       "    .dataframe thead th {\n",
       "        text-align: right;\n",
       "    }\n",
       "</style>\n",
       "<table border=\"1\" class=\"dataframe\">\n",
       "  <thead>\n",
       "    <tr style=\"text-align: right;\">\n",
       "      <th></th>\n",
       "      <th>date</th>\n",
       "      <th>fullVisitorId</th>\n",
       "      <th>browser</th>\n",
       "      <th>deviceCategory</th>\n",
       "      <th>transactionRevenue</th>\n",
       "      <th>firstVisit</th>\n",
       "    </tr>\n",
       "  </thead>\n",
       "  <tbody>\n",
       "    <tr>\n",
       "      <th>0</th>\n",
       "      <td>2016-08-05</td>\n",
       "      <td>377595677869445136</td>\n",
       "      <td>Chrome</td>\n",
       "      <td>desktop</td>\n",
       "      <td>NaN</td>\n",
       "      <td>2016-08-05</td>\n",
       "    </tr>\n",
       "    <tr>\n",
       "      <th>1</th>\n",
       "      <td>2016-08-05</td>\n",
       "      <td>7669007915434203149</td>\n",
       "      <td>Chrome</td>\n",
       "      <td>desktop</td>\n",
       "      <td>NaN</td>\n",
       "      <td>2016-08-05</td>\n",
       "    </tr>\n",
       "    <tr>\n",
       "      <th>2</th>\n",
       "      <td>2016-08-05</td>\n",
       "      <td>8513048163701118333</td>\n",
       "      <td>Chrome</td>\n",
       "      <td>desktop</td>\n",
       "      <td>NaN</td>\n",
       "      <td>2016-08-05</td>\n",
       "    </tr>\n",
       "    <tr>\n",
       "      <th>3</th>\n",
       "      <td>2016-08-05</td>\n",
       "      <td>8678920290726866310</td>\n",
       "      <td>Chrome</td>\n",
       "      <td>desktop</td>\n",
       "      <td>NaN</td>\n",
       "      <td>2016-08-05</td>\n",
       "    </tr>\n",
       "    <tr>\n",
       "      <th>4</th>\n",
       "      <td>2016-08-05</td>\n",
       "      <td>6522495992404435523</td>\n",
       "      <td>Chrome</td>\n",
       "      <td>desktop</td>\n",
       "      <td>NaN</td>\n",
       "      <td>2016-08-05</td>\n",
       "    </tr>\n",
       "  </tbody>\n",
       "</table>\n",
       "</div>"
      ],
      "text/plain": [
       "        date        fullVisitorId browser deviceCategory  transactionRevenue  \\\n",
       "0 2016-08-05   377595677869445136  Chrome        desktop                 NaN   \n",
       "1 2016-08-05  7669007915434203149  Chrome        desktop                 NaN   \n",
       "2 2016-08-05  8513048163701118333  Chrome        desktop                 NaN   \n",
       "3 2016-08-05  8678920290726866310  Chrome        desktop                 NaN   \n",
       "4 2016-08-05  6522495992404435523  Chrome        desktop                 NaN   \n",
       "\n",
       "  firstVisit  \n",
       "0 2016-08-05  \n",
       "1 2016-08-05  \n",
       "2 2016-08-05  \n",
       "3 2016-08-05  \n",
       "4 2016-08-05  "
      ]
     },
     "execution_count": 7,
     "metadata": {},
     "output_type": "execute_result"
    }
   ],
   "source": [
    "first_visit = visits.groupby('fullVisitorId').agg({'date':'min'})\n",
    "first_visit.columns = ['firstVisit']\n",
    "\n",
    "visits = visits.join(first_visit, on='fullVisitorId')\n",
    "visits.head()"
   ]
  },
  {
   "cell_type": "markdown",
   "id": "90296ded",
   "metadata": {},
   "source": [
    "Ради интереса посмотрим на то, как распределено число дней между текущим и первым посещениями."
   ]
  },
  {
   "cell_type": "code",
   "execution_count": 9,
   "id": "25e2bf42",
   "metadata": {},
   "outputs": [],
   "source": [
    "visits['daysFromFirstVisit'] = (visits.date - visits.firstVisit).apply(lambda w: w.days)"
   ]
  },
  {
   "cell_type": "code",
   "execution_count": 10,
   "id": "35b42005",
   "metadata": {},
   "outputs": [
    {
     "data": {
      "image/png": "[encoded data removed]",
      "text/plain": [
       "<Figure size 432x288 with 1 Axes>"
      ]
     },
     "metadata": {},
     "output_type": "display_data"
    }
   ],
   "source": [
    "visits['daysFromFirstVisit'].hist(bins=50);"
   ]
  },
  {
   "cell_type": "markdown",
   "id": "9dc922ce",
   "metadata": {},
   "source": [
    "Видно, что чаще всего первое посещение оказывается последним."
   ]
  },
  {
   "cell_type": "code",
   "execution_count": 11,
   "id": "f83f84a7",
   "metadata": {},
   "outputs": [
    {
     "data": {
      "image/png": "[encoded data removed]",
      "text/plain": [
       "<Figure size 432x288 with 1 Axes>"
      ]
     },
     "metadata": {},
     "output_type": "display_data"
    }
   ],
   "source": [
    "visits[visits['daysFromFirstVisit'] > 20]['daysFromFirstVisit'].hist(bins=50);"
   ]
  },
  {
   "cell_type": "markdown",
   "id": "b5b15fc7",
   "metadata": {},
   "source": [
    "Найдём для каждого человека разность в днях между первым и последним посещениями: "
   ]
  },
  {
   "cell_type": "code",
   "execution_count": 12,
   "id": "70e6da88",
   "metadata": {},
   "outputs": [
    {
     "data": {
      "text/html": [
       "<div>\n",
       "<style scoped>\n",
       "    .dataframe tbody tr th:only-of-type {\n",
       "        vertical-align: middle;\n",
       "    }\n",
       "\n",
       "    .dataframe tbody tr th {\n",
       "        vertical-align: top;\n",
       "    }\n",
       "\n",
       "    .dataframe thead th {\n",
       "        text-align: right;\n",
       "    }\n",
       "</style>\n",
       "<table border=\"1\" class=\"dataframe\">\n",
       "  <thead>\n",
       "    <tr style=\"text-align: right;\">\n",
       "      <th></th>\n",
       "      <th>firstVisit</th>\n",
       "      <th>fullVisitorId</th>\n",
       "      <th>daysFromFirstVisit</th>\n",
       "    </tr>\n",
       "  </thead>\n",
       "  <tbody>\n",
       "    <tr>\n",
       "      <th>0</th>\n",
       "      <td>2016-08-05</td>\n",
       "      <td>1000971553963693366</td>\n",
       "      <td>0</td>\n",
       "    </tr>\n",
       "    <tr>\n",
       "      <th>1</th>\n",
       "      <td>2016-08-05</td>\n",
       "      <td>1006834109386002658</td>\n",
       "      <td>0</td>\n",
       "    </tr>\n",
       "    <tr>\n",
       "      <th>2</th>\n",
       "      <td>2016-08-05</td>\n",
       "      <td>101246539776970727</td>\n",
       "      <td>0</td>\n",
       "    </tr>\n",
       "    <tr>\n",
       "      <th>3</th>\n",
       "      <td>2016-08-05</td>\n",
       "      <td>1013171119747358712</td>\n",
       "      <td>0</td>\n",
       "    </tr>\n",
       "    <tr>\n",
       "      <th>4</th>\n",
       "      <td>2016-08-05</td>\n",
       "      <td>1015220001673280213</td>\n",
       "      <td>0</td>\n",
       "    </tr>\n",
       "  </tbody>\n",
       "</table>\n",
       "</div>"
      ],
      "text/plain": [
       "  firstVisit        fullVisitorId  daysFromFirstVisit\n",
       "0 2016-08-05  1000971553963693366                   0\n",
       "1 2016-08-05  1006834109386002658                   0\n",
       "2 2016-08-05   101246539776970727                   0\n",
       "3 2016-08-05  1013171119747358712                   0\n",
       "4 2016-08-05  1015220001673280213                   0"
      ]
     },
     "execution_count": 12,
     "metadata": {},
     "output_type": "execute_result"
    }
   ],
   "source": [
    "firsVisits = visits.groupby(['firstVisit', 'fullVisitorId']).agg({'daysFromFirstVisit': 'max'}).reset_index()\n",
    "firsVisits.head()"
   ]
  },
  {
   "cell_type": "code",
   "execution_count": 13,
   "id": "c6be75be",
   "metadata": {},
   "outputs": [
    {
     "data": {
      "text/plain": [
       "(177973, 7)"
      ]
     },
     "execution_count": 13,
     "metadata": {},
     "output_type": "execute_result"
    }
   ],
   "source": [
    "visits.shape"
   ]
  },
  {
   "cell_type": "code",
   "execution_count": 14,
   "id": "2882e734",
   "metadata": {},
   "outputs": [
    {
     "data": {
      "text/plain": [
       "(159518, 3)"
      ]
     },
     "execution_count": 14,
     "metadata": {},
     "output_type": "execute_result"
    }
   ],
   "source": [
    "firsVisits.shape"
   ]
  },
  {
   "cell_type": "markdown",
   "id": "f0861d15",
   "metadata": {},
   "source": [
    "Как посчитать `retention_7`?  Если `daysFromFirstVisit` оказывается больше $7$, значит человек вернулся более, чем через $7$ дней после первого посещения. Такие люди нас и интересуют. Найдём их количество. "
   ]
  },
  {
   "cell_type": "code",
   "execution_count": 15,
   "id": "15fbc642",
   "metadata": {},
   "outputs": [
    {
     "data": {
      "text/html": [
       "<div>\n",
       "<style scoped>\n",
       "    .dataframe tbody tr th:only-of-type {\n",
       "        vertical-align: middle;\n",
       "    }\n",
       "\n",
       "    .dataframe tbody tr th {\n",
       "        vertical-align: top;\n",
       "    }\n",
       "\n",
       "    .dataframe thead th {\n",
       "        text-align: right;\n",
       "    }\n",
       "</style>\n",
       "<table border=\"1\" class=\"dataframe\">\n",
       "  <thead>\n",
       "    <tr style=\"text-align: right;\">\n",
       "      <th></th>\n",
       "      <th>success</th>\n",
       "      <th>total</th>\n",
       "    </tr>\n",
       "    <tr>\n",
       "      <th>firstVisit</th>\n",
       "      <th></th>\n",
       "      <th></th>\n",
       "    </tr>\n",
       "  </thead>\n",
       "  <tbody>\n",
       "    <tr>\n",
       "      <th>2016-08-05</th>\n",
       "      <td>108</td>\n",
       "      <td>2492</td>\n",
       "    </tr>\n",
       "    <tr>\n",
       "      <th>2016-08-11</th>\n",
       "      <td>103</td>\n",
       "      <td>2413</td>\n",
       "    </tr>\n",
       "    <tr>\n",
       "      <th>2016-08-16</th>\n",
       "      <td>102</td>\n",
       "      <td>2543</td>\n",
       "    </tr>\n",
       "    <tr>\n",
       "      <th>2016-08-20</th>\n",
       "      <td>35</td>\n",
       "      <td>1532</td>\n",
       "    </tr>\n",
       "    <tr>\n",
       "      <th>2016-08-22</th>\n",
       "      <td>92</td>\n",
       "      <td>2234</td>\n",
       "    </tr>\n",
       "  </tbody>\n",
       "</table>\n",
       "</div>"
      ],
      "text/plain": [
       "            success  total\n",
       "firstVisit                \n",
       "2016-08-05      108   2492\n",
       "2016-08-11      103   2413\n",
       "2016-08-16      102   2543\n",
       "2016-08-20       35   1532\n",
       "2016-08-22       92   2234"
      ]
     },
     "execution_count": 15,
     "metadata": {},
     "output_type": "execute_result"
    }
   ],
   "source": [
    "retention = (\n",
    "    firsVisits.groupby('firstVisit')['daysFromFirstVisit']\n",
    "    .agg([ # больше 1 => вернулся хотябы через день\n",
    "        (\"success\", lambda w: sum(w >= 7)),\n",
    "        (\"total\", \"count\") # сколько всего людей зашли в эту дату\n",
    "    ])\n",
    ")\n",
    "\n",
    "retention.head()"
   ]
  },
  {
   "cell_type": "code",
   "execution_count": 16,
   "id": "6553c33f",
   "metadata": {},
   "outputs": [
    {
     "data": {
      "image/png": "[encoded data removed]",
      "text/plain": [
       "<Figure size 1008x432 with 1 Axes>"
      ]
     },
     "metadata": {},
     "output_type": "display_data"
    }
   ],
   "source": [
    "retention['retention'] = retention['success']/retention['total']\n",
    "retention['retention'][30:120].plot(figsize=(14,6));"
   ]
  },
  {
   "cell_type": "markdown",
   "id": "a210d0fd",
   "metadata": {},
   "source": [
    "Есть много точечных оценок доли людей, которая возвращается для каждой даты. Но этого мало, каждая точка строится по разному числу наблюдений и нам хотелось бы понимать насколько оценка точная. Возвращаемость - это доля. Значит можно построить для неё доверителльный интервал с помощью ЦПТ:\n",
    "\n",
    "$$\n",
    "\\hat p \\pm z_{1 - \\frac{\\alpha}{2}} \\cdot \\sqrt{\\frac{\\hat p \\cdot (1 - \\hat p)}{n}} \n",
    "$$"
   ]
  },
  {
   "cell_type": "code",
   "execution_count": 17,
   "id": "9086ef42",
   "metadata": {},
   "outputs": [
    {
     "data": {
      "text/html": [
       "<div>\n",
       "<style scoped>\n",
       "    .dataframe tbody tr th:only-of-type {\n",
       "        vertical-align: middle;\n",
       "    }\n",
       "\n",
       "    .dataframe tbody tr th {\n",
       "        vertical-align: top;\n",
       "    }\n",
       "\n",
       "    .dataframe thead th {\n",
       "        text-align: right;\n",
       "    }\n",
       "</style>\n",
       "<table border=\"1\" class=\"dataframe\">\n",
       "  <thead>\n",
       "    <tr style=\"text-align: right;\">\n",
       "      <th></th>\n",
       "      <th>success</th>\n",
       "      <th>total</th>\n",
       "      <th>retention</th>\n",
       "    </tr>\n",
       "    <tr>\n",
       "      <th>firstVisit</th>\n",
       "      <th></th>\n",
       "      <th></th>\n",
       "      <th></th>\n",
       "    </tr>\n",
       "  </thead>\n",
       "  <tbody>\n",
       "    <tr>\n",
       "      <th>2016-08-05</th>\n",
       "      <td>108</td>\n",
       "      <td>2492</td>\n",
       "      <td>0.043339</td>\n",
       "    </tr>\n",
       "    <tr>\n",
       "      <th>2016-08-11</th>\n",
       "      <td>103</td>\n",
       "      <td>2413</td>\n",
       "      <td>0.042685</td>\n",
       "    </tr>\n",
       "    <tr>\n",
       "      <th>2016-08-16</th>\n",
       "      <td>102</td>\n",
       "      <td>2543</td>\n",
       "      <td>0.040110</td>\n",
       "    </tr>\n",
       "    <tr>\n",
       "      <th>2016-08-20</th>\n",
       "      <td>35</td>\n",
       "      <td>1532</td>\n",
       "      <td>0.022846</td>\n",
       "    </tr>\n",
       "    <tr>\n",
       "      <th>2016-08-22</th>\n",
       "      <td>92</td>\n",
       "      <td>2234</td>\n",
       "      <td>0.041182</td>\n",
       "    </tr>\n",
       "  </tbody>\n",
       "</table>\n",
       "</div>"
      ],
      "text/plain": [
       "            success  total  retention\n",
       "firstVisit                           \n",
       "2016-08-05      108   2492   0.043339\n",
       "2016-08-11      103   2413   0.042685\n",
       "2016-08-16      102   2543   0.040110\n",
       "2016-08-20       35   1532   0.022846\n",
       "2016-08-22       92   2234   0.041182"
      ]
     },
     "execution_count": 17,
     "metadata": {},
     "output_type": "execute_result"
    }
   ],
   "source": [
    "retention.head()"
   ]
  },
  {
   "cell_type": "code",
   "execution_count": 18,
   "id": "19b03575",
   "metadata": {},
   "outputs": [
    {
     "data": {
      "text/html": [
       "<div>\n",
       "<style scoped>\n",
       "    .dataframe tbody tr th:only-of-type {\n",
       "        vertical-align: middle;\n",
       "    }\n",
       "\n",
       "    .dataframe tbody tr th {\n",
       "        vertical-align: top;\n",
       "    }\n",
       "\n",
       "    .dataframe thead th {\n",
       "        text-align: right;\n",
       "    }\n",
       "</style>\n",
       "<table border=\"1\" class=\"dataframe\">\n",
       "  <thead>\n",
       "    <tr style=\"text-align: right;\">\n",
       "      <th></th>\n",
       "      <th>success</th>\n",
       "      <th>total</th>\n",
       "      <th>retention</th>\n",
       "      <th>se</th>\n",
       "      <th>left</th>\n",
       "      <th>right</th>\n",
       "    </tr>\n",
       "    <tr>\n",
       "      <th>firstVisit</th>\n",
       "      <th></th>\n",
       "      <th></th>\n",
       "      <th></th>\n",
       "      <th></th>\n",
       "      <th></th>\n",
       "      <th></th>\n",
       "    </tr>\n",
       "  </thead>\n",
       "  <tbody>\n",
       "    <tr>\n",
       "      <th>2016-08-05</th>\n",
       "      <td>108</td>\n",
       "      <td>2492</td>\n",
       "      <td>0.043339</td>\n",
       "      <td>0.004079</td>\n",
       "      <td>0.035344</td>\n",
       "      <td>0.051333</td>\n",
       "    </tr>\n",
       "    <tr>\n",
       "      <th>2016-08-11</th>\n",
       "      <td>103</td>\n",
       "      <td>2413</td>\n",
       "      <td>0.042685</td>\n",
       "      <td>0.004115</td>\n",
       "      <td>0.034620</td>\n",
       "      <td>0.050751</td>\n",
       "    </tr>\n",
       "    <tr>\n",
       "      <th>2016-08-16</th>\n",
       "      <td>102</td>\n",
       "      <td>2543</td>\n",
       "      <td>0.040110</td>\n",
       "      <td>0.003891</td>\n",
       "      <td>0.032484</td>\n",
       "      <td>0.047736</td>\n",
       "    </tr>\n",
       "    <tr>\n",
       "      <th>2016-08-20</th>\n",
       "      <td>35</td>\n",
       "      <td>1532</td>\n",
       "      <td>0.022846</td>\n",
       "      <td>0.003817</td>\n",
       "      <td>0.015364</td>\n",
       "      <td>0.030328</td>\n",
       "    </tr>\n",
       "    <tr>\n",
       "      <th>2016-08-22</th>\n",
       "      <td>92</td>\n",
       "      <td>2234</td>\n",
       "      <td>0.041182</td>\n",
       "      <td>0.004204</td>\n",
       "      <td>0.032942</td>\n",
       "      <td>0.049422</td>\n",
       "    </tr>\n",
       "  </tbody>\n",
       "</table>\n",
       "</div>"
      ],
      "text/plain": [
       "            success  total  retention        se      left     right\n",
       "firstVisit                                                         \n",
       "2016-08-05      108   2492   0.043339  0.004079  0.035344  0.051333\n",
       "2016-08-11      103   2413   0.042685  0.004115  0.034620  0.050751\n",
       "2016-08-16      102   2543   0.040110  0.003891  0.032484  0.047736\n",
       "2016-08-20       35   1532   0.022846  0.003817  0.015364  0.030328\n",
       "2016-08-22       92   2234   0.041182  0.004204  0.032942  0.049422"
      ]
     },
     "execution_count": 18,
     "metadata": {},
     "output_type": "execute_result"
    }
   ],
   "source": [
    "alpha = 0.05\n",
    "\n",
    "# стандартная ошибка\n",
    "retention['se'] = np.sqrt(retention['retention'] * (1 - retention['retention']) / retention['total'])\n",
    "\n",
    "# границы интервалов\n",
    "q = stats.norm.ppf(1 - alpha/2)\n",
    "retention['left'] = retention['retention'] - q * retention['se']\n",
    "retention['right'] = retention['retention'] + q * retention['se']\n",
    "\n",
    "retention.head()"
   ]
  },
  {
   "cell_type": "code",
   "execution_count": 19,
   "id": "b9b3bdcc",
   "metadata": {},
   "outputs": [
    {
     "data": {
      "image/png": "[encoded data removed]",
      "text/plain": [
       "<Figure size 1008x432 with 1 Axes>"
      ]
     },
     "metadata": {},
     "output_type": "display_data"
    }
   ],
   "source": [
    "df = retention[30:120]\n",
    "\n",
    "df['retention'].plot(figsize=(14,6))\n",
    "plt.fill_between(df.index, df['left'], df['right'], facecolor='blue', alpha=0.2, interpolate=True)\n",
    "plt.show()"
   ]
  },
  {
   "cell_type": "markdown",
   "id": "d547fe97",
   "metadata": {},
   "source": [
    "# 3. Средний доход с пользователя (RPU)\n",
    "\n",
    "Посмотрим как часто люди покупают."
   ]
  },
  {
   "cell_type": "code",
   "execution_count": 20,
   "id": "f17371b8",
   "metadata": {},
   "outputs": [
    {
     "data": {
      "text/plain": [
       "1.3091873486427708"
      ]
     },
     "execution_count": 20,
     "metadata": {},
     "output_type": "execute_result"
    }
   ],
   "source": [
    "100*(1 - visits.transactionRevenue.isnull().sum()/visits.shape[0])"
   ]
  },
  {
   "cell_type": "markdown",
   "id": "3cf4a6c1",
   "metadata": {},
   "source": [
    "Всего лишь в $1\\%$ случаев. Это очень редко, но с этой правдой жизни ничего не поделаешь. Оставим только тех, кто правда что-то покупал."
   ]
  },
  {
   "cell_type": "code",
   "execution_count": 21,
   "id": "5ff01a33",
   "metadata": {},
   "outputs": [
    {
     "data": {
      "text/plain": [
       "(2330, 8)"
      ]
     },
     "execution_count": 21,
     "metadata": {},
     "output_type": "execute_result"
    }
   ],
   "source": [
    "visits['month'] = visits['date'].apply(lambda w: w.strftime('%Y-%m'))\n",
    "\n",
    "purchases = visits.dropna(subset=['transactionRevenue'])\n",
    "purchases.shape"
   ]
  },
  {
   "cell_type": "markdown",
   "id": "abab2c75",
   "metadata": {},
   "source": [
    "Посмотрим на распределение стоимостей покупок"
   ]
  },
  {
   "cell_type": "code",
   "execution_count": 22,
   "id": "9e93db7d",
   "metadata": {},
   "outputs": [
    {
     "data": {
      "image/png": "[encoded data removed]",
      "text/plain": [
       "<Figure size 432x288 with 1 Axes>"
      ]
     },
     "metadata": {},
     "output_type": "display_data"
    }
   ],
   "source": [
    "purchases.transactionRevenue.hist(bins=50);"
   ]
  },
  {
   "cell_type": "code",
   "execution_count": 23,
   "id": "c33e1dd7",
   "metadata": {},
   "outputs": [
    {
     "data": {
      "text/plain": [
       "1194364900.0000002"
      ]
     },
     "execution_count": 23,
     "metadata": {},
     "output_type": "execute_result"
    }
   ],
   "source": [
    "q99 = purchases.transactionRevenue.quantile(0.99)\n",
    "q99"
   ]
  },
  {
   "cell_type": "code",
   "execution_count": 24,
   "id": "aefa90c7",
   "metadata": {},
   "outputs": [
    {
     "data": {
      "text/plain": [
       "<AxesSubplot:>"
      ]
     },
     "execution_count": 24,
     "metadata": {},
     "output_type": "execute_result"
    },
    {
     "data": {
      "image/png": "[encoded data removed]",
      "text/plain": [
       "<Figure size 432x288 with 1 Axes>"
      ]
     },
     "metadata": {},
     "output_type": "display_data"
    }
   ],
   "source": [
    "purchases = purchases[purchases['transactionRevenue'] < q99]\n",
    "purchases['transactionRevenue'].hist(bins=50)"
   ]
  },
  {
   "cell_type": "markdown",
   "id": "b772e3d2",
   "metadata": {},
   "source": [
    "Посчитаем среднее, стандартное отклонение и число наблюдений для каждого месяца. "
   ]
  },
  {
   "cell_type": "code",
   "execution_count": 25,
   "id": "21c9ba9d",
   "metadata": {},
   "outputs": [],
   "source": [
    "datePurchases = (\n",
    "    visits.groupby(['month'])['transactionRevenue']\n",
    "    .agg([('rpu', 'mean'),\n",
    "          ('count', 'count'),\n",
    "          ('se', 'std')])\n",
    "    .reset_index()\n",
    ")"
   ]
  },
  {
   "cell_type": "code",
   "execution_count": 26,
   "id": "98c174bf",
   "metadata": {},
   "outputs": [
    {
     "data": {
      "text/html": [
       "<div>\n",
       "<style scoped>\n",
       "    .dataframe tbody tr th:only-of-type {\n",
       "        vertical-align: middle;\n",
       "    }\n",
       "\n",
       "    .dataframe tbody tr th {\n",
       "        vertical-align: top;\n",
       "    }\n",
       "\n",
       "    .dataframe thead th {\n",
       "        text-align: right;\n",
       "    }\n",
       "</style>\n",
       "<table border=\"1\" class=\"dataframe\">\n",
       "  <thead>\n",
       "    <tr style=\"text-align: right;\">\n",
       "      <th></th>\n",
       "      <th>month</th>\n",
       "      <th>rpu</th>\n",
       "      <th>count</th>\n",
       "      <th>se</th>\n",
       "    </tr>\n",
       "  </thead>\n",
       "  <tbody>\n",
       "    <tr>\n",
       "      <th>0</th>\n",
       "      <td>2016-08</td>\n",
       "      <td>1.403108e+08</td>\n",
       "      <td>302</td>\n",
       "      <td>2.576639e+08</td>\n",
       "    </tr>\n",
       "    <tr>\n",
       "      <th>1</th>\n",
       "      <td>2016-09</td>\n",
       "      <td>1.596071e+08</td>\n",
       "      <td>63</td>\n",
       "      <td>2.466225e+08</td>\n",
       "    </tr>\n",
       "    <tr>\n",
       "      <th>2</th>\n",
       "      <td>2016-10</td>\n",
       "      <td>1.495286e+08</td>\n",
       "      <td>154</td>\n",
       "      <td>2.847047e+08</td>\n",
       "    </tr>\n",
       "    <tr>\n",
       "      <th>3</th>\n",
       "      <td>2016-11</td>\n",
       "      <td>1.582393e+08</td>\n",
       "      <td>298</td>\n",
       "      <td>3.637715e+08</td>\n",
       "    </tr>\n",
       "    <tr>\n",
       "      <th>4</th>\n",
       "      <td>2016-12</td>\n",
       "      <td>1.078180e+08</td>\n",
       "      <td>249</td>\n",
       "      <td>2.386044e+08</td>\n",
       "    </tr>\n",
       "  </tbody>\n",
       "</table>\n",
       "</div>"
      ],
      "text/plain": [
       "     month           rpu  count            se\n",
       "0  2016-08  1.403108e+08    302  2.576639e+08\n",
       "1  2016-09  1.596071e+08     63  2.466225e+08\n",
       "2  2016-10  1.495286e+08    154  2.847047e+08\n",
       "3  2016-11  1.582393e+08    298  3.637715e+08\n",
       "4  2016-12  1.078180e+08    249  2.386044e+08"
      ]
     },
     "execution_count": 26,
     "metadata": {},
     "output_type": "execute_result"
    }
   ],
   "source": [
    "datePurchases.head()"
   ]
  },
  {
   "cell_type": "markdown",
   "id": "3a433248",
   "metadata": {},
   "source": [
    "Наконец, воспользуемся формулой для строительства доверительного интервала для среднего: \n",
    "\n",
    "$$\n",
    "\\hat \\mu \\pm z_{1 - \\frac{\\alpha}{2}} \\cdot \\sqrt{\\frac{\\hat{\\sigma}^2}{n}} \n",
    "$$"
   ]
  },
  {
   "cell_type": "code",
   "execution_count": 27,
   "id": "4538cbc7",
   "metadata": {},
   "outputs": [
    {
     "data": {
      "text/html": [
       "<div>\n",
       "<style scoped>\n",
       "    .dataframe tbody tr th:only-of-type {\n",
       "        vertical-align: middle;\n",
       "    }\n",
       "\n",
       "    .dataframe tbody tr th {\n",
       "        vertical-align: top;\n",
       "    }\n",
       "\n",
       "    .dataframe thead th {\n",
       "        text-align: right;\n",
       "    }\n",
       "</style>\n",
       "<table border=\"1\" class=\"dataframe\">\n",
       "  <thead>\n",
       "    <tr style=\"text-align: right;\">\n",
       "      <th></th>\n",
       "      <th>month</th>\n",
       "      <th>rpu</th>\n",
       "      <th>count</th>\n",
       "      <th>se</th>\n",
       "      <th>left</th>\n",
       "      <th>right</th>\n",
       "    </tr>\n",
       "  </thead>\n",
       "  <tbody>\n",
       "    <tr>\n",
       "      <th>8</th>\n",
       "      <td>2017-04</td>\n",
       "      <td>1.112212e+08</td>\n",
       "      <td>221</td>\n",
       "      <td>2.348075e+08</td>\n",
       "      <td>8.026381e+07</td>\n",
       "      <td>1.421785e+08</td>\n",
       "    </tr>\n",
       "    <tr>\n",
       "      <th>9</th>\n",
       "      <td>2017-05</td>\n",
       "      <td>9.395333e+07</td>\n",
       "      <td>216</td>\n",
       "      <td>1.220328e+08</td>\n",
       "      <td>7.767920e+07</td>\n",
       "      <td>1.102275e+08</td>\n",
       "    </tr>\n",
       "    <tr>\n",
       "      <th>10</th>\n",
       "      <td>2017-06</td>\n",
       "      <td>1.163418e+08</td>\n",
       "      <td>307</td>\n",
       "      <td>3.751088e+08</td>\n",
       "      <td>7.438173e+07</td>\n",
       "      <td>1.583019e+08</td>\n",
       "    </tr>\n",
       "    <tr>\n",
       "      <th>11</th>\n",
       "      <td>2017-07</td>\n",
       "      <td>5.428286e+07</td>\n",
       "      <td>7</td>\n",
       "      <td>1.379814e+07</td>\n",
       "      <td>4.406124e+07</td>\n",
       "      <td>6.450447e+07</td>\n",
       "    </tr>\n",
       "    <tr>\n",
       "      <th>12</th>\n",
       "      <td>2017-08</td>\n",
       "      <td>1.931381e+08</td>\n",
       "      <td>43</td>\n",
       "      <td>4.787008e+08</td>\n",
       "      <td>5.005845e+07</td>\n",
       "      <td>3.362178e+08</td>\n",
       "    </tr>\n",
       "  </tbody>\n",
       "</table>\n",
       "</div>"
      ],
      "text/plain": [
       "      month           rpu  count            se          left         right\n",
       "8   2017-04  1.112212e+08    221  2.348075e+08  8.026381e+07  1.421785e+08\n",
       "9   2017-05  9.395333e+07    216  1.220328e+08  7.767920e+07  1.102275e+08\n",
       "10  2017-06  1.163418e+08    307  3.751088e+08  7.438173e+07  1.583019e+08\n",
       "11  2017-07  5.428286e+07      7  1.379814e+07  4.406124e+07  6.450447e+07\n",
       "12  2017-08  1.931381e+08     43  4.787008e+08  5.005845e+07  3.362178e+08"
      ]
     },
     "execution_count": 27,
     "metadata": {},
     "output_type": "execute_result"
    }
   ],
   "source": [
    "alpha = 0.05\n",
    "\n",
    "# границы интервалов\n",
    "q = stats.norm.ppf(1 - alpha/2)\n",
    "datePurchases['left'] = datePurchases['rpu'] - q * datePurchases['se']/np.sqrt(datePurchases['count'])\n",
    "datePurchases['right'] = datePurchases['rpu'] + q * datePurchases['se']/np.sqrt(datePurchases['count'])\n",
    "\n",
    "datePurchases.tail()"
   ]
  },
  {
   "cell_type": "markdown",
   "id": "b10cf2e9",
   "metadata": {},
   "source": [
    "Изобразим динамику RPU выручки на графике: "
   ]
  },
  {
   "cell_type": "code",
   "execution_count": 28,
   "id": "472a7876",
   "metadata": {},
   "outputs": [
    {
     "data": {
      "image/png": "[encoded data removed]",
      "text/plain": [
       "<Figure size 1008x432 with 1 Axes>"
      ]
     },
     "metadata": {},
     "output_type": "display_data"
    }
   ],
   "source": [
    "datePurchases['rpu'].plot(figsize=(14,6))\n",
    "plt.fill_between(datePurchases['month'], datePurchases['left'], datePurchases['right'], \n",
    "                 facecolor='blue', alpha=0.2, interpolate=True)\n",
    "plt.show()"
   ]
  },
  {
   "cell_type": "code",
   "execution_count": null,
   "id": "2665438b",
   "metadata": {},
   "outputs": [],
   "source": []
  }
 ],
 "metadata": {
  "kernelspec": {
   "display_name": "Python 3 (ipykernel)",
   "language": "python",
   "name": "python3"
  },
  "language_info": {
   "codemirror_mode": {
    "name": "ipython",
    "version": 3
   },
   "file_extension": ".py",
   "mimetype": "text/x-python",
   "name": "python",
   "nbconvert_exporter": "python",
   "pygments_lexer": "ipython3",
   "version": "3.9.7"
  }
 },
 "nbformat": 4,
 "nbformat_minor": 5
}
